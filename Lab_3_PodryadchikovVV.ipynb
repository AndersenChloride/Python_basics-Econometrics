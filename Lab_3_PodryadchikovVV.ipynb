{
  "nbformat": 4,
  "nbformat_minor": 0,
  "metadata": {
    "colab": {
      "provenance": [],
      "toc_visible": true
    },
    "kernelspec": {
      "name": "python3",
      "display_name": "Python 3"
    },
    "language_info": {
      "name": "python"
    }
  },
  "cells": [
    {
      "cell_type": "markdown",
      "source": [
        "# **Тема 1**. Векторы\n"
      ],
      "metadata": {
        "id": "2_wKWGD2IQVp"
      }
    },
    {
      "cell_type": "markdown",
      "source": [
        "\n",
        "1. Инициализировать два вектора a и b заданной длины n (n>3).\n"
      ],
      "metadata": {
        "id": "IQSG3Ri7S05d"
      }
    },
    {
      "cell_type": "code",
      "execution_count": null,
      "metadata": {
        "colab": {
          "base_uri": "https://localhost:8080/"
        },
        "id": "dUfRxDt8_c8P",
        "outputId": "543ff2d8-5aba-4fe7-c328-ad93463f5cd8"
      },
      "outputs": [
        {
          "output_type": "stream",
          "name": "stdout",
          "text": [
            "[1 2 3 5]\n",
            "[5 6 7 8]\n"
          ]
        }
      ],
      "source": [
        "import numpy as np\n",
        "\n",
        "test1 = [1,2,3,5]\n",
        "test2 = [5,6,7,8]\n",
        "a = np.array(test1)\n",
        "b = np.array(test2)\n",
        "print(a)\n",
        "print(b)\n"
      ]
    },
    {
      "cell_type": "markdown",
      "source": [
        "2. Выполнить операции над векторами\n",
        "*   поэлементное сложение\n",
        "*   поэлементное вычитание\n",
        "*   поэлементное умножение\n",
        "*   поэлементное деление\n",
        "*   скалярное произведение векторов\n",
        "\n",
        "\n",
        "\n"
      ],
      "metadata": {
        "id": "KWpAVCwKJVue"
      }
    },
    {
      "cell_type": "code",
      "source": [
        "print(a+b)\n",
        "print(a-b)\n",
        "print(a*b)\n",
        "print(a/b)\n",
        "print(np.dot(a,b))"
      ],
      "metadata": {
        "colab": {
          "base_uri": "https://localhost:8080/"
        },
        "id": "uhA8ZBHiKWS8",
        "outputId": "c39ee6aa-3893-43f4-8f1e-7e69aa112775"
      },
      "execution_count": null,
      "outputs": [
        {
          "output_type": "stream",
          "name": "stdout",
          "text": [
            "[ 6  8 10 13]\n",
            "[-4 -4 -4 -3]\n",
            "[ 5 12 21 40]\n",
            "[0.2        0.33333333 0.42857143 0.625     ]\n",
            "78\n"
          ]
        }
      ]
    },
    {
      "cell_type": "markdown",
      "source": [
        "3. Определить евклидовые нормы для заданнных векторов a и b\n"
      ],
      "metadata": {
        "id": "ZoWVtzuNLq7X"
      }
    },
    {
      "cell_type": "code",
      "source": [
        "print(np.hypot(a,b))"
      ],
      "metadata": {
        "colab": {
          "base_uri": "https://localhost:8080/"
        },
        "id": "0xtFPZR_MaW3",
        "outputId": "fb36ef73-cb4f-4b48-a267-83cc969c5339"
      },
      "execution_count": null,
      "outputs": [
        {
          "output_type": "stream",
          "name": "stdout",
          "text": [
            "[5.09901951 6.32455532 7.61577311 9.43398113]\n"
          ]
        }
      ]
    },
    {
      "cell_type": "markdown",
      "source": [
        "4. Определить косинус угла (косинусная мера похожести) для заданнных векторов a и b."
      ],
      "metadata": {
        "id": "JDszqIIeMiZe"
      }
    },
    {
      "cell_type": "code",
      "source": [
        "sim = np.dot(a, b)/(np.linalg.norm(a)*np.linalg.norm(b))\n",
        "print(sim)"
      ],
      "metadata": {
        "colab": {
          "base_uri": "https://localhost:8080/"
        },
        "id": "L1VmuasSM5Vn",
        "outputId": "c555e889-b156-43a3-8e33-93fa8f142021"
      },
      "execution_count": null,
      "outputs": [
        {
          "output_type": "stream",
          "name": "stdout",
          "text": [
            "0.9468641529479986\n"
          ]
        }
      ]
    },
    {
      "cell_type": "markdown",
      "source": [
        "5. Определить косинусное расстояние для заданнных векторов a и b.\n"
      ],
      "metadata": {
        "id": "EHH_tpHsMzXM"
      }
    },
    {
      "cell_type": "code",
      "source": [
        "dis = 1 - sim\n",
        "print(dis)"
      ],
      "metadata": {
        "colab": {
          "base_uri": "https://localhost:8080/"
        },
        "id": "uB4S4jkEM5p3",
        "outputId": "f6994022-1ccc-4e38-e902-f247da0d0fae"
      },
      "execution_count": null,
      "outputs": [
        {
          "output_type": "stream",
          "name": "stdout",
          "text": [
            "0.05313584705200136\n"
          ]
        }
      ]
    },
    {
      "cell_type": "markdown",
      "source": [
        "6. Вычислить чему будет равна мера похожести вектора с самим собой и с обратным к\n",
        "нему.\n"
      ],
      "metadata": {
        "id": "SB02t8aYM1Rv"
      }
    },
    {
      "cell_type": "code",
      "source": [
        "resultA1 = np.dot(a, a)/(np.linalg.norm(a)*np.linalg.norm(a))\n",
        "resultA2 = np.dot(a, (1/a))/(np.linalg.norm(a)*np.linalg.norm((1/a)))\n",
        "resultB1 = np.dot(b, b)/(np.linalg.norm(b)*np.linalg.norm(b))\n",
        "resultB2 = np.dot(b, (1/b))/(np.linalg.norm(b)*np.linalg.norm((1/b)))\n",
        "\n",
        "print(resultA1)\n",
        "print(resultA2)\n",
        "print(resultB1)\n",
        "print(resultB2)"
      ],
      "metadata": {
        "colab": {
          "base_uri": "https://localhost:8080/"
        },
        "id": "2ecKRk9VM6p2",
        "outputId": "c8b6b4b8-f50c-43b7-a1f1-f96158378aea"
      },
      "execution_count": null,
      "outputs": [
        {
          "output_type": "stream",
          "name": "stdout",
          "text": [
            "1.0\n",
            "0.5411172754712761\n",
            "1.0\n",
            "0.941160741507363\n"
          ]
        }
      ]
    },
    {
      "cell_type": "markdown",
      "source": [
        "# **Тема 2**. Матрицы\n",
        "1. Инициализировать две матрицы A (n x m) и B (m x n) заданной длины n (n>=3, m>=3), заполненные случайным образом.\n",
        "\n"
      ],
      "metadata": {
        "id": "LBnoD-0cSEkp"
      }
    },
    {
      "cell_type": "code",
      "source": [
        "A = np.random.randint(10, size=(4,3))\n",
        "B = np.random.randint(10, size=(3,4))\n",
        "print(A)\n",
        "print(B)"
      ],
      "metadata": {
        "colab": {
          "base_uri": "https://localhost:8080/"
        },
        "id": "MFZESBLrULII",
        "outputId": "75c6c6a5-f977-4fbe-f810-deb01a386844"
      },
      "execution_count": null,
      "outputs": [
        {
          "output_type": "stream",
          "name": "stdout",
          "text": [
            "[[1 4 3]\n",
            " [9 3 4]\n",
            " [8 7 1]\n",
            " [2 3 7]]\n",
            "[[7 9 4 9]\n",
            " [1 3 1 0]\n",
            " [5 7 0 5]]\n"
          ]
        }
      ]
    },
    {
      "cell_type": "markdown",
      "source": [
        "2. Получить матрицу C, выполнив произведение матриц A (nxm) и B (mxn).\n"
      ],
      "metadata": {
        "id": "xwDa7S3fSYQf"
      }
    },
    {
      "cell_type": "code",
      "source": [
        "C = np.matmul(A,B)\n",
        "print(C)"
      ],
      "metadata": {
        "colab": {
          "base_uri": "https://localhost:8080/"
        },
        "id": "I_J_cwq6V-Z3",
        "outputId": "0b99e2f3-8cde-4145-a6d1-be3f0afcd997"
      },
      "execution_count": null,
      "outputs": [
        {
          "output_type": "stream",
          "name": "stdout",
          "text": [
            "[[ 26  42   8  24]\n",
            " [ 86 118  39 101]\n",
            " [ 68 100  39  77]\n",
            " [ 52  76  11  53]]\n"
          ]
        }
      ]
    },
    {
      "cell_type": "markdown",
      "source": [
        "3. Транспонируйте матрицу C"
      ],
      "metadata": {
        "id": "ToIaQ64vSaR7"
      }
    },
    {
      "cell_type": "code",
      "source": [
        "transC = np.transpose(C)\n",
        "print(transC)"
      ],
      "metadata": {
        "colab": {
          "base_uri": "https://localhost:8080/"
        },
        "id": "zNdVkw7QXbpv",
        "outputId": "30b7128e-00eb-43e2-e648-af025b4037d1"
      },
      "execution_count": null,
      "outputs": [
        {
          "output_type": "stream",
          "name": "stdout",
          "text": [
            "[[ 26  86  68  52]\n",
            " [ 42 118 100  76]\n",
            " [  8  39  39  11]\n",
            " [ 24 101  77  52]]\n"
          ]
        }
      ]
    },
    {
      "cell_type": "markdown",
      "source": [
        "4. Вычиcлите опеределитель и ранг матрицы C.\n"
      ],
      "metadata": {
        "id": "H2C_Wdf6Sb4K"
      }
    },
    {
      "cell_type": "code",
      "source": [
        "detC = np.linalg.det(C)\n",
        "print(detC)\n",
        "\n",
        "rangC = np.linalg.matrix_rank(C)\n",
        "print(rangC)"
      ],
      "metadata": {
        "colab": {
          "base_uri": "https://localhost:8080/"
        },
        "id": "oyBa6NSQZ2dU",
        "outputId": "3cf908c9-b681-4c0e-cbc8-d5d5ada6e0ab"
      },
      "execution_count": null,
      "outputs": [
        {
          "output_type": "stream",
          "name": "stdout",
          "text": [
            "-3.7346126191551e-11\n",
            "3\n"
          ]
        }
      ]
    },
    {
      "cell_type": "markdown",
      "source": [
        "5. Преобразуйте матрицу C таким образом, чтобы ранг матрицы стал меньше на единицу\n",
        "(постарайтесь произвести наименьшее число замен). Использован метод уменьшения матрицы с помощью сингулярного разложения\n"
      ],
      "metadata": {
        "id": "Su0voJMGSd1W"
      }
    },
    {
      "cell_type": "code",
      "source": [
        "import numpy as np\n",
        "from numpy.linalg import matrix_rank\n",
        "\n",
        "A = np.array([[1, 2, 3], [4, 5, 6], [7, 8, 9]])\n",
        "print('Заданная матрицы:\\n', A)\n",
        "rank = matrix_rank(A)\n",
        "print('Ранг заданной матрицы = ', matrix_rank(A))\n",
        "\n",
        "U, s, Vt = np.linalg.svd(A)\n",
        "s[rank-1:] = 0\n",
        "B = U.dot(np.diag(s)).dot(Vt)\n",
        "\n",
        "print('Новая матрица:\\n', B)\n",
        "print('Ранг новой матрицы = ' ,matrix_rank(B))"
      ],
      "metadata": {
        "colab": {
          "base_uri": "https://localhost:8080/"
        },
        "id": "i2vQjJvOOyQY",
        "outputId": "7e083e9c-3f03-4e44-d923-052c86f9e7fd"
      },
      "execution_count": null,
      "outputs": [
        {
          "output_type": "stream",
          "name": "stdout",
          "text": [
            "Заданная матрицы:\n",
            " [[1 2 3]\n",
            " [4 5 6]\n",
            " [7 8 9]]\n",
            "Ранг заданной матрицы =  2\n",
            "Новая матрица:\n",
            " [[1.73621779 2.07174246 2.40726714]\n",
            " [4.2071528  5.02018649 5.83322018]\n",
            " [6.6780878  7.96863051 9.25917322]]\n",
            "Ранг новой матрицы =  1\n"
          ]
        }
      ]
    },
    {
      "cell_type": "markdown",
      "source": [
        "# **Тема 3**. Задачник\n",
        "Решите минимум 10 задач из задачника\n",
        "\n"
      ],
      "metadata": {
        "id": "Yu4MHt-P5waz"
      }
    },
    {
      "cell_type": "markdown",
      "source": [
        "## Задача 1. Создать матрицу (двумерный массив) 3x3 со значениями от 0 до 8."
      ],
      "metadata": {
        "id": "MVkDQ9Eh_jOs"
      }
    },
    {
      "cell_type": "code",
      "source": [
        "def matX_8():\n",
        "    Mat = np.arange(0, 9)\n",
        "    Mat = Mat.reshape(3,3)\n",
        "    return Mat\n",
        "res = matX_8()\n",
        "print(res)"
      ],
      "metadata": {
        "colab": {
          "base_uri": "https://localhost:8080/"
        },
        "id": "bhHD1yto7egK",
        "outputId": "d37a14e9-a521-4db9-d764-dfbddd47285b"
      },
      "execution_count": null,
      "outputs": [
        {
          "output_type": "stream",
          "name": "stdout",
          "text": [
            "[[0 1 2]\n",
            " [3 4 5]\n",
            " [6 7 8]]\n"
          ]
        }
      ]
    },
    {
      "cell_type": "markdown",
      "source": [
        "## Задача 2. Проверить, одинаковы ли 2 NumPy массива."
      ],
      "metadata": {
        "id": "6cKG1xHS9pRG"
      }
    },
    {
      "cell_type": "code",
      "source": [
        "def eq_or_not1(A,B):\n",
        "    return np.array_equal (A,B)\n",
        "\n",
        "# или\n",
        "\n",
        "def eq_or_not2(A,B):\n",
        "    i = 0\n",
        "    j = 0\n",
        "    rowsA, columnsA = A.shape\n",
        "    rowsB, columnsB = B.shape\n",
        "    if rowsA == rowsB & columnsA == columnsB:\n",
        "        while i <= rowsA-1:\n",
        "            while j <= columnsA-1:\n",
        "                if A[i][j] != B[i][j]:\n",
        "                    print(\"Не равны\")\n",
        "                    continue\n",
        "                j+=1\n",
        "            i+=1\n",
        "            j = 0\n",
        "        print(\"Равны\")\n",
        "    else:\n",
        "        print(\"Не равны\")\n",
        "\n",
        "eq_or_not2(res,res)"
      ],
      "metadata": {
        "colab": {
          "base_uri": "https://localhost:8080/"
        },
        "id": "xu8SyHOh9hvg",
        "outputId": "d4ad211e-f4e3-46f2-ee06-791d532f5083"
      },
      "execution_count": null,
      "outputs": [
        {
          "output_type": "stream",
          "name": "stdout",
          "text": [
            "Равны\n"
          ]
        }
      ]
    },
    {
      "cell_type": "markdown",
      "source": [
        "## Задача 3. Найти ближайшее к заданному значению число в заданном случайным образом массиве."
      ],
      "metadata": {
        "id": "sdAjB6EAB10K"
      }
    },
    {
      "cell_type": "code",
      "source": [
        "def most_close(A,n):\n",
        "\n",
        "    i = 0\n",
        "    j = 0\n",
        "    diff = A[0][0]\n",
        "    rowsA, columnsA = A.shape\n",
        "    while i <= rowsA-1:\n",
        "        while j <= columnsA-1:\n",
        "            if abs(n - A[i][j]) < abs(n - diff):\n",
        "                diff = A[i][j]\n",
        "            j+=1\n",
        "        i+=1\n",
        "        j = 0\n",
        "    return diff\n",
        "\n",
        "A = np.random.randint(100, size=(5,5))\n",
        "print(A)\n",
        "most_close(A,8)"
      ],
      "metadata": {
        "id": "CoIlxI8QB1mp",
        "colab": {
          "base_uri": "https://localhost:8080/"
        },
        "outputId": "10d76670-7348-4195-dc44-32afbe6f433e"
      },
      "execution_count": null,
      "outputs": [
        {
          "output_type": "stream",
          "name": "stdout",
          "text": [
            "[[67 40 15 13 60]\n",
            " [35 44 25 82 58]\n",
            " [23 54 80 39 53]\n",
            " [98 58 81 52 47]\n",
            " [46 85 21 84 88]]\n"
          ]
        },
        {
          "output_type": "execute_result",
          "data": {
            "text/plain": [
              "13"
            ]
          },
          "metadata": {},
          "execution_count": 196
        }
      ]
    },
    {
      "cell_type": "markdown",
      "source": [
        "## Задача 4. В матрице 5x5, значения которой сгенерированы случайным образом, заменить максимальный элемент на 0."
      ],
      "metadata": {
        "id": "DT18aeCQSkqp"
      }
    },
    {
      "cell_type": "code",
      "source": [
        "def max_to_zero1():\n",
        "    A = np.random.randint(100, size=(5,5))\n",
        "    print('Исходная матрица\\n', A)\n",
        "    i = 0\n",
        "    j = 0\n",
        "    diff = A[0][0]\n",
        "    while i <= 4:\n",
        "        while j <= 4:\n",
        "            if A[i][j] > diff:\n",
        "                diff = A[i][j]\n",
        "            j+=1\n",
        "        i+=1\n",
        "        j = 0\n",
        "\n",
        "    print('Max = ', diff)\n",
        "\n",
        "    A[A == diff ] = 0\n",
        "    return A\n",
        "\n",
        "    #или\n",
        "\n",
        "def max_to_zero2():\n",
        "    A = np.random.randint(100, size=(5,5))\n",
        "    print('Исходная матрица\\n', A)\n",
        "    A[A == np.amax(A) ] = 0\n",
        "    return A\n",
        "\n",
        "\n",
        "\n",
        "print(max_to_zero1())\n",
        "#print(max_to_zero2())"
      ],
      "metadata": {
        "colab": {
          "base_uri": "https://localhost:8080/"
        },
        "id": "QURqseBOSmlE",
        "outputId": "a29e5003-3cd5-4ae8-8270-da03056aa229"
      },
      "execution_count": null,
      "outputs": [
        {
          "output_type": "stream",
          "name": "stdout",
          "text": [
            "Исходная матрица\n",
            " [[64 88 75 51 24]\n",
            " [75 97 54 44 36]\n",
            " [31 29 92 92 38]\n",
            " [87 20 47 11 55]\n",
            " [29 43 80 13  3]]\n",
            "Max =  97\n",
            "[[64 88 75 51 24]\n",
            " [75  0 54 44 36]\n",
            " [31 29 92 92 38]\n",
            " [87 20 47 11 55]\n",
            " [29 43 80 13  3]]\n"
          ]
        }
      ]
    },
    {
      "cell_type": "markdown",
      "source": [
        "## Задача 5. Поменять две случайные строки в матрице."
      ],
      "metadata": {
        "id": "sqi24g4vWvwq"
      }
    },
    {
      "cell_type": "code",
      "source": [
        "import random\n",
        "\n",
        "def swap_rows(A):\n",
        "    print('Исходная матрица:\\n ', A)\n",
        "    rowsA, columnsA = A.shape\n",
        "    row1 = random.randint(0,rowsA - 1)\n",
        "    row2 = random.randint(0,rowsA - 1)\n",
        "    print('Меняем строки: ' + str(row1+1) + ' и ' + str(row2+1))\n",
        "    A[[row1, row2]] = A[[row2, row1]]\n",
        "    return A\n",
        "\n",
        "A = np.arange(24)\n",
        "B = A.reshape(4, 6)\n",
        "print(swap_rows(B))"
      ],
      "metadata": {
        "colab": {
          "base_uri": "https://localhost:8080/"
        },
        "id": "lFHKr_ATWuw7",
        "outputId": "a11da41c-be2c-4400-ff71-b5db12ba86a6"
      },
      "execution_count": null,
      "outputs": [
        {
          "output_type": "stream",
          "name": "stdout",
          "text": [
            "Исходная матрица:\n",
            "  [[ 0  1  2  3  4  5]\n",
            " [ 6  7  8  9 10 11]\n",
            " [12 13 14 15 16 17]\n",
            " [18 19 20 21 22 23]]\n",
            "Меняем строки: 3 и 4\n",
            "[[ 0  1  2  3  4  5]\n",
            " [ 6  7  8  9 10 11]\n",
            " [18 19 20 21 22 23]\n",
            " [12 13 14 15 16 17]]\n"
          ]
        }
      ]
    },
    {
      "cell_type": "markdown",
      "source": [
        "## Задача 6. Дан массив 10x2 (точки в декартовой системе координат). Нужно преобразовать заданную систему координат в полярную."
      ],
      "metadata": {
        "id": "65EwZ7LnWuq0"
      }
    },
    {
      "cell_type": "code",
      "source": [
        "def into_polar(A):\n",
        "    i = 0\n",
        "    rowsA, columnsA = A.shape\n",
        "    while i <= rowsA - 1 :\n",
        "        r = ((A[i][0])**2+ (A[i][1])**2)**0.5\n",
        "        tan = (A[i][1])/(A[i][0])\n",
        "        A[i][0] = r\n",
        "        A[i][1] = tan\n",
        "        i+=1\n",
        "    return A\n",
        "A = np.random.uniform(10, size=(10,2))\n",
        "into_polar(A)"
      ],
      "metadata": {
        "colab": {
          "base_uri": "https://localhost:8080/"
        },
        "id": "wrS6NJ4fCAzI",
        "outputId": "b99ab4b6-88f6-4a7b-eb1d-f16ead84bc1b"
      },
      "execution_count": null,
      "outputs": [
        {
          "output_type": "execute_result",
          "data": {
            "text/plain": [
              "array([[ 5.1659158 ,  0.50067106],\n",
              "       [10.61349475,  0.9261193 ],\n",
              "       [10.11962428,  0.32949789],\n",
              "       [ 3.03730466,  0.9596578 ],\n",
              "       [12.54485859,  1.18788725],\n",
              "       [ 8.2014069 ,  0.46009304],\n",
              "       [ 8.09487027,  1.6245482 ],\n",
              "       [ 8.95299307,  0.57512806],\n",
              "       [ 8.24872523,  1.29861909],\n",
              "       [ 3.2305362 ,  0.8575576 ]])"
            ]
          },
          "metadata": {},
          "execution_count": 123
        }
      ]
    },
    {
      "cell_type": "markdown",
      "source": [
        "## Задача 7. Создать матрицу с 0 внутри и 1 на границах."
      ],
      "metadata": {
        "id": "HuQi-I6MB_bA"
      }
    },
    {
      "cell_type": "code",
      "source": [
        "def one_out_zero_in():\n",
        "   A = np.zeros((np.random.randint(10), np.random.randint(10)))\n",
        "   i = 0\n",
        "   j = 0\n",
        "   rowsA, columnsA = A.shape\n",
        "   while i <= rowsA-1:\n",
        "       while j <= columnsA-1:\n",
        "           if i == 0 or i == rowsA-1:\n",
        "               A[i][j] = 1\n",
        "               j+=1\n",
        "           else:\n",
        "               A[i][0] = 1\n",
        "               A[i][columnsA-1] = 1\n",
        "               j+=1\n",
        "       i+=1\n",
        "       j = 0\n",
        "   return A\n",
        "one_out_zero_in()"
      ],
      "metadata": {
        "colab": {
          "base_uri": "https://localhost:8080/"
        },
        "id": "wh5VKVIPB_vP",
        "outputId": "eaafe01d-d375-4d29-8fc8-b89e476adf5e"
      },
      "execution_count": null,
      "outputs": [
        {
          "output_type": "execute_result",
          "data": {
            "text/plain": [
              "array([[1., 1., 1., 1.],\n",
              "       [1., 0., 0., 1.],\n",
              "       [1., 0., 0., 1.],\n",
              "       [1., 0., 0., 1.],\n",
              "       [1., 0., 0., 1.],\n",
              "       [1., 0., 0., 1.],\n",
              "       [1., 0., 0., 1.],\n",
              "       [1., 1., 1., 1.]])"
            ]
          },
          "metadata": {},
          "execution_count": 155
        }
      ]
    },
    {
      "cell_type": "markdown",
      "source": [
        "## Задача 8. Преобразовать массив из int в float."
      ],
      "metadata": {
        "id": "hUHNTES0X9Ie"
      }
    },
    {
      "cell_type": "code",
      "source": [
        "def into_float(A):\n",
        "    print('Был тип', type(A[0][0]))\n",
        "    A = A.astype('float64')\n",
        "    print(A)\n",
        "    print('Стал', type(A[0][0]))\n",
        "    return A\n",
        "\n",
        "\n",
        "A = np.random.randint(100, size=(np.random.randint(10),np.random.randint(10)))\n",
        "print(into_float(A))\n"
      ],
      "metadata": {
        "colab": {
          "base_uri": "https://localhost:8080/"
        },
        "id": "GDS10dU3Xv92",
        "outputId": "db19ba80-8153-4d75-e65e-da19fd03ad9f"
      },
      "execution_count": null,
      "outputs": [
        {
          "output_type": "stream",
          "name": "stdout",
          "text": [
            "Был тип <class 'numpy.int64'>\n",
            "[[41. 69. 24. 17. 85. 12. 65. 11.]\n",
            " [93.  8. 31. 55. 31. 24. 15. 82.]\n",
            " [92. 48. 61. 97. 92. 35. 18. 76.]]\n",
            "Стал <class 'numpy.float64'>\n",
            "[[41. 69. 24. 17. 85. 12. 65. 11.]\n",
            " [93.  8. 31. 55. 31. 24. 15. 82.]\n",
            " [92. 48. 61. 97. 92. 35. 18. 76.]]\n"
          ]
        }
      ]
    },
    {
      "cell_type": "markdown",
      "source": [
        "## Задача 9. Дан массив, поменять знак у элементов, значения которых между 3 и 8."
      ],
      "metadata": {
        "id": "_3OzO7_UXv4w"
      }
    },
    {
      "cell_type": "code",
      "source": [
        "def three_eight(A):\n",
        "   print(\"Исходная матрица\\n\", A)\n",
        "   A[(A > 3 ) & (A < 8 )] *= (-1)\n",
        "   return A\n",
        "\n",
        "A = np.random.randint(10, size=(10,10))\n",
        "three_eight(A)"
      ],
      "metadata": {
        "colab": {
          "base_uri": "https://localhost:8080/"
        },
        "id": "-LXhn4Ppq36f",
        "outputId": "64e85afa-d387-4d6f-cf09-82f228416f9d"
      },
      "execution_count": null,
      "outputs": [
        {
          "output_type": "stream",
          "name": "stdout",
          "text": [
            "Исходная матрица\n",
            " [[5 1 3 6 1 5 0 5 4 2]\n",
            " [4 8 2 6 0 3 1 7 5 0]\n",
            " [5 6 4 4 9 8 9 9 6 3]\n",
            " [4 7 2 2 3 2 9 1 4 2]\n",
            " [3 7 1 0 1 0 0 8 7 6]\n",
            " [9 0 8 1 4 9 7 6 3 7]\n",
            " [2 3 0 8 7 3 4 6 4 6]\n",
            " [9 7 7 9 1 1 7 2 5 4]\n",
            " [8 5 8 4 0 2 7 1 7 8]\n",
            " [6 8 3 2 8 4 4 0 9 7]]\n"
          ]
        },
        {
          "output_type": "execute_result",
          "data": {
            "text/plain": [
              "array([[-5,  1,  3, -6,  1, -5,  0, -5, -4,  2],\n",
              "       [-4,  8,  2, -6,  0,  3,  1, -7, -5,  0],\n",
              "       [-5, -6, -4, -4,  9,  8,  9,  9, -6,  3],\n",
              "       [-4, -7,  2,  2,  3,  2,  9,  1, -4,  2],\n",
              "       [ 3, -7,  1,  0,  1,  0,  0,  8, -7, -6],\n",
              "       [ 9,  0,  8,  1, -4,  9, -7, -6,  3, -7],\n",
              "       [ 2,  3,  0,  8, -7,  3, -4, -6, -4, -6],\n",
              "       [ 9, -7, -7,  9,  1,  1, -7,  2, -5, -4],\n",
              "       [ 8, -5,  8, -4,  0,  2, -7,  1, -7,  8],\n",
              "       [-6,  8,  3,  2,  8, -4, -4,  0,  9, -7]])"
            ]
          },
          "metadata": {},
          "execution_count": 246
        }
      ]
    },
    {
      "cell_type": "markdown",
      "source": [
        "## Задача 10. Создать структурированный массив с координатами x, y на сетке в квадрате [0,1]x[0,1]"
      ],
      "metadata": {
        "id": "ToloVfRZ3qSt"
      }
    },
    {
      "cell_type": "code",
      "source": [
        "import matplotlib.pyplot as plt\n",
        "Z = np.zeros((10,10), [('x',float),('y',float)])\n",
        "Z['x'], Z['y'] = np.meshgrid(np.linspace(0,1,10), np.linspace(0,1,10))\n",
        "plt.plot(Z['x'], Z['y'], marker='o', linestyle='none')\n",
        "plt.show()"
      ],
      "metadata": {
        "colab": {
          "base_uri": "https://localhost:8080/",
          "height": 265
        },
        "id": "dSSNsV-e3q1a",
        "outputId": "e4cd99c5-2971-45d8-ca9f-235edf51e2e1"
      },
      "execution_count": null,
      "outputs": [
        {
          "output_type": "display_data",
          "data": {
            "text/plain": [
              "<Figure size 432x288 with 1 Axes>"
            ],
            "image/png": "[encoded data removed]"
          },
          "metadata": {
            "needs_background": "light"
          }
        }
      ]
    },
    {
      "cell_type": "markdown",
      "source": [
        "# Вывод.\n",
        "Решено несколько задач, основанных на работе с n-мерными массивами. Для решения задач была использована библиотека Numpy (и совсем немного matplotlib), располагающая самыми разными функциями для работы с массивами. Разнообразие функций позволяет решать некоторые задачи в достаточно маленькое количество строк и действий. Особенно, если сравнить с другими языками программирования.\n",
        "Прочитав документацию по библиотеке numpy, можно убедиться, что это далеко не все функции, которые может предложить библиотека. Таким образом, решение математических задач (в данном случае линейной алгебры) очень удобно на языке python, благодаря библиотеке numpy\n"
      ],
      "metadata": {
        "id": "tINPH129ARPQ"
      }
    }
  ]
}