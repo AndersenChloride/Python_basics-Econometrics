{
  "nbformat": 4,
  "nbformat_minor": 0,
  "metadata": {
    "colab": {
      "provenance": []
    },
    "kernelspec": {
      "name": "python3",
      "display_name": "Python 3"
    },
    "language_info": {
      "name": "python"
    }
  },
  "cells": [
    {
      "cell_type": "markdown",
      "source": [
        "# **Практическая работа по эконометрике №1**\n",
        "По теме \"Описательная статистика\"\n",
        "\n",
        "Выполнили:\n",
        "Подрядчиков Владимир Валерьевич,\n",
        "Округин Никита Анатольевич\n",
        "\n",
        "Руководитель:Тюрнева Татьяна Геннадьевна\n",
        "\n",
        "Группа 2321-ДБ\n",
        "\n"
      ],
      "metadata": {
        "id": "umcto9OJwIsg"
      }
    },
    {
      "cell_type": "markdown",
      "source": [
        "##**План работы**\n",
        "1. Провести эксперимент, записать результаты наблюдений в порядке их регистрации.\n",
        "2. Записать выборку в виде вариационного и статистического рядов.\n",
        "3. Представить выборку в виде таблицы частот.\n",
        "4. Построить гистограмму и полигон частот.\n",
        "5. Построить график эмпирической функции распределения.\n",
        "6. Вычислить моду, медиану, среднее и дисперсию, к-ты асимметрии и эксцесса для группированной выборки.\n",
        "7. Проанализировать полученные результаты.\n"
      ],
      "metadata": {
        "id": "9drhXpPfxFUC"
      }
    },
    {
      "cell_type": "markdown",
      "source": [
        "## **Эксперимент и получение данных**\n",
        "Суть экспериметра будет в стократном подбрасывании трёх кубиков с возможными значение от 1 до 6 на каждом. Для более удобного и быстрого получения результата будет реализована модель на языке Python.\n"
      ],
      "metadata": {
        "id": "sjzFkuWAxXZw"
      }
    },
    {
      "cell_type": "code",
      "source": [
        "import matplotlib.pyplot as plt\n",
        "import random\n",
        "import numpy as np\n",
        "\n",
        "#Функция подбрасывания кубиков\n",
        "def roll_dice():\n",
        "    die_1 = random.randint(1, 6)\n",
        "    die_2 = random.randint(1, 6)\n",
        "    die_3 = random.randint(1, 6)\n",
        "    return die_1 + die_2 + die_3\n",
        "\n",
        "#Проведём эксперимент 100 раз и запишем результаты в документ\n",
        "\n",
        "data = []\n",
        "i = 0\n",
        "while i <= 99:\n",
        "    data.append(str(roll_dice()))\n",
        "    i+=1\n",
        "\n",
        "with open(\"data.txt\", \"w\") as w:\n",
        "         w.write(', '.join(data))\n",
        "w.close\n",
        "\n",
        "#Выведем все наши значения\n",
        "f = open(\"data_end.txt\", \"r+\")\n",
        "v = f.read()\n",
        "data_end = v.split(', ')\n",
        "for i in range(len(data_end)):\n",
        "    data_end[i] = int(data_end[i])\n",
        "print(data_end)\n",
        "\n",
        "data = data_end"
      ],
      "metadata": {
        "colab": {
          "base_uri": "https://localhost:8080/"
        },
        "id": "_QlEqrz0x7C8",
        "outputId": "01680113-2c1f-4f20-87c3-766235a1b0cc"
      },
      "execution_count": null,
      "outputs": [
        {
          "output_type": "stream",
          "name": "stdout",
          "text": [
            "[8, 13, 14, 8, 9, 14, 8, 4, 12, 10, 5, 14, 5, 11, 13, 12, 14, 14, 12, 11, 10, 6, 11, 7, 6, 11, 10, 11, 12, 14, 12, 10, 12, 13, 11, 11, 10, 5, 12, 5, 13, 11, 13, 4, 11, 13, 8, 6, 10, 8, 11, 11, 8, 9, 9, 5, 7, 9, 12, 5, 10, 11, 11, 6, 13, 9, 10, 10, 10, 12, 10, 11, 8, 8, 15, 11, 8, 14, 6, 7, 16, 11, 12, 14, 13, 14, 9, 14, 14, 7, 5, 7, 13, 14, 11, 11, 8, 6, 15, 10]\n"
          ]
        }
      ]
    },
    {
      "cell_type": "markdown",
      "source": [
        "## **Вариационный ряд**"
      ],
      "metadata": {
        "id": "zyuN42QOAoSG"
      }
    },
    {
      "cell_type": "code",
      "source": [
        "sort = sorted(data)\n",
        "print(sort)"
      ],
      "metadata": {
        "colab": {
          "base_uri": "https://localhost:8080/"
        },
        "id": "DYVU9QqCAn5m",
        "outputId": "29ed7fff-305e-456b-c4e1-667a67df68e8"
      },
      "execution_count": null,
      "outputs": [
        {
          "output_type": "stream",
          "name": "stdout",
          "text": [
            "[4, 4, 5, 5, 5, 5, 5, 5, 5, 6, 6, 6, 6, 6, 6, 7, 7, 7, 7, 7, 8, 8, 8, 8, 8, 8, 8, 8, 8, 8, 9, 9, 9, 9, 9, 9, 10, 10, 10, 10, 10, 10, 10, 10, 10, 10, 10, 10, 11, 11, 11, 11, 11, 11, 11, 11, 11, 11, 11, 11, 11, 11, 11, 11, 11, 11, 12, 12, 12, 12, 12, 12, 12, 12, 12, 12, 13, 13, 13, 13, 13, 13, 13, 13, 13, 14, 14, 14, 14, 14, 14, 14, 14, 14, 14, 14, 14, 15, 15, 16]\n"
          ]
        }
      ]
    },
    {
      "cell_type": "markdown",
      "source": [
        "## **Статистический ряд**"
      ],
      "metadata": {
        "id": "DLy0hYLeA741"
      }
    },
    {
      "cell_type": "code",
      "source": [
        "#подсчет частоты\n",
        "from collections import Counter\n",
        "Counter(sort)\n"
      ],
      "metadata": {
        "id": "o0tSsM3UBBaT",
        "colab": {
          "base_uri": "https://localhost:8080/"
        },
        "outputId": "80f6aaa5-941c-48f5-f0d7-789344ee1b4a"
      },
      "execution_count": null,
      "outputs": [
        {
          "output_type": "execute_result",
          "data": {
            "text/plain": [
              "Counter({4: 2,\n",
              "         5: 7,\n",
              "         6: 6,\n",
              "         7: 5,\n",
              "         8: 10,\n",
              "         9: 6,\n",
              "         10: 12,\n",
              "         11: 18,\n",
              "         12: 10,\n",
              "         13: 9,\n",
              "         14: 12,\n",
              "         15: 2,\n",
              "         16: 1})"
            ]
          },
          "metadata": {},
          "execution_count": 6
        }
      ]
    },
    {
      "cell_type": "markdown",
      "source": [
        "\n",
        "\n",
        "| Значение | Частота|\n",
        "| ------------- | ------------- |\n",
        "| 4  | 2  |\n",
        "| 5  | 7  |\n",
        "| 6  | 6  |\n",
        "| 7  | 5  |\n",
        "| 8  | 10 |\n",
        "| 9  | 6  |\n",
        "| 10 | 12 |\n",
        "| 11 | 18 |\n",
        "| 12 | 10 |\n",
        "| 13 | 9  |\n",
        "| 14 | 12 |\n",
        "| 15 | 2  |\n",
        "| 16 | 1  |\n",
        "\n"
      ],
      "metadata": {
        "id": "twG5-hpIW9uK"
      }
    },
    {
      "cell_type": "markdown",
      "source": [
        "## **Таблица частот**\n",
        "\n",
        "Вариационный размах = 16 - 4 = 12\n",
        "\n",
        "Длина интервала = 2\n",
        "\n",
        "Количество интервало = 6"
      ],
      "metadata": {
        "id": "CVsaSl3bam6s"
      }
    },
    {
      "cell_type": "markdown",
      "source": [
        "\n",
        "| № | Интервалы| Частота| Середина | Накопленная частота | Относительная частота | Накопленная относительная частота |\n",
        "| ------------- | ------------- | ------------- |------------- | ------------- | ------------- | ------------- |\n",
        "| 1  | 4-6  | 9  | 5  |  9  | 0,09  | 0,09  |\n",
        "| 2  | 6-8  | 11  | 7  | 20  | 0,11 | 0,2  |\n",
        "| 3  | 8-10  | 16  | 9  |36  | 0,16  | 0,36  |\n",
        "| 4  | 10-12  | 30  | 11  |66  | 0,3  | 0,66  |\n",
        "| 5  | 12-14 | 19  | 13  |85  | 0,19  |0,85  |\n",
        "| 6  | 14-16  | 15  | 15  |100  | 0,15  | 1  |\n"
      ],
      "metadata": {
        "id": "UAwLSg4saON1"
      }
    },
    {
      "cell_type": "markdown",
      "source": [
        "## **Полигон частот**"
      ],
      "metadata": {
        "id": "D5aaJa4uZ6kB"
      }
    },
    {
      "cell_type": "code",
      "source": [
        "print(plt.plot([5, 7, 9, 11, 13, 15], [9, 11, 16, 30, 19, 15]))"
      ],
      "metadata": {
        "colab": {
          "base_uri": "https://localhost:8080/",
          "height": 447
        },
        "id": "Sp_FTUu4Z6YE",
        "outputId": "b5024861-62bc-4eb8-9d8d-76297a69c1ec"
      },
      "execution_count": null,
      "outputs": [
        {
          "output_type": "stream",
          "name": "stdout",
          "text": [
            "[<matplotlib.lines.Line2D object at 0x7f0be4c7dc40>]\n"
          ]
        },
        {
          "output_type": "display_data",
          "data": {
            "text/plain": [
              "<Figure size 640x480 with 1 Axes>"
            ],
            "image/png": "[encoded data removed]"
          },
          "metadata": {}
        }
      ]
    },
    {
      "cell_type": "markdown",
      "source": [
        "## **Гистограмма**"
      ],
      "metadata": {
        "id": "gu8joweLZ8Uq"
      }
    },
    {
      "cell_type": "code",
      "source": [
        "\n",
        "a = np.array([5,5,5,5,5,5,5,5,5,7,7,7,7,7,7,7,7,7,7,7,9,9,9,9,9,9,9,9,9,9,9,9,9,9,9,9,\n",
        "              11,11,11,11,11,11,11,11,11,11,11,11,11,11,11,11,11,11,11,11,11,11,11,11,\n",
        "              11,11,11,11,11,11,13,13,13,13,13,13,13,13,13,13,13,13,13,13,13,13,13,13,\n",
        "              13,15,15,15,15,15,15,15,15,15,15,15,15,15,15,15])\n",
        "\n",
        "\n",
        "\n",
        "plt.hist(a, bins = [4, 6, 8, 10, 12, 14, 16])\n",
        "plt.show()"
      ],
      "metadata": {
        "colab": {
          "base_uri": "https://localhost:8080/",
          "height": 430
        },
        "id": "N-4LZJKtZ8oK",
        "outputId": "12752d5f-ab3c-4757-f1b3-0bd130ebeaaa"
      },
      "execution_count": null,
      "outputs": [
        {
          "output_type": "display_data",
          "data": {
            "text/plain": [
              "<Figure size 640x480 with 1 Axes>"
            ],
            "image/png": "[encoded data removed]"
          },
          "metadata": {}
        }
      ]
    },
    {
      "cell_type": "markdown",
      "source": [],
      "metadata": {
        "id": "luiEUxa0SsZ4"
      }
    },
    {
      "cell_type": "code",
      "source": [
        "import plotly.express as px\n",
        "graphic = px.ecdf(a-1, width=1000)\n",
        "graphic.show()"
      ],
      "metadata": {
        "colab": {
          "base_uri": "https://localhost:8080/",
          "height": 542
        },
        "id": "ncDSncRJoKWX",
        "outputId": "0302596b-4279-4d67-bc6f-9f0711235bdd"
      },
      "execution_count": null,
      "outputs": [
        {
          "output_type": "display_data",
          "data": {
            "text/html": [
              "<html>\n",
              "<head><meta charset=\"utf-8\" /></head>\n",
              "<body>\n",
              "    <div>            <script src=\"https://cdnjs.cloudflare.com/ajax/libs/mathjax/2.7.5/MathJax.js?config=TeX-AMS-MML_SVG\"></script><script type=\"text/javascript\">if (window.MathJax) {MathJax.Hub.Config({SVG: {font: \"STIX-Web\"}});}</script>                <script type=\"text/javascript\">window.PlotlyConfig = {MathJaxConfig: 'local'};</script>\n",
              "        <script src=\"https://cdn.plot.ly/plotly-2.8.3.min.js\"></script>                <div id=\"2df213fe-6789-4d4e-9fa5-395fe3d3a7e5\" class=\"plotly-graph-div\" style=\"height:525px; width:1000px;\"></div>            <script type=\"text/javascript\">                                    window.PLOTLYENV=window.PLOTLYENV || {};                                    if (document.getElementById(\"2df213fe-6789-4d4e-9fa5-395fe3d3a7e5\")) {                    Plotly.newPlot(                        \"2df213fe-6789-4d4e-9fa5-395fe3d3a7e5\",                        [{\"hovertemplate\":\"variable=0<br>value=%{x}<br>probability=%{y}<extra></extra>\",\"legendgroup\":\"0\",\"line\":{\"dash\":\"solid\",\"shape\":\"hv\"},\"marker\":{\"color\":\"#636efa\",\"symbol\":\"circle\"},\"mode\":\"lines\",\"name\":\"0\",\"orientation\":\"v\",\"showlegend\":true,\"x\":[4,4,4,4,4,4,4,4,4,6,6,6,6,6,6,6,6,6,6,6,8,8,8,8,8,8,8,8,8,8,8,8,8,8,8,8,10,10,10,10,10,10,10,10,10,10,10,10,10,10,10,10,10,10,10,10,10,10,10,10,10,10,10,10,10,10,12,12,12,12,12,12,12,12,12,12,12,12,12,12,12,12,12,12,12,14,14,14,14,14,14,14,14,14,14,14,14,14,14,14],\"xaxis\":\"x\",\"y\":[0.01,0.02,0.03,0.04,0.05,0.06,0.07,0.08,0.09,0.1,0.11,0.12,0.13,0.14,0.15,0.16,0.17,0.18,0.19,0.2,0.21,0.22,0.23,0.24,0.25,0.26,0.27,0.28,0.29,0.3,0.31,0.32,0.33,0.34,0.35,0.36,0.37,0.38,0.39,0.4,0.41,0.42,0.43,0.44,0.45,0.46,0.47,0.48,0.49,0.5,0.51,0.52,0.53,0.54,0.55,0.56,0.57,0.58,0.59,0.6,0.61,0.62,0.63,0.64,0.65,0.66,0.67,0.68,0.69,0.7,0.71,0.72,0.73,0.74,0.75,0.76,0.77,0.78,0.79,0.8,0.81,0.82,0.83,0.84,0.85,0.86,0.87,0.88,0.89,0.9,0.91,0.92,0.93,0.94,0.95,0.96,0.97,0.98,0.99,1.0],\"yaxis\":\"y\",\"type\":\"scatter\"}],                        {\"template\":{\"data\":{\"bar\":[{\"error_x\":{\"color\":\"#2a3f5f\"},\"error_y\":{\"color\":\"#2a3f5f\"},\"marker\":{\"line\":{\"color\":\"#E5ECF6\",\"width\":0.5},\"pattern\":{\"fillmode\":\"overlay\",\"size\":10,\"solidity\":0.2}},\"type\":\"bar\"}],\"barpolar\":[{\"marker\":{\"line\":{\"color\":\"#E5ECF6\",\"width\":0.5},\"pattern\":{\"fillmode\":\"overlay\",\"size\":10,\"solidity\":0.2}},\"type\":\"barpolar\"}],\"carpet\":[{\"aaxis\":{\"endlinecolor\":\"#2a3f5f\",\"gridcolor\":\"white\",\"linecolor\":\"white\",\"minorgridcolor\":\"white\",\"startlinecolor\":\"#2a3f5f\"},\"baxis\":{\"endlinecolor\":\"#2a3f5f\",\"gridcolor\":\"white\",\"linecolor\":\"white\",\"minorgridcolor\":\"white\",\"startlinecolor\":\"#2a3f5f\"},\"type\":\"carpet\"}],\"choropleth\":[{\"colorbar\":{\"outlinewidth\":0,\"ticks\":\"\"},\"type\":\"choropleth\"}],\"contour\":[{\"colorbar\":{\"outlinewidth\":0,\"ticks\":\"\"},\"colorscale\":[[0.0,\"#0d0887\"],[0.1111111111111111,\"#46039f\"],[0.2222222222222222,\"#7201a8\"],[0.3333333333333333,\"#9c179e\"],[0.4444444444444444,\"#bd3786\"],[0.5555555555555556,\"#d8576b\"],[0.6666666666666666,\"#ed7953\"],[0.7777777777777778,\"#fb9f3a\"],[0.8888888888888888,\"#fdca26\"],[1.0,\"#f0f921\"]],\"type\":\"contour\"}],\"contourcarpet\":[{\"colorbar\":{\"outlinewidth\":0,\"ticks\":\"\"},\"type\":\"contourcarpet\"}],\"heatmap\":[{\"colorbar\":{\"outlinewidth\":0,\"ticks\":\"\"},\"colorscale\":[[0.0,\"#0d0887\"],[0.1111111111111111,\"#46039f\"],[0.2222222222222222,\"#7201a8\"],[0.3333333333333333,\"#9c179e\"],[0.4444444444444444,\"#bd3786\"],[0.5555555555555556,\"#d8576b\"],[0.6666666666666666,\"#ed7953\"],[0.7777777777777778,\"#fb9f3a\"],[0.8888888888888888,\"#fdca26\"],[1.0,\"#f0f921\"]],\"type\":\"heatmap\"}],\"heatmapgl\":[{\"colorbar\":{\"outlinewidth\":0,\"ticks\":\"\"},\"colorscale\":[[0.0,\"#0d0887\"],[0.1111111111111111,\"#46039f\"],[0.2222222222222222,\"#7201a8\"],[0.3333333333333333,\"#9c179e\"],[0.4444444444444444,\"#bd3786\"],[0.5555555555555556,\"#d8576b\"],[0.6666666666666666,\"#ed7953\"],[0.7777777777777778,\"#fb9f3a\"],[0.8888888888888888,\"#fdca26\"],[1.0,\"#f0f921\"]],\"type\":\"heatmapgl\"}],\"histogram\":[{\"marker\":{\"pattern\":{\"fillmode\":\"overlay\",\"size\":10,\"solidity\":0.2}},\"type\":\"histogram\"}],\"histogram2d\":[{\"colorbar\":{\"outlinewidth\":0,\"ticks\":\"\"},\"colorscale\":[[0.0,\"#0d0887\"],[0.1111111111111111,\"#46039f\"],[0.2222222222222222,\"#7201a8\"],[0.3333333333333333,\"#9c179e\"],[0.4444444444444444,\"#bd3786\"],[0.5555555555555556,\"#d8576b\"],[0.6666666666666666,\"#ed7953\"],[0.7777777777777778,\"#fb9f3a\"],[0.8888888888888888,\"#fdca26\"],[1.0,\"#f0f921\"]],\"type\":\"histogram2d\"}],\"histogram2dcontour\":[{\"colorbar\":{\"outlinewidth\":0,\"ticks\":\"\"},\"colorscale\":[[0.0,\"#0d0887\"],[0.1111111111111111,\"#46039f\"],[0.2222222222222222,\"#7201a8\"],[0.3333333333333333,\"#9c179e\"],[0.4444444444444444,\"#bd3786\"],[0.5555555555555556,\"#d8576b\"],[0.6666666666666666,\"#ed7953\"],[0.7777777777777778,\"#fb9f3a\"],[0.8888888888888888,\"#fdca26\"],[1.0,\"#f0f921\"]],\"type\":\"histogram2dcontour\"}],\"mesh3d\":[{\"colorbar\":{\"outlinewidth\":0,\"ticks\":\"\"},\"type\":\"mesh3d\"}],\"parcoords\":[{\"line\":{\"colorbar\":{\"outlinewidth\":0,\"ticks\":\"\"}},\"type\":\"parcoords\"}],\"pie\":[{\"automargin\":true,\"type\":\"pie\"}],\"scatter\":[{\"marker\":{\"colorbar\":{\"outlinewidth\":0,\"ticks\":\"\"}},\"type\":\"scatter\"}],\"scatter3d\":[{\"line\":{\"colorbar\":{\"outlinewidth\":0,\"ticks\":\"\"}},\"marker\":{\"colorbar\":{\"outlinewidth\":0,\"ticks\":\"\"}},\"type\":\"scatter3d\"}],\"scattercarpet\":[{\"marker\":{\"colorbar\":{\"outlinewidth\":0,\"ticks\":\"\"}},\"type\":\"scattercarpet\"}],\"scattergeo\":[{\"marker\":{\"colorbar\":{\"outlinewidth\":0,\"ticks\":\"\"}},\"type\":\"scattergeo\"}],\"scattergl\":[{\"marker\":{\"colorbar\":{\"outlinewidth\":0,\"ticks\":\"\"}},\"type\":\"scattergl\"}],\"scattermapbox\":[{\"marker\":{\"colorbar\":{\"outlinewidth\":0,\"ticks\":\"\"}},\"type\":\"scattermapbox\"}],\"scatterpolar\":[{\"marker\":{\"colorbar\":{\"outlinewidth\":0,\"ticks\":\"\"}},\"type\":\"scatterpolar\"}],\"scatterpolargl\":[{\"marker\":{\"colorbar\":{\"outlinewidth\":0,\"ticks\":\"\"}},\"type\":\"scatterpolargl\"}],\"scatterternary\":[{\"marker\":{\"colorbar\":{\"outlinewidth\":0,\"ticks\":\"\"}},\"type\":\"scatterternary\"}],\"surface\":[{\"colorbar\":{\"outlinewidth\":0,\"ticks\":\"\"},\"colorscale\":[[0.0,\"#0d0887\"],[0.1111111111111111,\"#46039f\"],[0.2222222222222222,\"#7201a8\"],[0.3333333333333333,\"#9c179e\"],[0.4444444444444444,\"#bd3786\"],[0.5555555555555556,\"#d8576b\"],[0.6666666666666666,\"#ed7953\"],[0.7777777777777778,\"#fb9f3a\"],[0.8888888888888888,\"#fdca26\"],[1.0,\"#f0f921\"]],\"type\":\"surface\"}],\"table\":[{\"cells\":{\"fill\":{\"color\":\"#EBF0F8\"},\"line\":{\"color\":\"white\"}},\"header\":{\"fill\":{\"color\":\"#C8D4E3\"},\"line\":{\"color\":\"white\"}},\"type\":\"table\"}]},\"layout\":{\"annotationdefaults\":{\"arrowcolor\":\"#2a3f5f\",\"arrowhead\":0,\"arrowwidth\":1},\"autotypenumbers\":\"strict\",\"coloraxis\":{\"colorbar\":{\"outlinewidth\":0,\"ticks\":\"\"}},\"colorscale\":{\"diverging\":[[0,\"#8e0152\"],[0.1,\"#c51b7d\"],[0.2,\"#de77ae\"],[0.3,\"#f1b6da\"],[0.4,\"#fde0ef\"],[0.5,\"#f7f7f7\"],[0.6,\"#e6f5d0\"],[0.7,\"#b8e186\"],[0.8,\"#7fbc41\"],[0.9,\"#4d9221\"],[1,\"#276419\"]],\"sequential\":[[0.0,\"#0d0887\"],[0.1111111111111111,\"#46039f\"],[0.2222222222222222,\"#7201a8\"],[0.3333333333333333,\"#9c179e\"],[0.4444444444444444,\"#bd3786\"],[0.5555555555555556,\"#d8576b\"],[0.6666666666666666,\"#ed7953\"],[0.7777777777777778,\"#fb9f3a\"],[0.8888888888888888,\"#fdca26\"],[1.0,\"#f0f921\"]],\"sequentialminus\":[[0.0,\"#0d0887\"],[0.1111111111111111,\"#46039f\"],[0.2222222222222222,\"#7201a8\"],[0.3333333333333333,\"#9c179e\"],[0.4444444444444444,\"#bd3786\"],[0.5555555555555556,\"#d8576b\"],[0.6666666666666666,\"#ed7953\"],[0.7777777777777778,\"#fb9f3a\"],[0.8888888888888888,\"#fdca26\"],[1.0,\"#f0f921\"]]},\"colorway\":[\"#636efa\",\"#EF553B\",\"#00cc96\",\"#ab63fa\",\"#FFA15A\",\"#19d3f3\",\"#FF6692\",\"#B6E880\",\"#FF97FF\",\"#FECB52\"],\"font\":{\"color\":\"#2a3f5f\"},\"geo\":{\"bgcolor\":\"white\",\"lakecolor\":\"white\",\"landcolor\":\"#E5ECF6\",\"showlakes\":true,\"showland\":true,\"subunitcolor\":\"white\"},\"hoverlabel\":{\"align\":\"left\"},\"hovermode\":\"closest\",\"mapbox\":{\"style\":\"light\"},\"paper_bgcolor\":\"white\",\"plot_bgcolor\":\"#E5ECF6\",\"polar\":{\"angularaxis\":{\"gridcolor\":\"white\",\"linecolor\":\"white\",\"ticks\":\"\"},\"bgcolor\":\"#E5ECF6\",\"radialaxis\":{\"gridcolor\":\"white\",\"linecolor\":\"white\",\"ticks\":\"\"}},\"scene\":{\"xaxis\":{\"backgroundcolor\":\"#E5ECF6\",\"gridcolor\":\"white\",\"gridwidth\":2,\"linecolor\":\"white\",\"showbackground\":true,\"ticks\":\"\",\"zerolinecolor\":\"white\"},\"yaxis\":{\"backgroundcolor\":\"#E5ECF6\",\"gridcolor\":\"white\",\"gridwidth\":2,\"linecolor\":\"white\",\"showbackground\":true,\"ticks\":\"\",\"zerolinecolor\":\"white\"},\"zaxis\":{\"backgroundcolor\":\"#E5ECF6\",\"gridcolor\":\"white\",\"gridwidth\":2,\"linecolor\":\"white\",\"showbackground\":true,\"ticks\":\"\",\"zerolinecolor\":\"white\"}},\"shapedefaults\":{\"line\":{\"color\":\"#2a3f5f\"}},\"ternary\":{\"aaxis\":{\"gridcolor\":\"white\",\"linecolor\":\"white\",\"ticks\":\"\"},\"baxis\":{\"gridcolor\":\"white\",\"linecolor\":\"white\",\"ticks\":\"\"},\"bgcolor\":\"#E5ECF6\",\"caxis\":{\"gridcolor\":\"white\",\"linecolor\":\"white\",\"ticks\":\"\"}},\"title\":{\"x\":0.05},\"xaxis\":{\"automargin\":true,\"gridcolor\":\"white\",\"linecolor\":\"white\",\"ticks\":\"\",\"title\":{\"standoff\":15},\"zerolinecolor\":\"white\",\"zerolinewidth\":2},\"yaxis\":{\"automargin\":true,\"gridcolor\":\"white\",\"linecolor\":\"white\",\"ticks\":\"\",\"title\":{\"standoff\":15},\"zerolinecolor\":\"white\",\"zerolinewidth\":2}}},\"xaxis\":{\"anchor\":\"y\",\"domain\":[0.0,1.0],\"title\":{\"text\":\"value\"}},\"yaxis\":{\"anchor\":\"x\",\"domain\":[0.0,1.0],\"title\":{\"text\":\"probability\"},\"rangemode\":\"tozero\"},\"legend\":{\"title\":{\"text\":\"variable\"},\"tracegroupgap\":0},\"margin\":{\"t\":60},\"width\":1000},                        {\"responsive\": true}                    ).then(function(){\n",
              "                            \n",
              "var gd = document.getElementById('2df213fe-6789-4d4e-9fa5-395fe3d3a7e5');\n",
              "var x = new MutationObserver(function (mutations, observer) {{\n",
              "        var display = window.getComputedStyle(gd).display;\n",
              "        if (!display || display === 'none') {{\n",
              "            console.log([gd, 'removed!']);\n",
              "            Plotly.purge(gd);\n",
              "            observer.disconnect();\n",
              "        }}\n",
              "}});\n",
              "\n",
              "// Listen for the removal of the full notebook cells\n",
              "var notebookContainer = gd.closest('#notebook-container');\n",
              "if (notebookContainer) {{\n",
              "    x.observe(notebookContainer, {childList: true});\n",
              "}}\n",
              "\n",
              "// Listen for the clearing of the current output cell\n",
              "var outputEl = gd.closest('.output');\n",
              "if (outputEl) {{\n",
              "    x.observe(outputEl, {childList: true});\n",
              "}}\n",
              "\n",
              "                        })                };                            </script>        </div>\n",
              "</body>\n",
              "</html>"
            ]
          },
          "metadata": {}
        }
      ]
    },
    {
      "cell_type": "markdown",
      "source": [
        "$$ F(x)=  \\left\\{\n",
        "\\begin{array}{ll}\n",
        "      \\text{0}    &\\quad\\text{x}\\le 4\\\\\n",
        "      \\text{0,09} &\\quad\\text{4}\\lt x \\le6 \\\\\n",
        "      \\text{0,2}  &\\quad\\text{6}\\lt x \\le8 \\\\\n",
        "      \\text{0,36} &\\quad\\text{8}\\lt x \\le10 \\\\\n",
        "      \\text{0,66} &\\quad\\text{10}\\lt x \\le12 \\\\\n",
        "      \\text{0,85} &\\quad\\text{12}\\lt x \\le14\\  \\\\\n",
        "      \\text{1}    &\\quad\\text{x}\\gt 14\\\\\n",
        "\\end{array}\n",
        "\\right. $$"
      ],
      "metadata": {
        "id": "MN8lnKMELv8N"
      }
    },
    {
      "cell_type": "markdown",
      "source": [
        "## **Вычисление данных**\n",
        "Вычисление моды, медианы, простого и взвешенного среднего, дисперсии, коэффициента ассиметрии и эксцесса для группированной выборки.\n",
        "\n",
        "$x_{mod} = x_{mod(min)} + h \\frac {n_{mod} - n_{mod-1}} {(n_{mod} - n_{mod-1}) + n_{mod} - n_{mod+1}}$\n",
        "\n",
        "$x_{med} = x_{med(min)} + h \\frac {\\frac n 2 - m_{med-1}} {n_{med}}$\n",
        "\n",
        "  $\\bar{x}_в = \\frac 1 n \\sum_i (x_i * n_i)$\n",
        "\n",
        "  $\\bar{x} = \\frac 1 n \\sum x $\n",
        "\n",
        "$D_в = \\frac 1 n \\sum_{i=1}^n (x_i - \\bar{x})^2$\n",
        "\n",
        "$A_s^* = \\frac {μ_3^*} {σ_в^3}$, где $μ_3^* = \\frac 1 n \\sum_{i=1}^n (x_i - \\bar{x})^3*n_i^*$\n",
        "\n",
        "$E_k^* = \\frac {μ_4^*} {σ^4} - 3$ , где $μ_4^* = \\frac 1 n \\sum_{i=1}^n (x_i - \\bar{x})^4*n_i^*$\n"
      ],
      "metadata": {
        "id": "8EGwxQEjnMos"
      }
    },
    {
      "cell_type": "code",
      "source": [
        "x = [5,7,9,11,13,15]\n",
        "n = [9,11,16,30,19,15]\n",
        "A = 0\n",
        "\n",
        "while i <= 5:\n",
        "    Xp = Xp + x[i]\n",
        "    Xv = Xv + x[i]*n[i]\n",
        "    i+=1\n",
        "\n",
        "Xp = Xp/6\n",
        "Xv = Xv/100\n",
        "sumxminxv = 0\n",
        "\n",
        "i = 0\n",
        "while i <= 5:\n",
        "  D = D + (((x[i] - Xv)**2)*n[i])\n",
        "  A = A + (((x[i] - Xv)**3)*n[i])\n",
        "  E = E + ((((x[i] - Xv)**4))*n[i])\n",
        "  i+=1\n",
        "\n",
        "D = D/100\n",
        "O = (D)**(1/2)\n",
        "A = A/(100*(O**3))\n",
        "E = E/(100*(O**4))-3\n",
        "\n",
        "\n",
        "\n",
        "\n",
        "print(\"---------------------------\")\n",
        "print(\"Среднее простое:\",Xv)\n",
        "print(\"Среднее взвешенное:\",Xv)\n",
        "print(\"Дисперсия:\",D)\n",
        "print(\"Среднее квадратичное отклонение:\",O)\n",
        "print(\"Коэффициента асимметрии:\",A)\n",
        "print(\"Коэффицент эксцесса\",E)\n"
      ],
      "metadata": {
        "colab": {
          "base_uri": "https://localhost:8080/",
          "height": 235
        },
        "id": "cMhRtIztkK6o",
        "outputId": "e59a1f18-a949-4e54-d04f-d108c6ddaca0"
      },
      "execution_count": null,
      "outputs": [
        {
          "output_type": "error",
          "ename": "NameError",
          "evalue": "ignored",
          "traceback": [
            "\u001b[0;31m---------------------------------------------------------------------------\u001b[0m",
            "\u001b[0;31mNameError\u001b[0m                                 Traceback (most recent call last)",
            "\u001b[0;32m<ipython-input-3-08c2f2ed4534>\u001b[0m in \u001b[0;36m<cell line: 5>\u001b[0;34m()\u001b[0m\n\u001b[1;32m      4\u001b[0m \u001b[0;34m\u001b[0m\u001b[0m\n\u001b[1;32m      5\u001b[0m \u001b[0;32mwhile\u001b[0m \u001b[0mi\u001b[0m \u001b[0;34m<=\u001b[0m \u001b[0;36m5\u001b[0m\u001b[0;34m:\u001b[0m\u001b[0;34m\u001b[0m\u001b[0;34m\u001b[0m\u001b[0m\n\u001b[0;32m----> 6\u001b[0;31m     \u001b[0mXp\u001b[0m \u001b[0;34m=\u001b[0m \u001b[0mXp\u001b[0m \u001b[0;34m+\u001b[0m \u001b[0mx\u001b[0m\u001b[0;34m[\u001b[0m\u001b[0mi\u001b[0m\u001b[0;34m]\u001b[0m\u001b[0;34m\u001b[0m\u001b[0;34m\u001b[0m\u001b[0m\n\u001b[0m\u001b[1;32m      7\u001b[0m     \u001b[0mXv\u001b[0m \u001b[0;34m=\u001b[0m \u001b[0mXv\u001b[0m \u001b[0;34m+\u001b[0m \u001b[0mx\u001b[0m\u001b[0;34m[\u001b[0m\u001b[0mi\u001b[0m\u001b[0;34m]\u001b[0m\u001b[0;34m*\u001b[0m\u001b[0mn\u001b[0m\u001b[0;34m[\u001b[0m\u001b[0mi\u001b[0m\u001b[0;34m]\u001b[0m\u001b[0;34m\u001b[0m\u001b[0;34m\u001b[0m\u001b[0m\n\u001b[1;32m      8\u001b[0m     \u001b[0mi\u001b[0m\u001b[0;34m+=\u001b[0m\u001b[0;36m1\u001b[0m\u001b[0;34m\u001b[0m\u001b[0;34m\u001b[0m\u001b[0m\n",
            "\u001b[0;31mNameError\u001b[0m: name 'Xp' is not defined"
          ]
        }
      ]
    },
    {
      "cell_type": "markdown",
      "source": [
        "![изображение_2023-03-01_012704780.png](data:image/png;base64,iVBORw0KGgoAAAANSUhEUgAABJgAAAEpCAIAAABQmA+QAAAgAElEQVR4nOydfXRTVbrwN5QUaQoF2lCLCbaVjxlC6FHsFRw/prajN5r2An7QYRondN27UJdzFdu1ZuW14lCZ1XFsRlnOXGTWvUyu7ThUx4y3jdNRW6vOB7gq3jBYkSIUTbSWptJK0wqh+P7xvOx3zzk5O6dpcpJTnt8frLKfk3P2x7OfZ+999n7OjCVLlhAEQRAEQRAEQRBEO8xMdgYQBEEQBEEQBEGQyYETOQRBEARBEARBEI2BEzkEQRAEQRAEQRCNgRM5BEEQBEEQBEEQjYETOQRBEARBEARBEI2BEzkEQRAEQRAEQRCNgRM5BEEQBEEQBEEQjYETOQRBEARBEARBEI2BEzkEQRAEQRAEQRCNgRM5BEEQBEEQBEEQjYETOQRBEARBEARBEI0xS07g8XjUzAeCIAiCIAiCIEgKsnHjxmRnIQKyEzmSvBx7PB71H52Uh3JItfwkgkuhjEi8QG1BFIKqgkhBrUCUg9qCSEnZ91u4tRJBEARBEARBEERj4EQOQRAEQRAEQRBEY+BEDkEQBEEQBEEQRGPgRA5BEARBEARBEERj4EQOQRAEQRAEQRBEY+BEDkEQBEGmJwaD4Z577iktLZ0zZ06y84KkEKtXr96wYYPJZEp2RhBtsHz58jvuuCPZuUAigBM5BEEQBJmGlJeX//jHP16wYEF5efl//Md/rF27Ntk5QpJPWlqa0+ksKSkJh8Pbt2//8Y9/nJaWluxMISnN3Llzq6urb7nllmRnBIkATuQQBJlu3HjjjU899ZQgCMnOiCKsVuuTTz5ZWFiY7IxciixatOiJJ57YvHmzwvTUxGQyPfXUU1arlU2cO3fuTTfddPr06RdeeOFXv/rVxMRERUUF53qEZf369Q0NDdIXVnLpqYnD4fjJT36SlZXFJlosFrPZPG/ePK/Xe+LECbPZbDabOdcjfOTczXRyQxs2bFi0aJHy6xE1wYkcgkTBbDY/8cQTzz333IMPPkhtGSQmN2NIRNauXWu32998802fz5fsvPw/+CrU3t5+7Nixf/u3f8Pxk8pkZWU98sgjo6OjL7zwgpL0JLJo0aIHH3zQ4/E899xzmzZtoumbNm164okn/H7/yy+/fMcdd4jeuaWlpV1++eWXXXbZsWPHRkZGFi5cuHjxYkKI3PUIUFFRcfvtt//+97/3+/1K0pMI37Y0NTWNj4/fd9997Du3vr6+rq6ud955hxAye/bss2fPjo6Ogiji9QgHOXczndzQmjVrjEbjiRMn2ER0W6nDrGRnAEFSmieeeMJgMLz44osffPBBSUlJfX394OCg2Ww+derU9u3bk507RExWVtZdd93V19fX3t6e7Lz8P5So0EsvvbRjx4777rvvySefTG5uLyk2bdqUlZX1q1/9SmF6snjwwQdXrVr14osvvvjiiwaDobKysqSkBLSop6fnscceI4QcOHDgmmuuuffeez/77DOYZpw5c+aRRx6BOyxbtiwrK+uTTz75/PPPIUV6PQIUFhbefvvt77777sGDB5WkJ5GotmViYuKVV16pqamx2+1utxt+NTIy8l//9V9Lly7dtGlTfn7+yy+/TMfoEa9H5JBzN9PJDaWlpd1yyy1vvvlmSUmJ6J7otlIEnMghCI+urq4333wT/m5paenq6lq1atUHH3zQ0tKS3IwhEbnjjjsWLlz4/PPPJzsj/x8lKjQyMvLWW2+tX7/++uuv/9vf/paknF5arFq1au3atW+++aZoGiOXnkQ+/PDDX/7yl/D3qVOnHnvssVtuucVgMDz77LOnTp2il/3pT3+6+uqrb7/99j179oju8L3vfe/8+fMej4dN5Fx/KfMv//Iv58+fb2trU5ieRJTYlqNHjx48ePA73/nOO++8w75UWbly5eWXXz4yMnL+/Hn2nnLXI1Lk3M10ckN33nlnMBg8cOCAdCKHbitFwK2VCMKD2j7g1KlTb775Js7iUpO5c+dee+21AwMDPT09yc7L/0ehCh08ePDs2bO41U01vvOd78yYMePvf/+7wvQkIlIhSGlpaWFncYSQEydOnDhxYvXq1aLTLBUVFcuXL9+9e7eoX8hdfylTWFi4cuXKEydOiOpWLj25KLQt3d3d6enp119/PZvY2tq6a9eujz76yG63l5WVRb0eESHnbqaTG1q1atWKFStEC0Cc65GkMKWJnMvl8ng8Ho/H6XTSRJvN1tLSQhNNJtOePXvgspaWFpvNNtUsIwlgzpw53/72tzE+NaJpLBbLokWLjh49OjExkey8TBq/39/f319YWGgwGJKdl+nP3LlzV6xYMTQ0JB2ERUzXCseOHcvKyrJYLDSltLT06quvbmxs/Pzzz+12u16v519/ibN69Wq9Xt/b26swXRMcO3ZseHh45cqV8N/S0tKGhoY1a9YQQsbHxy+77DKj0ci5HomInLuZTm7IZDLNnTv30Ucf/fnPf75y5cpFixbt2LFj6dKlctcjSSE+WysFQbDZbF6vV5RuMpnq6upoA+t0OrvdTgiRXhkDRqPxBz/4wcqVK8fHx3/3u98tWrTotttuu3Dhwssvv/zaa69N/f5S1qxZU11dPXv27Ndee+3tt9+22+2rV68mhLz//vu//vWvx8fHE/FQPllZWVVVVddee+3ExMRrr7126tSp73//+7Nnz37jjTcmdUy/tLS0srJy3759nKZJVvHVb2gR5eXlt91227x583p6ev7whz/ce++9S5Ys6e3tffbZZ0dGRlTIAKKQ/Pz8mTNnDgwMiNLj1U1i5oYbbli/fv3ll19+8uTJ559/fsOGDWaz+fPPP//1r3/Nbl7y+/3Lly9fvnz54OAgIaSwsPCBBx7Izs7ev3//b3/7282bN19//fVpaWnHjh3bs2dPSr0Z0Bwmk2nBggVHjhwRDbbk0kmy7YBCFerr65sxY8by5cs7OzsJIWvXrv3ud7/7pz/9KTc395prrsnNzQ2FQuxtRdejyuXn558/f/7TTz9VmJ5c96TQsp05c+bUqVMFBQXLli07duyYyWRaunTpVVdddfDgwbS0tPPnzw8PD7O3FV1PCLn33ntLSkpOnz793//93+np6XfffffixYvHxsb+8Ic/pM4xMJWRczcp64YUWjDWDbW3t9P2dblchJDHH39cdFuR20rBcfK0Jz5bK3U6nXT7LCGktLTUYDCMjY3V19c/9NBDg4ODOp0uLot/ixYt+vd///dAIFBdXd3b2/vAAw/cfPPN+/btmzlz5u233z537typP0LE3Llz169f/9prr42MjGzYsGH79u3Hjx+vrq5+4403brjhhg0bNsT9iVFJS0vbtm3bzJkzH3jggbfeeuuuu+6qqqp65ZVXvvrqq1tuuWXZsmVR72A0Gu+6665FixaNj4+Hw+HTp08vWrSoqqpKtD5Hkld89RtaxObNm2+88cbGxsbGxsZvfetbjz322CeffOLz+SwWy/e+971EPx2ZFEaj8cKFC/39/Wzi1LvJFCktLb3zzjtbWloeeeSRBQsW/OQnPyGEdHZ2FhQU3HbbbeyVp06d+uabbxYuXAj/veuuu3p7e3t7e0tLSxsbGycmJh544IGmpiaz2ayVsPgpy5VXXpmRkSGdmcilJ9cOKFehYDAYCoVAhQwGww9+8AOz2VxTU/Poo49ardZz586J7sxeT1DlCFm8ePH4+Pjp06eVpCfXPU3Ksn3xxRdz5syZN28eIeSdd945efKk0Wi89957161bd/DgQenBP/b64uJii8XS1NQE5b377ruff/75H/7wh0NDQ/fcc88l++IuoruRS0+6G1JuwURuiBCydOnSJ554Ii8vLy8v74knnmDfyImuT8Fx8qVA3M7IFRQUOByOiKJQKDQ0NOT3+yHEbU5OztQft2HDhqGhod/+9rcTExPj4+NpaWl/+9vfFi9evGDBgq+++urMmTNwWVZWVrw+c7F69epZs2YdOHBg1qxZaWlpr7/++iuvvDIxMTEyMnLhwoX09HT2YpPJpMKL5vLy8vT0dLfbPT4+/vXXX8+cObOnp2fGjBmXX375+Pg4XWObM2fOsmXLIkYTvuqqqzZs2PCzn/0sOzv73LlzV1xxxc9+9jOr1XrVVVeJrkxW8RU2NKeMU6GwsPDaa6996aWXTp48OT4+DuV95513li9ffv78+WAwGN/HIVNEp9ONjY2JBltT7yZTYe7cud/73vc6Ozu7u7vHx8fPnz9/9uzZtrY2s9k8c+bMoaEh9uJvvvlm1qxZ2dnZhJBly5ZlZ2d3dXXNnj07LS3tf//3f/fu3Ts+Pv7ll19OTEyIdkGrY3CmE7NmzTp//ryo/uXSlduBwsLCuAfjnpQKXbhwgQ6qBgcHf/SjH21k+PnPfy66OXv9pFQujr41dUhLS5s1a1YoFKKxPfnp6o9DWBRaNmBiYmLWrFl5eXmEkBMnTmzfvv3Pf/7zmTNnduzY8eSTT0rfP7PXX3vttSdOnDh79uzMmTMnJiaee+65Dz74YGJiYnR0VKfTibx/IrpAahLR3cilJ9cNTWokw7oh4OOPP37sscc2b968efPmxx577OOPP5a7PgXHyZcCcdhaOTY2FgqFDAbDunXrYHuGCL1eD22cmZlJCInL8DcQCHR1dcHfJpNpfHz8o48+OnLkSHd398mTJ+llP/rRj4xGY319vcj+xsDg4OAbb7yRk5Mzb968zz777NVXX4V0o9E4c+ZM+hkWQkh+fv7/+T//5+OPP5Z6zfhy5syZ3//+9+AtYBHo448/fv31148fPz4wMEDflVdVVcFKjPT4/ttvv33kyJFNmzatX78+PT19/fr1+/fvl56hJ8krvsKG5pQxLS2toqKCv3xw/vz5d99998MPPxSlz5o1C8ZPhJAlS5bo9frjx48fPXr0pz/9KSEkdYLaIcDChQu/+eabCxcusIlT7yZTUaE5c+b87W9/e/vttwkhJpNp3rx5Q0NDR48efeqpp7KyskQesb+/n0aQg4BgIyMjOTk5X375Jd2mVVBQkJ6ezo7SVDM404ns7OxZs2Z98803StIV2oHrrrvuwQcffOONNyJGq1u7dm3U3SiffPLJ66+/LkqclAp9/vnnos2TfNjrlasciatvTR0WL16s1+tHR0dFExu59KmPQ7Kysm6//XYYGslx9uzZN998MxAIiNIVWjZgaGiIjU45Pj7e3d0NKh0R9voPP/xwcHBQEIT09PR3330XtvLOnTt30aJFX3/9Natv/C4wzYjobuTSk+uGJjWSYd2QEtjrU3CcfCkQnzNyra2t3//+9w0GQ1VV1eHDh2l6Z2fnunXrDAYD/U5FOBxmL4gZqh/Lli1btGjRyMiI3+8fHx8/cuQIexlEVYadu1MENpyUl5dnZGQcOnQIDPrcuXO/9a1vjY6Osj3n5MmTP/3pT1U4TkCnzXPnzi0oKBgbGztx4sTExIToQPaLL7746quvyrnbs2fPnjt37vz58+np6efPnz937tzZs2ellyWr+Aobml/GmIFSw9/Lly/X6XSffPIJwSmcpohLN4mZU6dOtba2wt8rV67MzMyE7jM4OMi3S6dOnWpvb1+zZs2CBQs++eQTUDxCyKpVq86fP89mXjWDc8mi0A689957dXV10gH3FIlZhWJ4kEKVI3H1rdpF/XEIi0LLNnVgEWHDhg3hcJhOUFevXm0wGE6ePAmH6IAEdYFpQHLdkGojmRQcJ18KxGci99lnn/X09BQXF5vNZnZnsN/v3717d21tbUZGBiEkHA43NTXFJdIJZenSpXPnzj1+/LjUShoMhssuuyy+mnrVVVfNnDmT2imLxZKTk/Ppp58ePXqUXlNYWDg0NKTmmc6CgoIFCxacOnWKzQaQlZWVnZ0t9zWYm2+++V//9V8nJiZef/31G2+88c9//nNZWdkNN9zwn//5n2C7RSSx+JyG5pdxYmLiD3/4w9QzUFBQAAuuU78VkiDOnDkzd+7cmTMj7xiPuZvES4UKCwthIVbugry8vFmz/sEmr1ixYvbs2dSIFRYWXnHFFV9++SW7HKa+wZkGjI6Onj9/fsaMGQrTKXJ2IC0trbCwMBAIyIWqO3DgwIEDB6aY7agqRN8dKbyh9HolKpcI35oKDA8Pf/311zNmzEhLS2PbUS6dEvM4ZGRk5He/+90Us82xbBR41az8nqLrDQZDXl5eKBSi4V5WrVql0+nYoXnULjDNkHM3Ke6Goo5kpG6Ij/T61BwnT2Pi9kHw5ubm/Px8g8Eg+iCJz+erqqqK11OAtLS0Rx55ZOnSpb/+9a/z8/PT0tLo2mFdXd2nn376/PPP33HHHddee+0VV1zxxz/+8ZVXXonXc5csWcKuKxQVFc2ePfvw4cNFRUWbN29+9tlnKyoqsrOzFy1a1NjYmOiPaW7ZsuWmm2568cUX9Xr9nDlzqAHdunXrvHnznnrqqbVr1952220Gg+Hw4cMRP/l6/Pjxzs7Ojo6OFStWzJo168iRI2+99VZZWdnx48dTofhKGjpqGafC2rVrq6urjx492traunDhQlhwJYRcf/31d955p8vlmk7biqYBY2NjGRkZ8D6BJk69m0yFwsLChx566Kuvvnr22WevuOIKWIiF9AcffNDtdrNbaGbMmCE6oFVQUBAOh+li6jXXXDN//vy//vWvs2fPbmxs3Ldv37p161QzONOJUCgkOgfCSY9qB0Kh0AMPPJCRkaHX6x9//HF6OCouTEqFZs6cOWPGjC+//FLhzaXX81XuhRdeyMvLi7tvTRHOnDlz9uzZrKysxYsXs1OviOnJGodQolo29mKITimNzCGH6PolS5aAXYX3b3Pnzl25cuXo6Oj777/vcDhyc3Ofe+65xHWB1CSiu5FLT64bmtRIRuqG+IiuT7Vx8qVA3IKd+P3+/fv3E0IyMjJ0Oh0kCoLQ3Nzs+UfkYqIox2w2WyyWjIyM+fPnr1q1amJi4quvviKEgHJ0dXXNnTt31apVb7755syZMye1tMBnxYoVCxYsOH36NF1XWLp06ZkzZ3w+30033RQIBK644oqZM2f29vbqdLq4H1cVsXjx4uuuuy4jI2P27Nlr1qxJS0uDMwxr166FshNCrrvuur/85S+EELnFoUAg4Ha7A4HAnDlzZs+enZeXR1OkF6tf/KgNraSMU+Gmm27Kzs6eM2fOddddN3/+/LNnzw4ODmZlZZWXlx8+fBhncanGF198QQ/oA3HpJlPhhhtuMBqNer1+zZo1ubm5586dO3PmTFpa2t133/3FF1+IDkLAd5mpXsEq+JkzZ+gbmGXLlp0/f/7w4cM33njj2NjYZZddpprBmWZ89tlnZ8+elX4IO2J6VDtQUlLS398/NDSUiFaYlArl5OTo9fovvvhC4c1F10dVuePHjyfCt6YOwWBwzpw5CxYsiJqerHEIoMSysVx++eWhUEh5hALR9fCelq7wXnXVVdnZ2f39/cFgcOXKlQcPHkxoF0hNpO5GLj3pbmhSIxmRG4qK6PqUGidfIsTTuLjdbovFUlBQEMd7RqSvr+/zzz/Pysq66667+vr6zpw5U1FRUVJSMnv27N/85jd+vz8tLa2pqemWW265cOHC+++/H6/nXnnllXPmzDlw4ADdOXD48OHbbrvtgQceOH36dGNjIyHk2LFjjzzyyKeffspuHE8En3/+eV9f36xZs8rKyk6fPv3ee+/dfPPNZrM5MzOztbX14MGDhJCXXnoJPM2hQ4f4d+vs7Dx+/Dh7PluK+sWP2tCTKmMMHD58eOXKlQsXLszLy/vjH//43e9+9xe/+MXs2bM//vjjpqamuD8OmSLHjx+/cOFCbm4uTYlvN4mBnp6em266aebMmevXr3/99devv/762tpaCDb49NNPiy42mUynT5+mm5fy8vLmzZt37NgxurIL0aI3bNhw7ty5X/7ylxD0Qh2DM83o6+uDr62INstFTI9qB95+++0FCxY88sgjhw8fjvu7iEmpUEFBwTfffMO35Jzro6rc6OhoInxr6nDixImioqIlS5aIZsjS9GSNQwAllo0CgUmCwaDo3ZEc0uuNRuPZs2fp2b/jx4/DiPzxxx9/7733Ojo6FixYkLgukJpI3Y1cetLd0KRGMiI3FBXR9Sk1Tr5EiPMqUVdXl9FopG/kErGvkhBy5syZRx99dPny5aOjo2Auly9fTgjp7e0F1ZmYmBgYGBAE4aOPPhofH58zZ05cduK+9dZbJ0+eZH2k2+3u7OzMzMykj77mmmsMBsNLL720ePHiRL+xefLJJ+GDHrB6unTp0ssuu+z48eO0sJ9//vkPf/jDgYGBY8eOZWVlcb5aKz2fLUX94kdt6EmVMQba29vfe++93NxcqNW2trYrrrjis88+u8SP+Kcsf//737/44osVK1awo/A4dpMYOHjwYE1Njclk8vv9IyMjL7/88pVXXnn69GnpmRmTyZSXl3f06FGqXT09PTt37mQ/LCtSSKKuwZlOnDlz5sMPP1y7dq3ZbGaH7BHTo9qB06dPf+c735k9e3Z3d3deXp7yDWxKUK5ChJBly5aNjIwojygmul6JyiXCt6YO77///m233QaOhp+erHEIJaployxbtmz+/PmcGJVRr//Nb37DhkgVlZ0kuAukJhHdjVx6ct2Q8pGM1A3xkV6fauPkS4E4v8P1er3qBCyamJg4cuQIWBD4+8iRI2xfuu666xYuXHjkyJF7771X+u47NmC2I7KSfr+ffXRxcfHXX38dDofvvvvuuDyUz8cff0xt68cff/zBBx+w2SssLCwoKOjp6dm8ebPZbJ7is5JS/KgNHd8yShkcHKS1Ojg46PP5cBaXspw5cwbclUgT1OwmUkZGRj744ANwzCMjI3//+98jDsHXrFmj0+n+/Oc/0xSIaSby6KxCEtUNznTir3/96zfffLN69Wol6VHtwNVXXx0MBpcsWSL6QndcUKhCoMnvv/++wlhw0uuVqFwifGvqcOLEiQ8//LCwsFC0vTZielLGISx8y0YpLi4eHx+PGMAsItLrBwcHRSF22LIDCe0CKYicu0lNN6RwJCN1Q3yk16fgOHnaM6WJXE1NzcaNG6uqqnw+nyhx48aNDQ0NU85e7Jw9e/b8+fP/9E//1N/fr+ZhyrNnz6alpd14443vvvuuag+VIxwOnz17dsWKFRcuXFAnP+oXX/0yIqnMq6+++uWXX95xxx3Kf5IKKpSVlfXd73738OHDylfNgZQyONrigw8+OHDgwHe+8x2TyaQknc+5c+cuu+yy1atXv/POO/HOqVL++Z//+dy5c21tbQm6HkiWb1WN//mf/5k1a1Z5ebnCdA6pUFcrVqxYs2bNO++8ozDK6GSvp6RCF1AZOXdzibghdFspwjQ8rAwcPHjw0UcfVT9Estvtfuedd4aGhuL7Zjw2/H5/XV0dJ6Bt3FG/+OqXEUllRkZGfv/731dXV1ut1vb2diU/SQUVuvvuu8fHx/fu3TvZH6aUwdEcLS0thYWFmzdvfvLJJ5Wkc2hsbITY68naarh27dqVK1c2NzcrfB032espyfKtqnHixIk//vGPNpvN5/Oxh83k0jkkva7S0tLWr19//PjxlpaWRFzPkvQuoD5y7uYScUPotlKEaTuRI8n7VmlKzShGRkZU7irqF1/9MiKpzIEDB3Q6XUVFRX9/P7tZgENyVchqtS5btmzPnj2x5SGlDI62GBkZ+cUvfvGjH/1o8+bNL7zwQtR0DhMTE0k8uG8yme68885XX31V4afqJnu9iGm/vby1tXXmzJl33XXXqVOn2DmYXDqH5NaV3W6fM2fO008/rfDbbpO9niW5XSBZyLmbae+G0G2lDjOWLFkSUeDxeDZu3KhybpL46CSWNyKplp9EcCmUEYkXqC2IQlBVECmoFYhyUFsQKSmrFfH/YAWCIAiCIAiCIAiSUHAihyAIgiAIgiAIojFwIocgCIIgCIIgCKIxcCKHIAiCIAiCIAiiMXAihyAIgiAIgiAIojFwIocgCIIgCIIgCKIxeJ8fUDkrCIIgCIIgCIIgqUZqfn6A90Fw/I5cEkm1/CSCS6GMSLxAbUEUgqqCSEGtQJSD2oJISdn3W7i1EkEQBEEQBEEQRGPgRA5BEARBEARBEERj4EQOQRAEQRAEQRBEY+BEDkEQBEEQBEEQRGPgRA5BEARBEARBEERj4EQOQRAEQRAEQRBEY+BEDkEQBEEQBEEQRGPgRA5BEARBEARBEERj4EQOQRAEQRAEQRBEY+BEDkEQBEEQBEEQRGPMistdHA5HWVlZY2Ojz+eLyw2V4HK5CgoK6H8HBwd37tzp9/sT+lCbzWa323U6nWpPVAhkLBAI1NTUQIrT6SwuLqYXjI2NqdxAiUMQhNra2oyMDJrS3d3d0NAQ8WK2Hvr6+iLWT2trq9vtTmSWkaQR1VCAOnV0dPB1QGrlRHqIWqQhWEseDoebmpq8Xi+Vsjojalb2h6w9YWF/HvEaOaNEpfn5+VLnwv8VkmjkxjkOh6OiogL+jjgqgAtYJ6VkIMExLxwPyFdsNqsipxlRZDKZ6urqDAaDKG9U/TgFibuILbVoPCMnEhl/ThvFACc/MVgAtv4pfNMUsUSiJqNqwz5RWgP0tqInsncTlZHNsHR4GXV8BXfW6/XTZlyaRKY6kaPNPzY2Fo/8TA7O8D0RgIlpb28HpXS5XHV1dSkylyspKQHbxzKNnX04HN67dy9r4CLicrlyc3Pr6+tFlsLpdJrNZkin9ghH4dMVOUMR0XdKkbNymzZt2rdvHyghapGGMJlMJSUlDQ0NYBacTqfdbieEQFO6XK7MzMyHHnrI7/eDzScXm5V1ATCMczqdItUSBOGrr77auHEjuTjUc7lcrB2WM0rsmGlwcFCUZ7lfISrAGec4nU5BEDjOyGQyrVu3jk1ROJDgmxc5D7hs2TI6EBcptsPhsFqt8CvIA9VeOZHf79+6daso85WVlV1dXfyCxF0EXamnpwcy7HQ6a2trYQ7AEYnGP/ylKUEAACAASURBVHDl/v374zWLk8tPDBbA7XaLfIfL5aJtR+GXCP47MDAgbbV58+ZBlsDOsCrHWjyn01lZWRkIBHw+H1w5OjoKd3O5XLSMhJArr7ySFkEkUjK+Ki0tNRgMSZk4TD+mtLVSEISFCxfu3bu3tbU1XhlSiMlkyszMVPmhJSUlgUCAqmNTU1N6enpRUZHK2ZBis9lyc3NFXSInJydZ+Uk0RqNROmuV4nA4cnNzpes9JpMpPz+/p6cH0t1ud19fn8ViSVR2keTBNxQWi6W7u7u+vp7jTjhWzul0Ui+LWqQh/H5/TU0NNQvNzc3Dw8PQdmBL29raYIjj9Xp9Ph9tVtYF+Hy+jo4Os9ksCAJ7c5/Pt2PHDvp3R0dHbm4uvUbOKBFCioqK0tPT6+vru7u7RSLOr5BEw7EANpvNbDaL3pmIKC0t1ev14XCYpigcSHDMC8cDPv300/RXrGITQiwWSyAQACkodn5+vslk4otElJSUDAwMwJWcgsRdZLVaQ6FQc3MzLVooFIJuxRGJgCs7OzsjVt2k4Dw0ZgvAAoYIJsxRs0FLZLfbBwYGpMv3Xq/X6XTC336/v62tTa/XQ8WKLB4UxGq1EkKKior0ej3NQ1NTEyGEFmTHjh20CKxIyfgKVjdGRkb4pUMUMqWJnM/n27JlS9S3ItMDGBEGg0GaMjQ0dO7cuaQP3UwmU3l5+V/+8pdQKJTcnKQUYCkGBgZw6IPIUVNTE/WVvnIrFwwGMzMzI45+kFTG7/ePjo7Cyhf8GwgEqLS/vx/GYYIg5ObmHj58mIqCwaBOp4s4ZKTk5eWFQqGhoSESzSh5vd4tW7ZIRWjKkgvHApSUlIRCoUOHDsn9VhCEm2++uaOjg07kYh5IxGBesrOz9Xp9f3+/8p/wYWcXnILEXUQIycnJGR0dpW/SoM9GFbEIgmA2m+PyOk75Q8lkLAALO2GWQ1Qim81mNBpZAyUH2DewdRaLhdVhKIjcNF4Oo9FICGHbjk9VVdXo6Ghvb6/yRyActBrsJO4WSiHS11xJf/EFXeLVV19lE6U2cTohHWxJAQ2JaNT8fv/+/fsFQbDZbIQQh8NhNBqjLn0hWkRNQyFy7YhWEFlLnU4H4xIKpEgHK4FAIBwO5+Xlyd3ZZrMJgkBHWhyjxCG2XyGJBtTm5MmTnC5vt9t7e3ulo/YYBhKseVHiAeHp7Ouarq4uo9HocDiIRDM5Ihbp7IJTkLiLpPNYmsIRUeL4Oi5qfiixWYDYXsfl5OSEw2Elyz2sKZO6rWAwqNfrs7OzvV7vwMBAeXk5FEqkThR4l0AVI+r4ymazLV++HF7iIXEhPsFOkkVFRQXsvlXhMBhoZ0VFhcPhgFf/Dz/8sMFgGB0dTehz+TgcDrPZ3NjYGFFaXFzs8XhIisVliQsZGRnbt2+HvyMepaVDsebmZjiOzFYCXF9dXV1dXS09T4xMM1QwFOCu0DlpkaqqKr1e397eTgjp7Oxct25deXn5oUOH4NAO7DKKyNDQUMR9EPRYyODgYG1tLTW8fKMkR2y/QhINDMpPnz69Z8+eiNEgnE5nZmbmM888k52dTX8V20BCal7kPCB70lLkGcHH2e12UE5WyhFR4I10R0dH1ILEXUQI6erqstvtVVVV9ExaQUEBHCXliCiw348/654U/IdO0QKI3pJFRFoiePW3du1aqhgRD4eL5l1S+vv7zWYz/F1TU+NyuXbt2iXNKo31Ih1BccZXgiBUVlZ2dHT4fD6OaUUmhVYncj6fr6qqCv4GfdqzZ0+ifRtoJx0USk8yqIwgCGVlZdAlROtA7BllsOwNDQ3T5ogFeywYLGZeXp7UYOl0OqvVCkZEdMCXPd0L+mOxWNQMnIOogzqGgkalw+UAzQHR1VpbW8E2+v3+nTt31tXVwdhlbGysvb29rKxsUvekBspmszU2Ng4PD1OV4xglzg1j+xWiArfeeiud9rAhH+D43L59+/x+PzuRI5MfSEjNC8cDsq7f5XJ5PB42bqHZbIYYP6BFFosFFrY4Ior0jRanIHEX0akmrE339fV1d3fn5+fzRRQ4qQiLNXGB/9CpWADYMNnR0cHv3RFLZDAYrr76ajZQkygaE40VuXv37qhlpAFdQBMcDkdjYyOdlVHfCve02+1UxBlfwSk+DAkWX7Q6kWPx+Xz79u2z2+2lpaWJ1g/WgIL6njx5MqFPlMNkMt1///09PT1Ri+z3+3fv3l1bW2u1WjU3kWOD2EZ8deZ2u/Py8iDkgLR07e3t9HV/W1tbZWVlUVFRUVFRbm4uuFhy8Tiy1Wq12Ww4ENcuohCU0kXlBBkKl8tlNBqVxFBFUgo6phGFjxNF6oP9ZoFAQLTfkijYuEtHe6zKRTRKUadksf0KmRRR3Y2U7u5uNjhHbW0tnJmE1w5yP1c+kIhqXjgeEF6nrFu3rrOzMzs7G6YHdMGira3Nbrc7HA6fzycnYjMZ8Y0WpyBxF3m9XlEgfronkCMCLBZL3E+ZRn0oickC0Igp/KdHLNHY2Nju3btpnVgsFjjtRg/RwUeqRDEtRdBDfVVVVWxAF7fbbbFY6G4Fej1d/CopKYGop3LjK4vFkpmZuXPnTn7RkMkyHSZy5OJZBZUfCiF9knV0AYK3GgwGWBACDAZDS0uL1P3IbQFKfZS8JWN3AlACgcDY2JjoQAthNtyzBwzoZvGpZxhJFtLwzVLiayhgnEEIYTfPIJpALk63FNGASWQlwuEw/ygye44uqlGSu0MMv0JiYFKbMsCrstN4SMnLy8vLy8vIyKBvloDi4uLm5mbpvhi5gYRy8xLRAwLBYDA3Nzc7O5tzwhMS+Yc/lYx2ONfEXSTa58kXcS6OF5xHTNYCKJlzRnxcf39/fn4+RFWhKWazOTs72+/3w0KndH0zGAyykz0AZqQRj8+BOokUEkKkwBFB6QFOKO+3v/1ts9mckZEBmx0o27dvV/lDYtOPaTKRm2zMnLigZB9z4hANW+kXPyIeAUpWbBh1YKNCUWjAKzqnpUqSk5MD0QtEg7PpGhsGocTXUDz88MOEENzhpjlgO0PEON0i2AETDNPZwHSCIOh0On7MCYgUD7aXY5Q4d4jtV0iikQYqpH5WNFYWfXNMhNxAQrl5iegBgZycHBCBHrITBlYzOSJ+JpUUJBEizmsrqUjhO66pwHnEpCyAwjlnxMdBkBL25R5VDDjrG/HoY39/vyAI9Ff01StIYW5Gb0jVSXQTCPxDZ30Rx1dHjhx56qmn2F/Bht5pc+QniWg1aqXD4aCfxYDTk1FDtU4dm812zz33wN/wGVD68Y1Uw2azUZ8Bo5b4xmtKLg0NDRAQiRDicDiKi4shKpQgCM3NzfAZTVHoJPaAb2dn5/DwMI3FBEcN6Vd0kOlEbIbC6XS2tLRQHYsIeNx4BbNG1ET0fSQR27Zto5YB3trB6AdMSkFBAWy2ZI8os5Zn27ZtVHPA7NBPY3GMEie3sf0KUQE22CORD+sngjOQcLlczc3N9FsXcuaF4wEff/xxehmESIGbe73eQCBQVlZGP/ZVXl4+PDzc2dnJEcF9YHAv3TfIKUjcRYIg3HfffbRcFRUVdC8oRwTAhDDiRDdmOA+digWAtSHRGo3NZmtpaaGOTK5EoiCTbMBMi8XCNiiLaDgEx95gO2VXV9f8+fPpIXOHw1FQUAA3tNls27ZtozeBeFEQjAfHV+qj4TdyNCQjkQnOkwjuvPPOyspKQsjY2BicDFbhobFRWFhI60eFqJ5qkp6eDgGRCCHhcFju/IDb7Q4Gg3a7Ha6kSgJnYGgsJqKi/iDqk1BDIdo9RWQCviGphk6nozYEoGeijEajnGUQBWOI2NanT59m7yy9Q0SjxCe2XyGJBqZAtbW1NChu1J26gMKBhJx5kfOAQ0NDixcvpuZOdPOamhqn00lDGrKjAo6IXHzTuH///kkVJO6iG2644dZbbyWRnD5HpOQrEbEh99CpWIC8vLzh4eGo8SrlSgTtCOZLdMjTYDCI9jTSKJRseCc2NCVVb9AotpiBQKCyspJq2uDgoNPphF/h+Ep9ZixZsiSiwOPxbNy4UeXcJPHRSSxvRFItP4ngUigjEi9QWxCFoKogUlArEOWgtiBSUlYrtLq1EkEQBEEQBEEQ5JIFJ3IIgiAIgiAIgiAaAydyCIIgCIIgCIIgGgMncgiCIAiCIAiCIBoDJ3IIgiAIgiAIgiAaAydyCIIgCIIgCIIgGgMncgiCIAiCIAiCIBoDJ3IIgiAIgiAIgiAag/dBcJWzgiAIgiAIgiAIkmqk5gfBZ3FkycpxUr6enmqfbE+1/CSCS6GMSLxAbUEUgqqCSEGtQJSD2oJISdn3W7i1EkEQBEEQBEEQRGPgRA5BEARBEARBEERj4EQOQRAEQRAEQRBEY+BEDkEQBEEQBEEQRGPgRA5BEARBEARBEERj4EQOQRAEQRAEQRBEY+BEDkEQBEEQBEEQRGPgRA5BEARBEARBEERj4EQOQRAEQRAEQRBEY+BEDkEQBEEQBEEQRGPMmsqPBUGora3NyMiA/7a2trrd7njkKgomk6murs5gMIjS+/r6ampqVMgAFLyjo0NaXo4o7rhcroKCAlHi4ODgzp07H374YTmR3+9PdMYSjc1ms9vtOp2OEBIOh5uamrxer9zFTqezuLgY/gYNcTgcFRUVosvY+7AVK9Jq9m7d3d0NDQ1JEbE1IGpWNUWsBRgbG2tsbPT5fHwRR2kTrZnQ7mxNspZElP+IuFwuo9HI6hurS6I2QjSB0+nMz8+PqH6gHnq9nlUMJS3O6Rf0oSKjxBexD5XekGOvpqspE1VyVC8wFUTjHGkRAKlxYH8Y1cRF1ENOvZF/1Ap6f45zVFIQh8NRVlYmUjDtupuEwraOtH1p15NTTlGLRx2WSO9MIg16RcNj2us5uWVFhKlAvrNmW0r0LI694vyKqGjKJjWGTH2mNJHbtGnTvn37oPy05VSYwPj9/q1bt7IpNputsrKyq6sr0Y+O2NmiihKEqAODLdu/f7/f7+eI1Mxhgli2bBnteE6n0263E0Ii9kOXy5Wbm1tfX8+adbfbLdJSl8tF7+ByuTIzMx966CFqqshFrXY6nWazGe4GVep0OsE0qCmCXLW3t0OuXC5XXV0da1vVEUGuenp6aIZra2vBZHNEydJMk8m0bt06UUpdXd3o6CgYE5fLdf/993MGWzabzWg0sikOh8Nqte7du9fr9UJF0TZCUhx2uDM4OBjxmtLSUoPBMDY2RlOUtDhH+eGCiEaJL7ryyitposvlYm/IsVfT1ZTRH/p8PnW6WzgchkaXu0BqHFg1AGVj80/h6CGn3kAqCII0V3znyCkIHSizCk807m7k2mvq2Gy2efPmbdy4kVxsRLZ92a7ndDorKysDgQDkR67F+cMSiiAIX331FTwXCu5yuahXhZSBgQHpCJmTWyLzFiSqsx4bG9u1a5e0njn2ivMrNU2Z8jGkJpjS1kqn00lL7na7+/r6LBZLPHI1aUpKSgYGBlRoBovF0t3dXV9fLzJ2fJE6WK3WUCjU2dk5KZEWefrpp2lbNzc3Dw8PR1Q8h8ORm5sb1aDbbLbc3FxYBYC/29rawFR5vV6fzwc3FwTBbDZ3dHTA3Xw+X0dHR35+vslkUlNECCkpKQkEAtToNzU1paenFxUVqSwCpWpubqYNEQqFBEHgi0SoppmlpaV6vT4cDotSmpqa4L9NTU16vb60tFTuDiUlJaKubbFYAoEAqCKoCm0jJMUpKipKT0+vr6/v7u6OeAHM/EdGRthEJS3OV36OUeKIduzYQRNBY+GGHHs1jU2ZyWQqLy9XbRZnNBrZFwgRkRoHaKD29nZCiN/vb2tr0+v1kH8WOT3k15vNZjObzRFfI3CcI6cggiAsXLhw7969ra2t0qJNG3cTR7xer9PphL9F7SvqepAfq9UKF0e1PAA7LGHx+Xw7duygf3d0dOTm5tLC2u32gYEB6ZSMk1tCSE5OjpIii5x1Tk6OnDrJ2SvOr9Q0ZUTxGFIrxPOMXDAYzMzMVH8cI6fxiaCmpkbOeXBEKgBaG/HNBkc0DcjOztbr9f39/aJ0GIcNDAxEXZZjVwHAogUCASrt7+8HQwkLrsFgkIqCwSBYQzVFJpMpMzOTFQ0NDZ07d85isagpgroaHR2lSuX3+0dHR6OKWFTTTEEQbr755o6ODnYiZ7FYWPUYGhoKhUJy1tzhcGRmZr777rsJzSeiGl6vd8uWLRzjUFVVNTo62tvbO9k7c5SfY5SU2yvWOHDs1XQ1ZYSQ0tLS+fPnHz58mF9RqjEV4yCnh5x6I4SUlJSEQqFDhw7xby7nHKX4fL4tW7ZIp4XTyd0kFOho0OksFgvbOpAfOoWIankAhS8n8vLyQqHQ0NAQufhaWEm/YHOrkJidtVSTI6KmKRM9Wnk3SVniOZETdSfVUO11XCpz6byOE2G32yOWDjpnVKMmXQXQ6XSiTTI0RafTiWwfTVFTRCKZ4KSIpAs3NIUjoqimmXa7vbe3l/Wd0kEDuNuIS1EwD2xra/v666/Z9K6uLqPR6HA4CCE2m00QhOm6XHKpYbPZli9fTt/WUhS2uJzyc4ySQnsFL6NYf8e3V9PSlOXl5Q0PD0edxsQL6TiSRc44dHZ2hkIh2LIlbTUlyNUb2K6TJ09GNTUi58gvCIfp4W4Simh5RTQShilEdna2wrspfDkhMkE5OTnhcFjJhlI2t1JXGBGps2bnkHJINZ/zKzVNGYvcGFJDxG0i53A4jEajOq/FWARByM3NTZ3FuaRgMpny8/MjWnaOSLuYTKY9e/Z4PB6Px3P48OGtW7dKS0e7fXNzM1y5Z88eqWUXLZ51dnYODw+Xl5fTHSx0R4TX6w0EAmVlZbBJQBCEyspK2CSgpsjv9+/fv7+goABGk4SQhx9+GDbcqykihHR1dc2fP7+qqgr+63Q66VlkjohtRHU00+l0ZmZm0o03HCI6M5PJdP/99/f29koHYV6vt6mpyWq1ejye6upqerQD0TTQ3d5++23pkEhJi3OUn2OU+PZKEARIb2xsbGtro1unOPZqupoycnGgXFVV5bkIvSxBZGRkbN++XfosjnHw+/07d+7MzMz0eDy7du0aHR2dVCQ2Tr3BnP/06dPUCTY3N9Ota3znKFcQOaaNu0koUSfqk33bIxqWiHA4HNCC5eXltbW11ATBHGnt2rW0X9DtlFFzW1xczBkmyTlrg8Gwa9cuj8fT0tJis9loupy94vxKTVNGlI0hNcSUgp1QaDg49V+LTe/XTQqB0z6wHV+5SLuw0W5cLpfH44kYMVWn01mtVjhIEPGAL91Fze7K2LlzZ11d3a5duwghY2Nj7e3tZWVlIK2pqXG5XNu3byeEhMPhZImgpBUVFRBch91qr6YIOrvdbvd4PISQvr6+7u7u/Px8voiijmbCYZJ9+/b5/X7lC6IsMD6IOA+Es9QNDQ0+nw8UzGKxqBM4F0kccM4k4pxcSYvzlV/OKHFEfr/f5/OBHkK63W6Hyzj2ahqbMkIIjNQheEOiA62xUSjgWXl5eXCMgmMcRHE7nE5nc3PzpCJwcOqNEHLrrbdSr8fGk+A4R05B+MUn2nc3iYPGtt29e3dcbigdloig7Wiz2RobG4eHh+moxmAwXH311WxQEFE0JmluWYUBaUNDg0hRIzprUXDI6urqnJwcyJicveL8SmVTpnAMqRXiMJGDqLv8mE4JYlq+booB0WkfhSJNwEaPjRglFvrqunXrOjs7pWrQ3t4O18MB38rKyqKiInYiRwgRVY4oJiqsDtLtKOygDRaT6GscNUWsSwZbefLkSfVFXq+XbQ6Xy0W3lHBEQNw1UxQ2trW11efzVVZWdnR0KDRN0i0xDofDbDY3NjbKHT2lZ6lBwex2u8Ph0K4/QOD9LcysRChvcTnlh+MZEY0SXMm3V4QZ05SUlNAr5ezVNDZlg4ODzzzzDL3MYrHE5UxUVHfjdrvz8vLMZrMgCKAPEY0DkcTtaG5uhhHtpCwep966u7vZoCC1tbWCIIhuznGObEGiZmkauJsEAZOlQCAgihIpQskuRErEYUlE6Ay2tLQUKm1sbGz37t20TiwWC5zNY2O9cnLr9/t3795dW1trtVrZDER11g0NDRE1TWqvOL9S2ZRR+GNITTCliRx0M0JIbW1tUspfVFSk5FzB9AY2l3Z0dExKpBWUxI8JBoO5ubnZ2dmsEgYCgbGxMbbTSg/4KplL8CfJcvsf1BRxeoGaoknpYSI0Uxq+2el0ZmRk0PVdoLi4GJbGR0dHpdvlWYWB+BOwGYm9prq6uqSkBLaRixQsHA7n5eXFsVCImsDQPCMjA5Z+Kdu3b+/u7ga1n2yLs6rOMUo+ny+qvQLYw5xStxvbop62TBnUkugMEjtgjRkl7qa/v99sNhsMBo5xeOaZZ+AYG03nt5oS2HoLhULsbj0I1BRRDyM6R7Ygk82GFt1NgoClQ+mbnIjaqHxiOaklTtYE9ff35+fns9NFaGJofbncigBdYlMU1icEO5Sm8zVf7ldEXVPG6SaaYEoTuYcffpgQksRvTPN3El8icNZvlC/taJqcnBzpchcNeEXXgURRjJSYJ841sZ1LjLuIpMwgbFJ6qI5m8j/wZbVa2QVp6Wlbv+R7lfAZMVint9lsopPTEN1b08GvLnHojiAK7KWEjUaxtTir6hyjFNVeUSA4QcRxYWyjW82ZMhiesq+S1Ay0Bm9XPvroI45xgMM8rKpwWk0JonoTRWXkhN2L6BzZgih8TUTRortJBHBSK+K8qL+/XxAE+i6dtp2S2052FsqaIBqVkeoYbWJObkVIdUlhfcr1Qb7my/1KTVNGuN1EE8Qe7ARqM4lR2qBhkhInM6UAYxdRBTki7SIIwuOPP07/C1F24BsjcMQWPqMJJ6cFQYD36dIDvoIg6HQ66Thp27Zt4IbptzWp7bvvvvvAqNF30fR0hJoim812zz33wN/wWVj6iRU1RYIg3HfffbQVKioq6K4zjghIBc2EHf8QVo7848kop9MpOr0tRXSWGhRseHj4Ej+vO43htDhreTjKzzFKHJHNZtu2bRvNRlVVFfv9Q469mq6mjA0ISRIfaK2hoYGaAofDUVxcHHXYI43bUVVVNX/+fMiky+Viw5PIwak3NnoqYcLucZxjbAUh08LdJAKLxSJn7UXBOTgHKaVEHJbYbLaWlhaIXLJt2zbaiGAl6A5er9c7MDDABgWhMS05ubXZbHTFE4L3iKJORHTWJpPJ5XJRHXY6nbQPcuwV51dERVPG7yZaZKpn5ETblgghqh0ZhJWD/fv3q/CslIUTiVh5kGJtMTQ0tHjxYjjWTAgZGxuD2APSK91udzAYtNvt1dXVhJDu7m72FY1cDGuj0Ug3Vol+smDBArqRpq+vj91+raaIEHLnnXdWVlZGLL6aohtuuOHWW28lhITDYdEpWY4oRTTT5/M1NjbW1tbSI/KTjVNSU1PjdDo5zYRMM+RaXBRHh6P8HKMkJwoEApWVldTiDQ4OOp1O2nc49mq6mjJ4VQ4hCiL+ML6kp6dXV1dDo0gbVA7amjBAiiGTnHqDNYXa2lq4eV9fH309yHGOsRWEaNzdJA6IvsimDA4Owg41NjgHTVRyz6if1jh9+jRtRCLp12Cg4LmiQ55yuSWEFBYWUp0RaRrHWWdmZlL9ZBuLb6/kfkVUNGXKx5BaYcaSJUsiCjweD4SEUp+kPDqJ5Y1IquUnEVwKZUTiBWoLohBUFUQKagWiHNQWRErKakU8PwiOIAiCIAiCIAiCqABO5BAEQRAEQRAEQTQGTuQQBEEQBEEQBEE0Bk7kEARBEARBEARBNAZO5BAEQRAEQRAEQTQGTuQQBEEQBEEQBEE0Bk7kEARBEARBEARBNAZO5BAEQRAEQRAEQTQG74PgKmcFQRAEQRAEQRAk1UjND4LP4siSleOkfD091T7Znmr5SQSXQhmReIHagigEVQWRglqBKAe1BZGSsu+3cGslgiAIgiAIgiCIxsCJHIIgCIIgCIIgiMbAiRyCIAiCIAiCIIjGwIkcgiAIgiAIgiCIxsCJHIIgCIIgCIIgiMbAiRyCIAiCIAiCIIjGwIkcgiAIgiAIgiCIxsCJHIIgCIIgCIIgiMbAiRyCIAiCIAiCIIjGwIkcgiAIgiAIgiCIxpg1lR/bbDa73a7T6Qgh4XC4qanJ6/XGKWOTe/rg4ODOnTv9fr86jxYEoba2tqOjw+12S9MzMjKIuhViMpnq6upOnjzZ0NAglUJFBQKBmpoa5SJN4HA4ysrKGhsbfT6f3DVOp7O4uBj+7uvrq6mpcTgcFRUVosvY9nK5XAUFBZDe2trKtjJ7t+7ubrbC1RRxlF9NEavwY2NjbEPIidi6pSS0/7JPBAVgpUr6LKswtCHYamGhCqPdNkqEiHC7lZxIWsmiH04dMJ56vZ7mdlIPjWh72Z5LJFXBStk7s2oWl9rji1LflLHqJDUR6nhbfjdn8xCxdBS5RpdKRTaK1QppJXA84GRFmnY35GJPNBgMcpWcIKJaALYUUcceUuAnbItwzAvf8lBrIH2iXO2x6dI6p/nJz8+Xa0TRDUnKmDJavVHHkKnPlCZyy5Yto9rgdDrtdjshRJ2pCyhKe3s7NKfL5aqrq1NhLhexH7JZ8vl8Ee14gmA7zMmTJyNeU1JSIvVDUUUpDu3VY2Nj/Mtyc3Pr6+vZXup2u0Um3uVykYuq63K5MjMzH3roIb/fD9ULPyGEOJ1Os9kMdwOn4nQ6obnVFHGUX00R5Kqnp4dmuLa2FgwiRxRxHrV///4E9VyHwxEMBuGh8CyXy0XzoKTPOhwOq9W6d+9er9cL10NDeL1eka0Df9bZ2Uk03kZxFxFut+KICCFjY2O7du1KnJctLS01GAwiM6LkoXzbK10yANh+Tb0JFPbKK6+klsrlck299jRtylh1gtEk6+JV87b8bk4ICYfDYBw4N+E0OpFxUvSHgiBEvD/HRwWOegAAIABJREFUA8Yg0rS7IRdt+8DAwNatWzkNEV/kLIDNZps3b97GjRvJxYkQLQV/7CHFZDKtW7dOmi5nXjgi1ho4nc7KyspAIMCvPcj86OgopIuMEjvHGxwcFD1OzoSmiCkjiseQmmBKWyuffvppqn/Nzc3Dw8MWiyUeuYpOSUlJIBCgXaKpqSk9Pb2oqCjRz7VYLN3d3fX19aK2N5lM5eXlKs/iID+BQOChhx6SdiTAZrPl5uZG1FSOKMURBGHhwoV79+5tbW3lXOZwOHJzc6OutUA9dHV10b/b2tpguOD1en0+H2i1IAhms7mjowPu5vP5Ojo68vPzTSaTmiLCVX41RVarNRQKNTc3g6i5uTkUCgmCwBeJgCvpqCjuuN1u2iWhGnNzcyEnCvssdDEwdKAPtCFYoMnojFTTbRR3EadbcUSEkJycnISuNME4aWRkhE1U+FCO7c3JyZF7XH5+fk9PD/Rrt9vd19dHC7tjxw5qqZqamgghU6k9rZsyKHt7ezshxO/3t7W16fV6ECXL2xJJNzcajVFVhd/oHCdls9nMZnPEdzUcDxiDSOvuhhBit9sHBgZU3lgkZwG8Xq/T6YS/Raorgh17RKS0tFSv14fDYTZRzrxwRCJrALVntVpBKld7RUVFer2eZo81SiBNT0+vr6/v7u6WZiNiv0gRU0YUjyG1QtzOyGVnZ+v1+v7+/njdkIPJZMrMzAwGgzRlaGjo3LlzKkwja2pqIjqP0tLS+fPnHz58ONEZENHQ0MAxXuDw/vKXv4RCIeWi1Mfn823ZsoW/CApDtIGBgahr+SUlJQMDA3A3sIOBQIBK+/v7YehvNBoJIazWBYNBMNBqijjKr6YI6mp0dJS+SfP7/aOjo1FFLKJRkQpAWaB649tn2Rmp1tsoESIi0604oliaYZJUVVWNjo729vbG8Fu+7Z0irAWIrfY0bcr4lZMsb0vivfDEd1IlJSWhUOjQoUNSEccDxiDSurux2WxGozHVRl8U6IMRp1js2EOKIAg333xzR0eHaCIXAxaLhdUlqD2Y1cRce16vd8uWLZPaK5EipowoG0NqiLhN5Ox2e0JX1qVIOwZnoSLR5OXlDQ8PR7S5SQSGKa+++uqkRNMDWFmIap6kS2I6nQ5MgDRFp9OJdIymqCkiXOVXU5SZmSl6N0VTOCJKol/HSWFdgsI+29XVZTQaHQ4HIcRmswmCIJ15RpyRarqN4i7idys5UV5eXigUGhoaIgnAZrMtX74clplZpvhQ6XiU4vf79+/fLwiCzWYjhDgcDqPRKF2Ph1U2doQXW+1p2pR1dnaGQiHYQyWqkGR5W2k3lw4xpXAaneOkQItOnjypziKXpt1NTk5OOBxO2TNO0hkFEPV1nN1u7+3tFZWLY144ItE0mFyc1WRnZ3Nqz+v1DgwMlJeXQ7UrH+RzTGiKmLJpxpQmciaTac+ePR6Px+PxHD58eOvWreoYHbCMBQUFMLoihDz88MP0mGZSgH5SVVXluQjNW7JwOBywMWNSomkD7fbNzc3QInv27JHuiBOtVHV2dg4PD1PLZbPZ6PYDr9cbCATKysrgXYEgCJWVlbB/QE0RR/nVFBFCurq65s+fX1VVBf91Op30LDJHRIEdR6qNVAghgiCUlZXRPU4K+6zX621qarJarR6Pp7q6mp7fEN2ZEEJ9odbbKO4iTrfiiACDwbBr1y6Px9PS0gJD4bgAfertt9+OOIKZ+kOLi4sjmh23293e3l5dXe3xeKxWK7txThAEMFaNjY1tbW10sT+22tO0KQPpzp07MzMzPR7Prl27RkdHaYUky9uKujmQkZGxfft2fjbkGp3jpGCOd/r0aTrEam5uTtBraq27G5g2rF27luoD3dmYdKSLMhTR2EOE0+nMzMykW0lFyJkXvoiF7p7j115NTc3o6CgYw8zMTOVxKCKa0BQxZdOPKQU78fv99HCky+XyeDyqRQqCp1RUVMC5YekmXfUBswInXKUHmlUGxqywP1jUmTmiaYZOp6NeU3pcnjAbrNkNGzt37qyrq9u1axchZGxsrL29vaysDKQ1NTUul2v79u2EkHA4nCwRR/nVFIFnstvtHo+HENLX19fd3Z2fn88XUWD3P5yBUQE468yesiDK+iwcmG5oaID+UldXZ7FY2B01sD+Kzg8BTbdR3EWcbsXvcaL4Y9XV1Tk5OXExqnAsJOKtpvhQ1i2CwjQ0NEQMWwI6abFY4Ik+nw/GqfAru90Otiu22tO6KRPFvXA6nc3NzbQa1fe2ct1cFHQ0Ly9PeviC0+hyTgp+eOutt9IxlSjURHzRtLshhBgMhquvvpoNhsGGtUgWNCLu7t27RSLp2IMFjkfu27fP7/dnZ2ezIo554VseDnK1RwPMgL9zOByNjY1KwsPKmdDUMWXTjClN5FigytatW9fZ2anOEjtrQ2kEWBWeK8fg4OAzzzwDf7vdbovFolroFxEmk+n+++/v6emROjaOKDVho8fGEGO6vb0droczx5WVlUVFRexEjkhWWFlrSAiB1UG6eYYdwcM6E93JoKaIo/xqikQh3VwuF92/wREBFotFyQlG5YgiykoDu0ujD0fts6ID06BFdrvd4XDQm8OJcOn+KE23UdxFnG7F73GUhoaGeLkYWO2mw2UOU3yo3+/fvXt3bW2t1Wr1+XywmQrGZ+Ti+Xur1Wqz2dh6owOXkpISar5iqD1NmzJR3Ivm5maY3EJPTJC35bgbuW5OcbvdeXl5ZrNZEATWrHEaHS6I6KSgmbq7u9nIH7W1taKbxxFNu5uxsbHdu3dTK2SxWOAAmGrbPaTQbztFDKQZcexBRZWVlR0dHVGHOiLzolAEsLsf5WpPFGAGOlp5efmhQ4eUV6zIhKaOKZtOxG0iRwgJBoO5ubnZ2dnqd56oRjbRgHKItiAny5RAQG2DwQBrV4DBYGhpaTl69KicSOXPACok5kW1QCAwNjbGdlrpmWMlcwnONZytEWqKOMqvpkgQhNzc3I6ODiUizsUxw44AWORCeCvps9LjDYFAIBwO5+Xl0RT+DhlAi22UOBGJ1q3kRMFgMDMzM+INlQOT84yMDFjfpWzfvj3ih4am+NChoSEaUEp6pIoNZ8IC0QjgCJDUg8RWexoyZfSEGBWxFZI4b8txN0q6eX9/v9lsFiVyGt3n88k5qUOHDoVCITZ6HCgSa3kSh7bcTX9/f35+PnsiCxoiKWNRAJYOOTvUOJ3RarVmZGTQ15JAcXEx+0aawpoXEawoYgeBaTCn9iKerIthkM8xoSliyrROPCdyOTk5iTuYzifpLQSqz66WSfuAaohGtPRjINIISxyR1qEBr+jwXTQoVzKX4FzDOeKlpoikzCCMv8QoEnEuji8Oh0MQhIiLFAr7rOh4NAQcpwMshSf9tNhGCRXFNv2Li1GlOxgpsHtWbg/SFB8qiucMZ/RZlSORFolhJhPxuXGfV6esKWP7HVsh6ntbhd1cLsaDXKNznJRfEulXtcDgmnM3NBohzXBCgyRFBQ5xcWZxfCsnWk0Q/vEDeiI4WsGK+vv7BUGgVUSbmESrPdFaUmyDfLnumSKmbBoQe7ATQRAef/xx+l+IxUQ/9ZBobDbbPffcA3/Dirtqj44IG2KLyIcjQxIKRAuAL2yKYoVJzxwLgqDT6aRDqG3bttEvjcBXMqk5vu+++4SLnyCrq6sjhNBdB2qKOMqvpkgQhPvuuw9EsABJtyByRAB4aBUcLfsVOBGcPut0OuGItujANGjR8PAwjdxVVFQ0f/58qR/VdBvFXUS43UpOZDKZXC4XDfDgdDpVMKqch7LmhYPNZqNDLtjKTkO9iU7tw3Fl0E+bzbZt2zZ6k6qqKr1eT+NRxVB7fFGKmzJp3Iuqqqr58+dDQ6jvbeW6eUNDA90h6XA4iouLaUxLl8sF4Uk4jc53Umy8XJLgwOCadjei4IpysYVVw2KxsD5CSsSxh81ma2lpiRqmhWNelFseWMmCJubUnijAjMPhKCgoiFqxfLudIqZsmhH7G7mhoaHFixfTHXpjY2MQDyBOGYvOnXfeWVlZmZRHS4EtvBDxJUWyhLjd7mAwaLfbq6urCSGifVNyMayNRiPdcyX6yYIFC+DgLCGkr6+PfY2ppohwlV9N0Q033HDrrbcSQsLhsGjvIkekcmTtgoICdiMxuVifCvtsTU2N0+mUawtO7GZNt1HcRZxuxRFlZmbSmlfNqE79oYWFhVTlWIWhKictbyAQqKyspL8aHBx0Op3sFt8Yak/Tpoxab9hgxkrV97Zy3Tw9Pb26uhr8i1TnAU6jE66TglWk2tpaqIG+vr6Ip63igtbdDVhpqOEYztLHHYjZyKYMDg7SQGtT/H6GnHnhiETxQtjMEPnaoxoI95TTcCkcE5oipmyaMWPJkiURBR6PB0JCqU9SHp3E8kYk1fKTCC6FMiLxArUFUQiqCiIFtQJRDmoLIiVltSJuHwRHEARBEARBEARB1AEncgiCIAiCIAiCIBoDJ3IIgiAIgiAIgiAaAydyCIIgCIIgCIIgGgMncgiCIAiCIAiCIBoDJ3IIgiAIgiAIgiAaAydyCIIgCIIgCIIgGgMncgiCIAiCIAiCIBqD90FwlbOCIAiCIAiCIAiSaqTmB8FncWTJynFSvp6eap9sT7X8JIJLoYxIvEBtQRSCqoJIQa1AlIPagkhJ2fdbuLUSQRAEQRAEQRBEY+BEDkEQBEEQBEEQRGPgRA5BEARBEARBEERj4EQOQRAEQRAEQRBEY+BEDkEQBEEQBEEQRGPgRA5BEARBEARBEERj4EQOQRAEQRAEQRBEY+BEDkEQBEEQBEEQRGPgRA5BEARBEARBEERj4EQOQRAEQRAEQRBEY8yK141cLpfRaGxqavJ6vfG6pxIEQaitre3o6HC73cpFsWEymerq6gwGA/y3u7u7oaEhonRsbKyxsdHn88XluRxcLldBQQH83dfXV1NTo0TESsPhsPqtNimUVKzNZrPb7TqdjkhKBGqQkZEB/21tbWX1gXNzNUWE2yJqihwOR0VFBfwt0vAYRGy6Cp2CbWv+49gr2UrQRPPFt41iFrGdTmRhOCKn01lcXBzxhmqiXDMjNgRrXSmDg4M7d+70+/1sGWlixEdrrvniLuJ0K1ElS2uSFjCOiqTQj3PUWK7OOU5K4XOlhdWEvYqvKZOrRvZ6SqKHN1HHUfxBI8AfqUobndU9wjRuzEYpZlVJfVNGf1tWVibXp+REGiI+b+RsNpvRaIzLrZTjcDg8Hs/27dvpGF2JaCoUFRV99NFHGzdu3Lhx4969ewVBcDqdIIKeMDo6CtKBgYH777/fZDLF8elSBEH46quv4In19fW5ubkulyuqiBDicrkyMzMfeuihjRs3+ny+yspKQRASmtWYUVixy5Yta2pqgmt8Pp/dbrfZbCDatGnTvn37QNTa2lpRUeFwOKLeXE0R4baImiKHw2G1Wvfu3Us1nNZVbKIrr7yyvr6eFrm2tjZxmgbusKenBx7X09Mj9zibzeZ0OumVmzZtYmdxKd58cW+j2ETgO9vb26mFocaQI3I6nWazGVSivr7ebDZTkcoo1Ey5hqipqdnIUF9fPzY2tn//fr/fb7PZ5s2bB+kPPfQQIaSuro6qiqabL+6iqOa9u7ubVvLWrVtFsziTybRu3boYWl8Ohe6Go8bSOqcijpNS8lxpYTVhr+JrykwmU0lJSUNDg7Qa3W73xn+kr68vEAgkdBYXdRzFGTQSBSNVOQ3v6+ujxayqqoJJSGxGSaoqrDHUtCeC/Hs8HukMny/SHPGZyJWUlIyNjcXlVsqxWCzd3d2grMpFU8Hr9T799NP0b5/Pl5+fD52htLRUr9c3NTWBtKmpSa/Xl5aWxvHpUnw+344dO+jfHR0dubm50M04IpvNlpub29bWBk6xubk5FApZrdaEZjVmFFbs008/Te11c3Pz8PCwxWKB/zqdTipyu919fX1UxLm5miJOi6gpAp/h8/mgukDD161bZzKZYhMRQnbs2EEXuqDsiZvIWa3WUCjU3NwM/4WiSR9nMpnKy8t9Pp90ZTT1my/ubRRzy5aUlAQCAVhCBgtjNpuhtuVEgiCYzeaOjg5QCRBRE6oySjRTuakE3evs7CSEeL1eOpLw+/1tbW16vb6oqIhovPkSIeJ0K5PJlJmZyW9E+Hk4HFba6tFQ4m74amyxWOjkQTRI4DgpJc+VFjb17VXcTZnf76+pqaE9V1SNLPDorq4uxY0/ORQaB86gkSgYqUbU8JycHCU5VGiUioqK9Ho9rSjWGGrdEwmCsHDhwr1797a2tooqhyPSInGYyDkcjszMzHfffXfqt5oUNTU1crspOKI4kpOTMzo6CipusVgGBgaofRkaGgqFQhHtS+LIy8sLhUJDQ0N8kcViCYVChw4dApHf7x8dHU3WcCoqMVRsdna2Xq/v7++PKA0Gg5mZmdTpyt1cZZFci6gpAoN++PBhWlf9/f3z588vKiqKTSSqeXhpHwwGOW03Fdj+SIsmVZXS0tL58+ezGaakfvPFvY1iEwmCkJuby4qCwaBOp4PZmpxIqgDBYJCOJ5KInGYqNJUwsoeVb+nNA4EAuTj20nTzxV1EpuY3BUG4+eabOzo64jiRU5KfuKixyElFfW7Ewqa+vYq7KRNVI9ww4sSmpKRkYGAgca/jYhtHiZwUf6Q6FQ1XbpQ4aNoTEUJ8Pt+WLVsi6gBHpEWmOpEDVWtra/v666/jkiGt4HA4jEYjLGPA2iFr2UHj6YRBBWw2myAIEfutSCQyJeSiH8rOzlYnq8qJrWLtdjtdiJJCi8+5eXFxsWoik8nEaRGVReSiiaciqLHYRGy1w3uwhHpWQohUMaQpeXl5w8PD1DmxOdRE85G4tlFsIulYNhAIhMPhvLw8jogQotPpRIohTVEZjmYqNJXsyrcUtkI03XxxF/HNO389jhBit9t7e3vjeLJFubvhqHFXV5fRaIR9XxynzDopJc+VFlYr9iq+pkxUjdJKABL9Oo7ENI5iB41KiKjhckUWodwoeb3egYGB8vJyUDZWMzXtifj1M82YUrATk8l0//339/b2er1eumN1ekMPjPb19W3atIlzJbz5SXR+6AHQwcHB2traiEfqpSIR/f39ZrM50VmNFxEr1sSc1hWFM2EBS0o3nCi8ufoiTouoKQKbOBURjSmiQkydrq4uu91eVVUFa5xOp7OgoGBwcFB0GTinqqoqevKbozCp33xTb6O4iGDJny/yer0lJSVlZWU+n8/n8wmCUFlZCSfU1Sc2zZQ2hMlkys/PP3nyZEQDG3X9QkPNp4KISLpVRUUFeDFpyJzMzMxnnnkm0euP0m7OV2NoaLvdDtlmbYtCJyV9rvLCpr69iq8pq6qq0uv17e3tonTRqyR1kCua8kGj6FecRi8uLvZ4PEQmAtBkjVJNTY3L5dq1a5fcDaOWkWjBlE1jpjSRq6qqIoTQQymXAmw4Po/HEzFCjpq43W7wBzabrbGxcXh4mHZCjmj64ff7t27dCn/DGVapp6TRn6bN+/TUx+fzgZWAQYzdbk/cdI4OocDD9fX1dXd35+fnS6+EGFwbN24kzHqH3OIlEkdgxLB9+3ZCSDgcbm9vLysrS0pO4qWZcIhFOpSkd9br9bt3745Dji8xaAORi7PuPXv2gAuz2Wxms3nfvn1+vz8pG0k4agxxUBoaGnw+HyiAxWKBQYISJyUl6YVNWWCC1NraKnpnRQ8xpshoJ4ZBI6fRWS0CBWtoaBAFXZyUUaJBwiBXDoejsbExxSOZIyJi31rpcDjMZvPu3btTpLeojNvtbm1tNRqNNPCUCOlb6YTi9Xqbmprmz58vDQTCEQGcw3UpSNSKramp6evro2dhAZfLBVGP+Icn4eZffPGFaqKIBVF43DHRIs6ptsmK/H7/zp07h4eHS0pKpD+JF16vd9OmTRB9q6amRq6GBwcHn3nmGfhbFP9GROo3XxzbaCoizkY4kYiGVtu0aRPcKnHHJpUwKc2UNoToMBIFls/g3S9n+5/mmi+hIiLTrXw+3759+8CFwRuwjo4OdQaact08ohqL4qBAVAm601L0c6mTkj43Ozt7UoVNfXsVF1NmMpn27NkDgUMjfneKEKJ+NPmo46iog0ZAuYb7/X6Yj4mCrEzKKImChLnd7kAgQHdaKi9j6puyaUyMEzkII5ORkbF9+3aPxwNBPHU6XXV1NRvmfnpD9+nKnbhVeYDC2RzMithoHxQ155zKibli2d3qYPQzMzNra2tZy8i5uZoiwm0RlUXkoomkhMPhQCAQm0hUWJUPjkqPQQPBYFC67x82HWmi+Uhc2yg2UcSz8uFwOBgMckREQlJ2QEmR08yoplJOxxwOR3V1dXt7u2jpXdPNF3fRpMw73UxltVozMjIqKipg4AGh24uLi5ubm6cYETdmd0PVeFIndqiT4jyXU9js7GxN2Kv4mjJCiCAIDQ0NnCUSuWlMfIltHCV32I9lUhou3Uk4WaPEOQinaU9ELiVinMjB6132mxWtra3hcHjv3r3J3WqoJqA91DjS+P7kYl9SeVXAaDTqdLqID2VFogBQsJ06ZfU+torNycmh60YPP/wwISTitlLOzdUUcVpETRHYRPbdlMViOXfu3NDQUGwiUW3DKW3Vlgzk1mX7+/vZhiCMJ0v95ot7G8UmihhVT6fTBQIBjkjUEPyDHGoip5lRTWVEHbPZbFarNeKuOU03X9xFZDLmnc6R6DfE2I9ldXd38998KiQGdyNSY1EcFI5TZp2U3HP5hU19exV3UwZxGQYGBuTGmXLTmLgT2ziKHTTKMSkNl76AmqxRIpKQYFQzNe2J5Kp3WhKf78hdIjz++OP/t72ziW0jye54LbIyAlE70KyocDQgvdJuZoGEINRz0GAcTDIQJAygoKWDAqyFRAw4OsT2yTakANOAIGMEB7yI8M7J0EVhQB7kHHiQudBFinJI4E2YQxteIRsfIickoGVEIfKOyCxELJDDgwvl/ii2mmSzW/7/Dobcj91dH6/ee9Vd9Vq0jLTdmV7y0HLkZDJJ0mQyWa1WWy5/b5P79++LXxSdnZ3l39OQiPb398/Ozvirc59vdJQ0rKZpT548ocxgDx484KdQRhP6+AmZdbskvJKLeymS9IiXIl3XDw8PFUUhzaFl+tSM7kSqqt6/f5+3Nm1Ml2SaaRNFUW7fvk1/0843vsZJVdUnT57Qh3T29/fr9TrvCDGTmP+7r+N95E5ULpefPXs2NjZGa8bIGFJrS0SMsdu3b5MJpa0arEeWR6KZBlWRm0p6FWN4ZpFIJM7Oziy3XAa6+zouYtJhlUql+JevaLFZt3PeysvD3Q2zV+NisVipVKanp7l0dnaWlEHipOT3dVdan9irjpsyw0fPzFAc78GDaUnVRFWRBI3uUFWVbw+haa0hO+VljdLBwcHg4CDfj5pKpcbGxihkCrQnct3CQeQ7169ftxQUCgVKBuAQ+vJ6R7ZIXurWtFNzb2/Pcqm0ncjdTXn2IcLweIOnQWOmFFsucFIenqeBKJVK4rZaOxF7O32WPElRV3HY0XYNq2maoii5XO758+e8OoyxRqPB9/6K54rwvpP0mpciSY94KWKCkpuz+V1WZGj8NjWtpbaItzOUUFXVZDKpCx8Bz2QylPJE1BYWhO5jHe2jdkSikTEYQzuRaEK7lynqUqrC3m5hg6q07KNXr14Ztt0a3IT5FsHtvm6I7IaV3IUZTj88PGz55dhOuRv6trJEjS2loiIxk9mR3FdeWf/bq86aMhqehlS34g80TRsdHW0/pHGiLXZVs1MVZpOtVB6pGjrd0AKWPXtZoyRxnUH3RPwH09PThhHXUmTmstMiz+jYRK6D9OTWfushv5WnG7wLdQSdAtoCHAJVAWagFcA50BZgxrdagaWVAAAAAAAAABAwMJEDAAAAAAAAgICBiRwAAAAAAAAABAxM5AAAAAAAAAAgYGAiBwAAAAAAAAABAxM5AAAAAAAAAAgYmMgBAAAAAAAAQMDARA4AAAAAAAAAAobsg+AeFwUAAAAAAAAA/IY/Pwj+XYmsVyXuydfT/fbJdr+Vpxu8C3UEnQLaAhwCVQFmoBXAOdAWYMa377ewtBIAAAAAAAAAAgYmcgAAAAAAAAAQMDCRAwAAAAAAAICAgYkcAAAAAAAAAAQMTOQAAAAAAAAAIGBgIgcAAAAAAAAAAQMTOQAAAAAAAAAIGJjIAQAAAAAAAEDAwEQOAAAAAAAAAAIGJnIAAAAAAAAAEDC+287JiqKsrKz09/fzI6VSKZ1Ot12qS5dhb28vm83SkVgstrq6Ojw83L0imW/KGFNVNZlM9vX1McZOTk4ePnxYLpc7e18zmqZNTEzQ33Y3pYJVKpXl5WXGWCaTGRsbM/zGswK7QCzw0dER1cKA2PjNZjOXyxWLRRIZtHRnZ0fsNVFbGo3GxsaGruvei8RqGsrvsSiVSs3NzdHfhrHjQiQeN1e5exh0XoR6IRQKWRZG0keiIpnHS3D7yLVIHHSGgelC1Ctvomna6OiooTftai03JuI15WZZ/AFvBLFlLK9veZaktHJRZ7vPtcidwXTiFNwhubKdyKFLlSuP4SKG08VzzQbhsgGJXD8DbcrEqtkNz04h3ou9raISkbz8ZujH4s+cR0SiB5SfZQibedPJKyKea+lSLUWeeSKH5voK0O4buWazubW1Nf8GL2dxqVSqUCisra2Jvp8xNj4+/stf/pLKs7W1pSiKpmndvilp0u7uLt33/Px8dXU1Fot16r6WqKr63nvv0R3v3r3LGLO86eTkpBgcLC8vzwusr683Go1nz575cxaXSqVqtRovaiQSyWQy5p999NFHuVyOfqbrejKZVFWVRDdv3tze3ibRzs7O3NxcKpUiEVmZ8/Nzklar1Tt37lADeilijGUymYGBgbt371L5FxYWFEXxXpRKpWZmZmhE09jhbeVO9IMf/GB9fZ1XeWVlhd+rqxjYrOJ8AAAgAElEQVR0XmRqaoq7KwOSPiKXcHh4aDnWAt1H7kSixaOByc2sOxHz1pvEYrHNzc1CoSCGKS1rLTEmnJZmOZPJxONxPi7EiKrRaPDj8/PzhkDf8iyfdJ87kTuD6dApuEByZUVRfv3rX1uKHLrUlspTKpX4RW7dusVPV1VV0zQyPvPz8zdv3uRzIRcBiVw/A23KNE3jY8RueHaWo6Mj3mWLi4viNMZOJCm/mVgsduPGDfGIRA9FDB5QfpaiKOl0mo81g+WR1JGQuFSzyEtP5MRcXw3amshFo1G7aMkDEolEqVQioykeLxaLjx494n/ruj46OtqpOZXdTScnJyuVCtf+XC537dq18fHxjtzUjmKxyFW2XC4/ffo0FAoZbqqqaiQSMZRWZGZmpl6v7+/vd7Worslmszye03V9b28vEomYJwOPHj3ivi2fz5+dnSUSCfqvpmlclM1mj46OuGhqaioUCuVyOfpvLpcLhUJTU1Mei6iPnj59Sp47n8/X6/WZmRmPReQzdF2n5qKxc+PGjVgs5k7EGPv666+53ae6ezCRk+g8lfb169eWJ0r6iIq9u7vLTGMt0H3kumdFi0cDMx6PUyu5E3nsTcbHx69du7a+vl4qlcTj8lpLjAlHbpZTqVQkErF8GxwOh+1awO4s/3SfO5E7g+nQKbhAcmVd17/++msnN7VzqRLlicViAwMDlkWKxWKzs7O6rls+13ARkEj0M+imbHR09PDwkMaI3fDsIOFw+LIi+ag0Q6Og2WzyI0700OwB5Wclk8lqtWr5Zk9SR7FGli7VLPLYEzkx11eDAO+RW15edvLINhwOn5+fd+p1k+VNyQrXajV+5PT09OLiwmOlqVQq7O2BRz7gn/7pn+r1uuUpiqLE43Hfvo4zQ40cjUYlvxkaGgqFQsfHx3ZXGBgYIBOQSCSq1SqPjU5PT+v1OvWax6J6vf78+XMSlcvl8/NzevrgpWh8fDwUCr148YK31fHx8eDg4Pj4uDuRoeWp18Rh0g3kOr+4uHh+fv7y5UvLcyV9JCHQfeROpChKJBIRRbVara+vT1EUdyJ5C3eDYrH45ZdfmmdTzvWZvW1M7BDNMkUkoo45QXKWT7rPdae7M5gGnDgFd0iuPDIyUq/XT09PDcedu1QnysMYm5qaGhwcFBtQpP2ARNTPQJsyeTP6hEuVX1GUzz//fG9vT5zIGTDrYcuoz3CWqqrRaNROwVoicalmkZeeyFwehyMuiLQ1kaPBT4bAn6RSqWg0enBw4MG9zI8uWj7M6CzmQJkG0s9+9jO7U3z+Os6ME5VLJpOSSvGJvdnbkZsZGBiYmJjwTBSLxczPGmq1WigUGhoa8lhkaFsqcDgcdicSm528S7VaFTdIdAOJzquq+uMf/5g/4zcg0YdYLLa/v1+v15PJJDPVJdB95E5kNjWVSqXZbI6MjLgTMd94E4f6zH/c8imhWGt6xmQXM9nNDSRn+aT73IncWWBzHNY9zbG7sqqqiqJYztacu1RReSQPH0dGRs7Ozvhc6LKFlx9hb+tnoE1ZuVx+9uyZoii0q6LbsZ9Ze52ILmVeksnky5cvJQ99LPWwZdRnOCscDjebTcu7SCrCL2XnUi1FXnoic5E6+1LHV7SV7IQx1t/fv7a2Rn/7Zysh36B5dHR08+bNbt+OLAgtwKUWuHfv3vDw8Pn5ebdvzTEHyqlUKh6Pb2xsSE4ZHR199epVUDRbUZTp6Wm+dkIkJmzVleghGXe7UJ69eWbTc9Hx8XE8Hu+5iGxiOyK+29i8zb0bSHReUZSFhYW9vT1d12ltjxN4H5XL5YcPH66urhYKBdYqv0Kw+qgjInph0qbIn97ErtYtjQkzmWX+biefz1tmzRkeHv7mm2/Y22khWp7lpLRyUUe6r30Ru7zBlDiFNjFfmadbODk5WVlZMbe/c5dqqTxzc3N0fdG8UPS5uLjoPIeH84Ck5fO1YJkyquzS0tLS0pI3HmdiYoI8gnlISkR25RfRNG1gYOCnP/3p0NCQQSTRQ4kHtDuLnh99+umn3PYaUonYVUTiUp17W888kRNzHVzamshls1luUEhLRkZGPM5aaYmYNK9QKHQ2q5Ul1A7cEBv2XXSb2JvUQI8fP6Yj5IRoIMmXX9O2H/9DU4J6vZ7P583Scrl869Yt+juTyRQKBbO349mfum3cAUfX9cXFRfZGRZPJZPecq1znaRuA67kB31HNc3nl83nPknC+C/jWm1jixJiYzTJjrK+vb2ZmhkYB/WB1dZXCI0PyvaWlpXA4TG1id1ZX6+h/5E6h41fmKqqq6sbGxtnZmSFAd+hSzcrD7SS/9ebmJr84JRucn59nQjguN2VOAhJL/Qw0PLFKuVymZkwkEl2yIWLIQS2ZTqfJI0hEDi+uqmo8Ht/e3i6Xy+aJnJ0eyj2gRHuHh4c//vhjajfydJqmpdNpeUUkLrVNb9txrnzs17E9ctlstlQq8V2GPiGbze7s7ESjUZ7DsKv34rl98vm8/JV0B6FhSQ/taIDFYrE7d+4cHh7KB5JhE4KfSaVSa2trh4eHYi4vO5aXl4+OjgwbiDOZDGU9kpt1evz5q1/9yjORZXXsFll5LJLsarusiN5onZ2dTU5Omk9pH7nO86ebl70s7yND8gDatU8rLc0EtI/aEUnWhrkQ+cqbmGvtxJiYzTJnd3eX4gm7DFWMsXQ6bTBiTs6yLK0TUWe7z7WIXcZgXsopXIqWVy4Wi7lcbnBwkJKvcJy41JbKo+v69va2ePGTkxNuu5znbJAHJBL9FAmQKTMkVqG8F3ylZVcpl8s0GTa/fZKICHPV+OuslrMOUQ8dRn3MSnsbjcbjx4+p3ewSBBoqInGpl/K2Hngih7FfoGl3aaWI5KV5D5EsQe4e5t2ZXYKeNBjePlHK1+HhYXohTgwPDz958oS/D6FNont7e90uYftomqYoytbWlvOnKbVaLRKJDA0N0V641dVVxphhEQJtujArRq1W81JE/5LdFItHIYvHIsZYNBoV/Xqz2eRr092JOOIul46v5pXo/D/8wz/E4/H+/n5atMZZW1sT15BI+oi2Crx69cqyLlegj9yJDG3VbDZrtZo55ZITETPRK28ib2E7Y2LA0iwzxiqVSqPRMOzoYDbuia8klJzVjj50sPvciVwbTObKKTjE4ZXNW3FaulSHysPeXjlGVTZsMzPbBzmGgMROPwNtyuihj8PtZx3H4VrilrVmjM3MzPT39/O3qcTExITlGhCuh06iPvNZjLHj4+PR0VFxak22l8Iny4pQRh9Ll/ry5ctoNGrnbUkDvfFE7DIjLuh0Mmul5FlLD6E+9ublGMeQrKlLqKo6MzNjNsfiozj6VszJyQltFxQ/k80Y8//ruFQqpSjKZdfjhcNhror37t1jjFkuUqf5Hn/qT56YnuV4KTLkraKNFqSxXorILIrPehOJxMXFxenpqTuRobVpOtSl3cYSnd/c3FxcXBSlpVKJPthleEQn6SNmygfL6xLoPnInMqcQVBSlr6+vUqm4E5k7tFfeRK7PEmPCsTPLzCp5oOTRMn8BJTnLJ93nutPdGUx3TsEJzq9MX8sQH/y3dKlOlIdfnL3RiuPjY0N+eRc5G8SARKKfgTZljLG+vj4xxaiXsZ/DV9BO3GU6nRa9FX1bolQqWb475XroJOozn8XepJ8RX+/Lsy4dHx/TSmBLl/rVV19JvK2XnohdZsQFnbYmcul0mr+2TqVSExMTfkhk/+DBA9H6T09P8w9QdA9VVX/yk5/Q3/RIj7/i7x6JROLs7Mxdzkmy7H6bdZtJJBKVSsWy+zRNe/LkCaVgevDgAT9Ou1qp/cn926klbWbgC+TEhd1eivb398/OzmZnZ2kxA22WoL0ZXop0XT88PORrUWiZPjWjO5Gqqvfv3+etvbi4KH4YyieoqvrkyRP6sJJdH1HygLGxMf450cXFxcHBQUqJFug+cicyNIi4N8OdiPnGm0hqLTEmiqLk83n6xq7ELBsS64mpJmKxWCaT4Z5L0zSec09ylk+6z3WnuzOYEqfQJpIr379/n+sndYG41prZuFTRSUk8USqV4t92o5V1PAGJmC+XOU7GKAlIJPoZaFNmuBdpWpf0hG7NnwPSskaerVQikrtL7okktNTDy55VLBar1SpvNzGnpaQi7vDSE8lH3BXjO9evX7cUFAoF2lwrIZPJ0DZc9naWrTZxcmsObWnd29vjqsxTVhIOs5+1eVPaIUqfc200Gu1nQXBSHkNNCXOKJHq/fH5+zjO+0JFXr171dtHwZXWMQ9lryD/lcrnnz5/zlJXs7fbnWRMNV+BaIf7AkBTHS5GYddPQg16KmKBU5hF9WZGh8eXJu1pyqRFq1nkRTdMotZeu6zRy+fd2JX0kGePB7aN2RDzvAjOZWReiDnqTS6mKpmmjo6NOWlhiTHRdX1lZoY/qtjTLoiLxxb1ijzMrJ2J5lqS0LUWd7T7XIhcGU+IUmD1tuhuxCszUBXYulTupSqUi8UTyi4sFs4wuLhWQyPUz6KZM7EFzMzqnpbaILczeVj+JSFJ+gyfiUOceHh7S8ZaqQhg8YMuzJEWSVEQ8nbvUliJvPFHL2M8Fl/IsXtLWRK5L9OTWfushv5WnG7wLdQSdAtoCHAJVAWagFcA50BZgxrda0ck9cgAAAAAAAAAAPAATOQAAAAAAAAAIGJjIAQAAAAAAAEDAwEQOAAAAAAAAAAIGJnIAAAAAAAAAEDAwkQMAAAAAAACAgIGJHAAAAAAAAAAEDEzkAAAAAAAAACBgyD4I7nFRAAAAAAAAAMBv+POD4N+VyHpV4p58Pd1vn2z3W3m6wbtQR9ApoC3AIVAVYAZaAZwDbQFmfPt+C0srAQAAAAAAACBgYCIHAAAAAAAAAAEDEzkAAAAAAAAACBiYyAEAAAAAAABAwMBEDgAAAAAAAAACBiZyAAAAAAAAABAwMJEDAAAAAAAAgICBiRwAAAAAAAAABAxM5AAAAAAAAAAgYGAiBwAAAAAAAAAB47vtXyKVSs3NzdHfJycnDx8+LJfL7V/WIYqirKys7O3tZbNZfjCTyYyNjfH/drxUPbmpJZqmTUxMWN7RoYgx1mg0NjY2dF3valHbhzStVCql02mDSFXVZDLZ19fHGGs2m7lcrlgskog6q7+/n/67s7Mj9hq4YsRisdXV1eHhYfqvubvpB6FQyFLnRW0xjBrxyuYhw4e/Qf26IRJNrmE4eCkSB93R0dHy8rITEb/s9PR0D82OncUQ68sRfyAaT0tbxN7WIoOqiNe3NLzi9cWm80n3dVwkGVbyESdW0K4jXGPp4iUuldkPWIkycAxWy1AdMbQQW8/5WYYCu6tIN0Qd12pC07TR0dFuB2CSOErSwpJYhSN3UnYXN/S4+IN79+7Ziehcid+UdB+zt1eSinhpyvi5vXU33abdN3Kaps3MzGxtbc3Pz8/Pz9+6dcuzWVwqlSoUCmtrazxGFymVSvNv6GCpenJTO1RVfe+99+h2d+/eZYytrq7GYjG5iDg6OuJFXVxc9L9+x2KxGzdu2Ek/+uijXC5H1dF1PZlMqqpKops3b25vb5NoZ2dnbm4ulUp5VWrgKYqipNPp8/NzrtvmSfvU1BR3V+bTV1ZWDg8PzaOGHBK/crVavXPnDh9QmUxmYGDg7t27pH4LCwuKonRJlEqluMnd2tpSFIXrs5ci8p27u7vz8/Pr6+uRSETTtJYiqlqhUDBPlrwkFotNTk6m02mzxchms/Nvc3R0VKlU+CwuHo+vr69T1eLxuFg1QtSi+fn5w8PDlZUV3n0/+MEP6HTSIlHEGMtkMvz68/Pz4izOD93XcZFkWMlHHD9d4hTcYefi5S7VbsDKlYEzPj7+y1/+kn5DPcWbKJVK1Wo1ElHrZTKZlmcRlgGJu4p0Q9RxrY7FYpubm4VCQZxfdRXLOErSwhLLIyJxUpKLLy8vi4ZrfX290Wg8e/asXC5LREzqNyXdx+ztlaQiXpoy5g934wFtTeRUVY3H45ZPFDwgkUiUSiXSSPF4LBYbGBi4Sje1o1gscpUtl8tPnz4NhULj4+NyEWMsHA57XNT2mZqaCoVCzWbTUvro0SOuhPl8/uzsLJFI0H81TeOibDZ7dHTEReCKkUwmq9Wq2Z1wKPJ7/fq1pZRc1O7uLjONGlK/XC5Hv8zlcqFQaGpqijGmqmokEnn69Ck5xXw+X6/XZ2ZmuiGi8uu6TipdLBZ1Xb9x40YsFvNSxBibnJysVCrk73Vd39vbi8fj1IASkaIo3//+97e2tnZ2dtrs63agyIY/vTJYDBHqi4ODA8aYoijxeHxvb49OpKqNjo4aZhczMzP1ej2fz/OL1+t1Hv18/fXX/L6kTmJcG4lEzI+N/dN9HRdJhpVExJE7BXfYuXiJS5UMWLkyiBd/9OgR/1vXda5X2WyWv3yg1otEInQFyVmSgMRdRfxvyhhj4+Pj165dW19fL5VKl+p0d9jFUZIWdmJ55E5KHtqJkO7t7++3FNn5TUn3MXt7JamIx6bMJ+7GA9qayE1OTtbr9efPn3eqNJdieXm5s6spfHtTh1QqFWZjXCSiQKAoyueff763t+fEZw8NDYVCoePjY0tprVYbGBgwxF7gCqCqajQaffHiheQ3i4uL5+fnL1++vOzFE4lEtVrlHuv09LRer5MDTiQSohksl8vn5+cUUXVcND4+HgqFxDoeHx8PDg6Oj497KVIUJRKJiKJardbX16coikTEGNN1/csvv+zJgz8J1MKW5nFycrJarVKBo9EoY6xWq3FprVYzR1HhcPj8/Jwvx6CLW84SxQtSsCLqGMcn3ddxEWs1rOxExKWcgnMcunjRpUoGrHNlEDGcJULaQprj/Kz2K+J/U8YYKxaLX375pd+WF0miL0vLcyknZXdxeurE37lJRBK/Kek+ib2SVMRLU8b86m66gfuJHD3yefXqlZc74pwgj+Ov0k0NmOMMSxF1nOXPfEsymXz58qVDA51MJu0eRDG33g74n3A43Gw2JUqiquqPf/xj/ozfzP7+fr1eTyaTjLFYLDY7O0tBvHnIkEujJwJmjaL4fmhoqBsi9sZ5cxHV3UuR2dRUKpVmszkyMiIR2TV7z7EzieLrOKKvr88QM5mPMMbMj4rMR0QFY288iGU45ZPu67hIMqwmJiYkI46OXMopdByxXpIBy5wpg0gqlYpGo6LWiZi71fIs5wGJw4r435S1rGlncR5HSQIz80VaOimHF3f+Ok7iNyXdJ7FXkop4acrsCnYlcZ/shDryf//3fzc3N+XbkXvC3NwcrYu13Pt4lW5KGMKClqKJiYlCocB6kZ/msmiaNjAw8NOf/pT8oiXiVl1JOhPyds6tJAgQIyMj9Xr9008/XVtboyPilmhFURYWFmhdHF8cYqBcLj98+HB1dZWGhnwU06tdS9Hx8XE8HvdGRH6r5yJ6YXJZkU9YXFwMhUK0pFbE8EC6WCxOTk5OT0/ruq7rOmkU7bAXOTg4SCaTi4uLpHuapo2NjZ2cnJCUp74wZA7g71jy+bxlrh0Rn3Rfx0VMOqxEkROn0D0k3pbgA1auDCI8acTR0dHNmzctL6soyvT09OHhIY+y5Ge1DEicV8QDUce12gNaxlHyFjZYHidOysnFY7HY6Oio5VsWs0juNw3w7pPbK+cV8dKUXWHaTXbyxRdfPHv2zG7rdk/QdX1xcVHcHLy5udntpXQ9uSmHpwYyT1HMonK5fOvWLXGzbDqd7nmv2UH7MPkqbTvESiUSiUKhYM5oQlmP+EprcPUYHh7++OOPaWe2Yfc/bQOQJyxVVXVjY4MbtFqtls/nfTs0QEegUJjvfONYrk1aXl6uVqtra2uFQkHTtL29PcNOKsZYsVjM5XKKohQKhUKhEA6HxR073FOsrKzMzs4+efKEpzro6+ubmZmhzEyWGaoA4dApdAmJtzUjVwYRngDjxYsXhUKBZzTh0CMAcced5CwnAcmlKgIMOImj5C1stjxOnJSTi9PeUfOTKTuRxG9KkNirS1UEtE+7E7lSqcR7y7B12w/our69vT04OGjYJH2VbkrR5/n5uTn5pERElMvlx48fM8acPP7xHv5c51JTr+Xl5aOjI74XlshkMpT1yLdbHEH7NBqNx48fU3gn7v7nz+/lp4vbptmbvd200tKMZI0uPeM8PT31QORwQXW3RZKlXH5Ydm4J5bijrGvmmIPvsjAc5/nfbt68SU1hbpBisXjz5k2eyc1SVej179nZ2eTkJD+4u7tLtk6exsAn3ddxEXszrH71q1/ZiYaGhlw4hU7R0qUS4oB1ogwi2Wx2Z2cnGo2KyQxTqdTa2trh4aFdNmzLswjLgMRFRbot6rhWe4ZlHCVpYUvL49BJtbw4M+0vbSmy85vm0w3dZ2mvLlURL03ZFcb90kp6gym2Fx3x2+LUnrx59+ym9JbJcjGhRCTi5zfRMzMz/f39fH0IMTExkc/n5Yt4a7VaJBIZGhoql8v04IoxtrKy4ucVpKBNjo+PR0dHxRCB1oF88skn8Xi8v7//m2++EX+/trYmriHhm375D/i2HMaYZTIMHseT2xO1i2K1bogYY9FoVFT+ZrPJ9w94KTI0SLPZrNVqlpvvScT8BL3fqFart27dsvyBJBgSf9My3Rdtx9/b2zOLxH1flUql0WgYNnswxsLhcJc6/bLd13GRXY4Zuci1U2gfO5cqGbCGK0iUwXBBJjSapmmKomxtbcnnrpLdYoaAxEVFgmLKeoUhjpJEX5aWh97/t3RSLS/OpDpmKbLzm0NDQ5LuGxoasrRXf/AHfyCpCO2p88aUmat/hXH/Rs6cf8mfU+GePLDx5qaqqs7MzFiOZ4nIgD97jeDrRsSPn5RKpZYfvguHw/y50b179xhjPt8HCNrHnEKQHh/+67/+K19lRJRKpUajsb6+bn49K7oEmtrxsINn/WZvPCKNGjFtGnuzCYHGfsdF5LpEq5tIJC4uLk5PT70UWaYQ7Ovrq1QqEpFdx3lPLBa7c+eO5EsV5mRolhex24hiuBSzerPH3law09PTi4sLsd24E/FJ93VcxN48cbMcVnYi106hTSQuVTJgDUiUQYSsEF0hlUopiuLkI0/iWQbEgMRdRfxvyuSN023EOErSwnaWR1wKK3dSLUM7iY5Ziuz85unpqaT77OzVv//7v0sq4qUps2ycq0pbSysPDg6i0SjfjCTPFugZqVSKL/CltXmSvbyBvmkikTg7O7NscIlIVVXxLcSdO3f80Gsu0DSNdpgoivLgwQN+nDKa0A4Kcv+WSXjBFaNYLFar1dnZWVoTQorRsutVVX3y5ImmaeVy+dmzZ2NjY9ygLS4uDg4OUiI42lTAl1mKewD29/fPzs74fRcXFxljtI+l4yJd1w8PDxVFoQVU4mYhL0WGtqIcDLTZQyLqXFe3C+WztksMyN5EA+aY+Pbt2xQM8ff81C+KouTzedqhpCjK7du36ff07JxXX1XV+/fv86tRqgPakkDtxltbTGPgk+7ruIhJh5VE1BMkLlUyYCXKwP0XY+zBgwfilJUS6lD8kEgk+PfoDUjOkgQk7irif1N2ib7sBJI4StLCLS2P3b3ISckvTtAyAcuZraVI4jcl3SexV5KKeGnKLtXCQcf90krGWLFYrFQqKysrPDOS3TIVj+GphJg0A88VuOnw8LDhFTblDpKLfvjDH/Kiep9gs+Ocnp5++OGHvEaNRiOdTosj2bAOh0kzW4Lgsry8rGkaqb0hK6ATstlsrVZLJpOkLaIi6bq+sbGxsrJiTmjJc13SfcXkXR0XMcbS6bSmaUtLS0tLS4Y6eimi4cNHljigJCL/0NfXR/XiR8QKjoyMnJ2dmddMvv/++zy3m8RyfvbZZ1988QVdU1wRV6lUFhYWuKU6OTmhJwj0X65+VCrRifik+zoukgwriahX2LlU+YC1UwaRi4sLrlfMNGTGxsa4zhDUGvKzJAGJi4oEwpR5jCSOkkRfcsvjBEn3Sb4KJhHZ+U1590nslQQvTdm7w3euX79uKSgUCvPz8x6Xpoe37mF9LfFbebrBu1BH0CmgLcAhUBVgBloBnANtAWZ8qxXtZq0EAAAAAAAAAOAxmMgBAAAAAAAAQMDARA4AAAAAAAAAAgYmcgAAAAAAAAAQMDCRAwAAAAAAAICAgYkcAAAAAAAAAAQMTOQAAAAAAAAAIGBgIgcAAAAAAAAAAUP2QXCPiwIAAAAAAAAAfsOfHwT/rkTWqxL35Ovpfvtku9/K0w3ehTqCTgFtAQ6BqgAz0ArgHGgLMOPb91tYWgkAAAAAAAAAAQMTOQAAAAAAAAAIGJjIAQAAAAAAAEDAwEQOAAAAAAAAAAIGJnIAAAAAAAAAEDAwkQMAAAAAAACAgIGJHAAAAAAAAAAEDEzkAAAAAAAAACBgyD4ILmd4eHhpaWloaEjym9PT062trZOTE9d3AQAAAAAAAABgwP1E7je/+c3777//+7//+41G4+///u//+7//m45fv359ZGTkRz/60djY2ODgYH9/f4eKCgAAAAAAAACAsXYmct9+++3f/u3f/vVf//X3v//9zz777G/+5m9ev37NGNN1nX6QTCanp6fff//9//qv/+pMYQEAAAAAAAAAtLlH7j/+4z92dnYuLi5+9KMf/cVf/IVB+o//+I+//vWvR0ZG2rkFAAAAAAAAAAAD7t/IET/72c/+8A//cGJi4k/+5E8qlcrOzg4XlcvlarUaCoXavIUPURRlZWVlb28vm83yg7FYbHV1dXh4mDHWaDQ2Njb4y0nGWCaTGRsbY4w1m81cLlcsFjtYHrr1q1ev0um0eFxyU7G0jLGdnR2qi7wWPiSTyUSjUbsmTaVSc3Nz9HepVKL2EQ9yxCbi7caEliE0TZuYmDBc0HuRqqrJZLKvr48xdnJy8vDhw3K57L2IBgItnzZoS+AUCbxriOPLMMwN0qOjo+XlZfNxw6gkROvBMQwcu4sDf6pgSJ8AAA61SURBVGLpR9jbBpCZtMigCQYdYK08keHi4q1Fm2xw7pKz2NV1N8w+pOk25uhLbgEkfcdsjFLLiMVcHst2cBEQiuURu8NhkTRNGx0dNai9JL5yJ7qsVotdIOKZznScdidyv/3tbx8/fvzBBx9cv379T//0T3/xi1/853/+J5f+3d/93W9+85s2b+ErLNWXvRkG5+fnt27dYoxlMpk7d+5w9c1kMgMDA3fv3i2Xy5qmLSwsVCqVjsS1oka+evVKFEluSgaxWq1SaSW1WFlZ8XMIrqpqNBq1k6ZSqZmZma2trWKxSA2VSqWybxB/mclkGGN8Fsfbjc5ijHGjFo/H19fXdV2nNtQ0jUyDlyIq1e7uLpUqk8msrq6KTsIbEZXq8PCQF5hrS+AUCbxriOOLW3Ux4olEIiS1O8swKjmGWRn97NmzZzyUsbs48CdmP8I7/ebNm9vb2+Q4zFrEbKb6HLknYow1m026r+HEjz76iEfMmqaRk2p51lV1N8w+pOkqdtGXxALEYrHJycl0Ok3FNvSdnVFqqSeGe1m2g4uAUFXV9957b35+nr0JDnl3yIskTgsNyQ4l8ZU7kQutLhaLhqajCef+/r5FNweBDnx+4PXr19vb299+++3v/d7vJZPJ3/md3+Gicrl8xVJWJhKJUqm0vr7eaDTE41NTU6FQKJfL0X9zuVwoFJqammKMqaoaiUSePn1Kjjyfz9fr9ZmZmU6Vp1Kp3L1719DO8psmk8lqtWp+DDw+Ph4KhQ4ODngtGGOKonSkqN1gcnLS0BGcWCx248YNXddpxBaLRV3Xb9y4EYvFDL+ktqJaG9qNzkokEowxRVHi8fje3h7ZPl3X9/b2RkdHY7GYlyKqdaVS4WY0l8tdu3ZtfHzcY9HMzEy9Xs/n8yQiHSNtCZwigXeKWCw2Ojp6eHhI4yubzR4dHdEwZ4ylUqlIJGJ+7iAflXbQMOEhgt3FgW8hJyv6Ed7pmqbxiNCgRbFYbGBg4FI3Ej0RYywajZpfGhCPHj3i983n82dnZ/y+dmddYXfD7EOarmIXfRkQLUC5XF5eXuZjX+w7uVESMeiJiF07uAsIi8Wipmn0d7lcfvr0aSgUou6QF2l8fPzatWvr6+ulUklSDDG+cidyrdUi9EvxWVvg6Mx35H7+858fHBz89re//eCDDz788MOOXNOfLC8vWz5gSyQS1WqVj8/T09N6vU6qlkgk6vX68+fPSVQul8/Pz1u6f4ek02lL4yW5Kb3FevHiRft37y2pVGpgYOBf/uVfLKU0lxCreXx8PDg4aDZDk5OT1WqV/GI4HGaMVSoV8axIJKIoCr36q9VqXFSr1ciueSmi+EAUnZ6eXlxcJBIJL0XUVufn59z2kY5ZOh4AggI9ABKNOUcyKu2uZggRJBcHV4BarTYwMODas4ueyDlDQ0OhUOj4+Fj+syvsbnoV0thFXyLySQLVgqIO59jpiaQdOhIQUlxkWVpDkYrF4pdffmm2cpL4yp3InVYbSmV41hZEOvZB8O9+97v/8z//8+jRo+BOal1jNkA0TsimGwwQe6NP8k/wtYnkpuFwuNlsWkYSxWKxWq3Ozs6SK0omk77Vb0VRPv/886dPn9qt3TUPfuoggxkyP9zq6+szLNfkR/r6+gyn8yNeisy1EI94KTJHLXQkQIoE3kHK5fKzZ88URVFVlTGWSqWi0SgZAQqL7cIa+ag0YwgR5BcH/uTg4CAajaZSKcaYqqqKotjF5aLbdTi/4pg9kdmFWWKwrpKzrqq7kYQ0PUc+SRBDR4lREpG8jpO0g7uA0IB5atSySGbk8ZU7kTutJq7A6zjWqYnc3NzcJ598ksvlXr58KR7/6quv/vzP/7wjtwgcZnXnODfuHYTfdGRkpF6vf/rpp4U38LfnjLHl5eXz8/NvvvmmUCgMDAwYdqn6hFgsdufOnZcvX17q4WWlUmk2m4aDhidV+/v7Z2dnfAaiqipfflAsFiuVyvT0NC3nUBRlYWGBFrF4KSJzPzY2RoEFY+zevXu0GN1LEWPs4OBgcHBwcXGR/qtpmrjDOxCKBN5Zstns7u7u0tJSoVCYmZnhO454uJDP58k8bm5ukjWQjEpLaK3Uq1evuOZLLg58S7FYzOVyMzMzhUJhaWmJ7+AyYBl5z83NUUfTDiIJBk9E9Pf3r62t0RW4EWaMxWKxzc1NOv7ixYtbt26J1tXyrCvsbuQhTQ8xWwADi4uLoVBod3eX/mtnlEQs9YS4VDs4DAjFuszOzlq+CZQUyYAkvnIncqfVIiT151MA57Sb7IQx9sd//MeqqhaLxZ///Ofi8e9973tDQ0O/+MUv2r8F6CzDw8Mff/yxuHOU9oDy/cS0YCCVSm1sbHQ8x2b7kDXny+Vdw1dRiws2Hj58uLq6+s033zDGGo3G7u7u9PQ0SZeXlzOZzNraGmOs2Wz2SkRhxNzcHG2GFpeheykirUgmk4VCgTF2dHRUKpVGR0fZm83T/lck8M4i7p4ndU0kErRsvq+vj0dRhi3+klFphjZO8yiNkFy821UG7qCUCZSggroskUgY1tRRaopSqcRNnK7rfNZBCra5uWnX0WZPxN5OhULXHxkZIRUtl8s8L0UmkykUCjzhnuSsq+pumH1IY25qL7G0ABxKqLizs8NnERKjRFjqiYi7dmh5Fql9KBR6/Pix4dyWRRKRxFfuRMytVvN63bhxg+9LDC7tTuQ+/fTTpaWlf/7nfxY/PEBMTk6Gw+GWCwOuKuZ32Rx6BHJ6euplecSbNhqNx48f852jiUSCVksb9hNns9lEIjE7O/v8+fNexRli9lhKbhsOh+Px+MbGxmWLZF4YYPkwRvSRjDF6OsjVWPTftASCX9BLkeitefpj70WG7E+ZTIZ0fnFx0W+KBACH1gJtb2+TNtI++JmZGRpljLHd3V1SbNriv7CwMD4+Tj+WjEoDho3THMnFQW8xu5tKpSKmTKAu4wmQ6Zf0CRzLRJGEruvb29vJZHJqasrybV7L1wLZbHZkZCQejyuKYvgZRas3btzY3983aJH5rCvpbph9SNPbYWVnAfi8SExdKzFK4rclmFRP7NrB/EsnASEdoaldpVKxzAh62TdakvjKnYi51WpmlUkhoLQ1kfvhD3/4l3/5ly9evPi3f/s3MSXd7/7u7/7RH/3RJ5988n//938XFxdtF9Lv2O1YJY2p1Wpmm2I3x+sUkpseHx+Pjo6K08jj4+N4PE6rpc0LqSORyNDQUK8MouFhEllAWjoiHl9aWpqcnBQHLTV+NBoVTUyz2RSfLNjZWRHJbyQrCrwUSYyRlyJFUSKRyN7eHrNZkd9bRQKAI9lAq+t6o9EQnb1ki79kVIrDQbyU84sD7zG/uzAHf7REf2RkhL3xR4yxlZUVuWWzXNjPceKJyE1biiTWVXLWlXE3kpCmh+7G0gIw+1z/Tnb1y/VE0g7uAsJyuUwvdSUfWHOiuhLk8ZU7kXOtdr4o1Oe4n8h973vf+6u/+qsPPvjggw8++Oyzzyx/8/r162+//db1LQJErVYTn3vRGCYDdHx8rCgKf+bKl013tTySm/LUPXxIi89maPcwF4XDYe9fHkowPJhhbz7yY162RwYxkUjw44lE4uLigtfFzs6KSH4jWf7upYj5Zj5peDLnc0UC7zi0V56rK0VLtVqNJ8rjdsNui798VFo+qHZ+ceAfDAkSKL8/bTG6d+8eY8zJylhJRzvxREy6kEdiXe3OukruRh7S9ApLC0Db++2+lGBnlPgF5XoiaQd3ASHtRpPM4hyqrh2S092JLqXVLXcwBgj3yU6+/fbbr776al6KYQ/uFYaWQdNnCtmb73KQ9ht2anZqf5ccyU0NGQXFNFyG/cSpVGpsbCxA+XwURcnn87StXNf1w8NDngNKVdV4PM4/RUI/7uvrM3vW+/fvU8vwJ2fcit2+fZusM38Qy/vRS5Gqqj/5yU/ob03TFEXh9fJSpCjK7du3SUTP7fgCpKArErjaGMyjoijT09P0rTBD7jjDFn+7USlaHoJiUEMoKb848CGGlAnUZWdnZ/v7+xRQ2pm1VCrFk0ZQogXe0ZlMJp/P80VMdp4onU7ztb6pVGpiYoLupSjKgwcPxBtFo1Fulu3OYlfX3UhCmha9200sLYDhC6siEqNEP7DUE1VVnzx5QpomaQd3AWEikSBVt6ujnepKkMRX7kTutJoxNj4+Pjg42JPUgx2nA8lOAGNM1/WNjY2VlRW+E5c/cTHs1Dw5OfFga7v8psvLy5qmkYh2AvCvnVYqFV6LZrMpWffvf9LptKZpS0tLS0tLYjWJkZGRs7Mz89O+aDRKLcMYK5VK4mKb999/ny/pFLvYYxFj7M/+7M8WFhYYY41Gg3bh90T02WefffHFF8ykKldMkcAVg17sZzIZy5GezWZrtVoymVxaWjKI5KOSQ1nFLZ/1Si4O/Am5S3O/0weEeGYODn+DMTExQQaQSTvazhNdu3aNnBd724Senp5++OGH/MoGs2x3Fru67obZhzS9QmIB+vr6eAcRvMASo8Ts9UTErh3cBYSMseHhYV4eQjzXSZEMSOIrdyLXWu3nr1Zclu9cv37dUlAoFObn5z0uTQ9v3cP6WuK38nSDd6GOoFNAW4BDoCrADLQCOAfaAsz4Vis69kFwAAAAAAAAAADegIkcAAAAAAAAAAQMTOQAAAAAAAAAIGBgIgcAAAAAAAAAAQMTOQAAAAAAAAAIGJjIAQAAAAAAAEDAwEQOAAAAAAAAAAIGJnIAAAAAAAAAEDAwkQMAAAAAAACAgPGd69evWwoKhYLHRQEAAAAAAAAAvzE/P9/rIlhgO5EDAAAAAAAAAOBPsLQSAAAAAAAAAAIGJnIAAAAAAAAAEDAwkQMAAAAAAACAgIGJHAAAAAAAAAAEDEzkAAAAAAAAACBgYCIHAAAAAAAAAAEDEzkAAAAAAAAACBiYyAEAAAAAAABAwMBEDgAAAAAAAAACBiZyAAAAAAAAABAwMJEDAAAAAAAAgICBiRwAAAAAAAAABAxM5AAAAAAAAAAgYPw/T3qzbdPCr5oAAAAASUVORK5CYII=)"
      ],
      "metadata": {
        "id": "y0bJQDZtEDcM"
      }
    },
    {
      "cell_type": "markdown",
      "source": [
        "## **Таблица полученных данных**"
      ],
      "metadata": {
        "id": "C7SDikRHnlJY"
      }
    },
    {
      "cell_type": "markdown",
      "source": [
        "|Группированная выборка| |Числовые характеристики С.В.| |\n",
        "|----------------------|-|----------------------------|-|\n",
        "|Среднее               |10.68 |Математическое ожидание|10.5|\n",
        "|Мода                  |11    |Мода                   |10.5|\n",
        "|Медиана               |11    |Медиана                |10.5|\n",
        "|Дисперсия             |8.6976 |Дисперсия              |8.75|\n",
        "|Среднеквадратическое отклонение|2.9491693745866816 |              \n",
        "|Коэффициент асимметрии|-0.3219224984807764 |\n",
        "|Коэффициент эксцесса  |-0.7147379825771121 |\n",
        "\n",
        "\n",
        "## **Таблица вероятностей случайной величины**\n",
        "\n",
        "|     | | | | | | | | | | | | | | | | |\n",
        "|-----|-|-|-|-|-|-|-|-|-|-|-|-|-|-|-|-|\n",
        "|$x_i$| 3| 4| 5| 6| 7| 8| 9| 10| 11| 12| 13| 14| 15| 16| 17| 18|\n",
        "|$p_i$| $\\frac 1 {216}$|$\\frac 3 {216}$ |$\\frac 6 {216}$ | $\\frac {10} {216}$| $\\frac {15} {216}$|$\\frac {21} {216}$ |$\\frac {25} {216}$ |$\\frac {27} {216}$ |$\\frac {27} {216}$ |$\\frac {25} {216}$ |$\\frac {21} {216}$ | $\\frac {15} {216}$| $\\frac {10} {216}$|$\\frac 6 {216}$ | $\\frac 3 {216}$| $\\frac 1 {216}$|"
      ],
      "metadata": {
        "id": "d15gaq7x0fyf"
      }
    },
    {
      "cell_type": "markdown",
      "source": [
        "## **Вывод**\n",
        "Результаты выборки достаточно близки к числовым характеристикам случайной величины. Асимметрия умеренная. Эксцесс отрицателен, немного отклоняется от нуля. Можно сделать вывод, что распределение близко к нормальному"
      ],
      "metadata": {
        "id": "wE5I5onAnpP8"
      }
    },
    {
      "cell_type": "markdown",
      "source": [],
      "metadata": {
        "id": "rPf0DrW-R2N5"
      }
    },
    {
      "cell_type": "markdown",
      "source": [],
      "metadata": {
        "id": "ODQ_Mft4R2hm"
      }
    },
    {
      "cell_type": "markdown",
      "source": [
        "# **Практическая работа по эконометрике №2**\n",
        "\"Статистическое оценивание параметров\"\n"
      ],
      "metadata": {
        "id": "0JXhURqIR2xO"
      }
    },
    {
      "cell_type": "markdown",
      "source": [
        "__Исходные даннные:__\n",
        "\n",
        "$\\overline{X} = 10,68$\n",
        "$DX = 8,6976$ (для сравнения)\n",
        "\n",
        "| Интервалы| x | n|\n",
        "------------- | ------------- | ------------- |\n",
        "| 4-6| 5  | 9  |\n",
        "| 6-8| 7  | 11 |\n",
        "| 8-10| 9  | 16 |\n",
        "| 10-12| 11 | 30 |\n",
        "| 12-14| 13 | 19 |\n",
        "| 16-18| 15 | 15 |\n",
        "\n",
        "# __Ход работы__\n",
        "\n",
        "__1.Несмещенные составные оценки__ \\\n",
        "\n",
        "$\\overline{X}$ - несмещенная и составная оценка $MX$\n",
        "\n",
        "$\\overline{X}выб. =  \\frac{1}{n}\\sum_{i=1}^k n_{j} x_{j} = \\frac{1}{100}(9*5 + 11*7 + 16*9 + 30 * 11 + 19 * 13 + 15 * 15) = \\frac{1068}{100} = 10,68$\n",
        "\n",
        "$S^2$ - несмещенная и составная оценка $DX$ \\\n",
        "$S^2 = \\frac{n}{n-1} D_в =  \\frac{100}{99}\n",
        "\\frac{ 9 * (5 - 10,68)^2  + 11 * (7 - 10,68)^2  + 16 * (9 - 10,68)^2 + 30 * (11 - 10,68)^2 + 19 * (13 - 10,68)^2 + 15 * (15 - 10,6*) ^ 2 }{100} = 8,6976 $ \\\n",
        "\\\n",
        "__2. Оценка $MX$__ \\\n",
        "\n",
        "\\\n",
        "$\\overline{x} - \\frac{S}{\\sqrt{n}}t_{1-\\frac{α}{2}} < a < \\overline{x} + \\frac{S}{\\sqrt{n}}t_{1-\\frac{α}{2}}$ \\\n",
        "$10,68 - \\frac{\\sqrt{8,6976}}{\\sqrt{100}} * 1,98 < a < 10,68 + \\frac{\\sqrt{8,6976}}{\\sqrt{100}} * 1,98 $ \\\n",
        "$10,4328 < a < 10,9272, \\; α = 0,05$ \\\n",
        "$10,68 - \\frac{\\sqrt{8,6976}}{\\sqrt{100}} * 1,66 < a < 10,68 + \\frac{\\sqrt{8,6976}}{\\sqrt{100}} * 1,66 $ \\\n",
        "$10,4332 < a < 10,92684, \\; α = 0,1$ \\\n",
        "\\\n",
        "__3.Оценка $DX$__ \\\n",
        "\n",
        "\n",
        "\n",
        "\\\n",
        "$\\frac{(n-1)* S^2}{\\chi^2_{1-\\frac{α}{2}}(n-1)} < σ^2 < \\frac{(n-1)* S^2}{\\chi^2_\\frac{α}{2}(n-1)}$ \\\n",
        "$\\frac{99*8,6976}{128,42} < σ^2 < \\frac{99*8,6976}{73,36}$ \\\n",
        "$6,77 < σ^2 < 11,86$ \\\n",
        "$\\frac{99*8,6976}{123,23} < σ^2 < \\frac{99*8,6976}{77,05}$ \\\n",
        "$7,06 < σ^2 < 11,29$"
      ],
      "metadata": {
        "id": "b4-iB5xoR8Tr"
      }
    },
    {
      "cell_type": "markdown",
      "source": [
        "__3.__ \\\n",
        "$X \\; [0,ϴ]\\:θ - ?\\: \\underline{MM}$ \\\n",
        "$1.MX = \\frac{b}{2} = α_1 - начальный \\; момент \\; 1-го \\; порядка$ \\\n",
        "$2.DX = \\frac{b^2}{12} = α_2 - центральный \\; момент \\; 2-го \\; порядка$ \\\n",
        "$b = θ$ \\\n",
        "$1.MX = \\overline{X} \\; \\frac{b}{2} = \\overline{X} \\; b = 2\\overline{X}  $ \\\n",
        "$2.DX = S^2 \\; \\frac{b^2}{12} = S^2 \\; b = \\sqrt{12S^2}$ \\\n",
        "__4.__ \\\n",
        "$X \\sim N(a,1) \\; \\underline{ММП} $ \\\n",
        "$F(x) = \\frac{1}{\\sqrt{2\\piσ}}e^{-\\frac{(x-a)^2}{2σ^2}}$ \\\n",
        "$F(x) = \\frac{1}{\\sqrt{2\\pi}}e^{-\\frac{(x-a)^2}{2}}$ \\\n",
        "$L(a,x_1, ... , x_n) = \\prod_{i = 1}^{n} F(x_i) = \\frac{1}{\\sqrt{2\\piσ}^n}e^{-\\sum_{i=1}^{n}\\frac{(x_i-a)^2}{2σ^2}}$ \\\n",
        "$\\ln L =  \\ln(\\frac{1}{\\sqrt{2\\pi}^n}) -\\sum \\frac{(x_i-a)^2}{2} \\frac{d\\ln L}{da} = - \\sum_{n}^{i=1} \\frac{2(x_i - a)}{2} * (-1) = \\sum_{n}^{i=1} x_i - an =>  a = \\frac{\\sum_{n}^{i=a}x_i}{n} = \\overline{x}$"
      ],
      "metadata": {
        "id": "MdLNFNJx2CZO"
      }
    },
    {
      "cell_type": "markdown",
      "source": [
        "Вывод: После проведения оценок неизвестных величин можно заметить, что с уменьшением надежности сужается доверительный интервал, так и с её увеличением - расширяется"
      ],
      "metadata": {
        "id": "fJE6-VDkUWTW"
      }
    },
    {
      "cell_type": "markdown",
      "source": [
        "# **Практическая работа по эконометрике №3**\n",
        "\"Выборочное значение статистики\""
      ],
      "metadata": {
        "id": "y3JXHkgSe1XG"
      }
    },
    {
      "cell_type": "markdown",
      "source": [
        "| № | Наблюдаемая частота | $p_k$| Ожидаемая частота | $n*p_k$ | $n_k - n*p_k$ | $\\frac{n_k - n*p_k}{np_k}$ |\n",
        "| ------------- | ------------- | ------------- |------------- | ------------- | ------------- | ------------- |\n",
        "| 1  | 9   | 0,0559  | 5,59   |  9  |        |        |\n",
        "| 2  | 11  | 0,1255  | 12,55  | 20  | 18,14  | 0,19   |\n",
        "| 3  | 16  | 0,2276  | 22,76  | 36  | 22,76  | 2,008  |\n",
        "| 4  | 30  | 0,2646  | 26,46  | 66  | 26,46  | 0,474  |\n",
        "| 5  | 19  | 0,1972  | 19,72  | 85  | 32,64  | 0,057  |\n",
        "| 6  | 15  | 0,1292  | 12,92  | 100 |        |        |\n",
        "|$Σ$ |     |         | 100    |     |        | 2,729  |"
      ],
      "metadata": {
        "id": "98UU0aNlfY-7"
      }
    },
    {
      "cell_type": "markdown",
      "source": [
        "$Χ^2_в < Χ^2_{0,95}(4-2-1) = \\chi^2_{0,95} \\; (1)$ \\\n",
        "$2,729 < 3,84 - H_0$ принимается, то есть распределение нормальное \\\n",
        "__Полигон частот__ \\\n",
        "Построить график с двумя рисунками по таблицам: \\\n",
        "1) \\\n",
        "\n",
        "|$x_i$| 5  | 7  | 9  | 11  | 13  | 15 |  \n",
        "|---|---|---|---|---|---|---|\n",
        "| h  | 9 | 11 | 16 | 30 | 19 | 15 |\n",
        "\n",
        "2)\n",
        "\n",
        "|$x_i$| 5  | 7  | 9  | 11  | 13  | 15 |  \n",
        "|---|---|---|---|---|---|---|\n",
        "| h  | 5,59 | 12,55 | 22,76 | 26,46 | 19,72 | 12,92 |"
      ],
      "metadata": {
        "id": "FTZeruJbjKQN"
      }
    },
    {
      "cell_type": "code",
      "source": [
        "import matplotlib.pyplot as plt\n",
        "x_i = [5,7,9,11,13,15]\n",
        "h_1 = [9,11,16,30,19,15]\n",
        "h_2 = [5.59,12.55,22.76,26.46,19.72,12.92]\n",
        "\n",
        "plt.plot(x_i, h_1, x_i, h_2)\n",
        "plt.show()\n"
      ],
      "metadata": {
        "id": "opbCe-FPnvr5",
        "outputId": "baed3ba6-4330-4e51-ce0d-5d983f34749e",
        "colab": {
          "base_uri": "https://localhost:8080/",
          "height": 430
        }
      },
      "execution_count": null,
      "outputs": [
        {
          "output_type": "display_data",
          "data": {
            "text/plain": [
              "<Figure size 640x480 with 1 Axes>"
            ],
            "image/png": "[encoded data removed]"
          },
          "metadata": {}
        }
      ]
    }
  ]
}