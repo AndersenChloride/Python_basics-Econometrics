{
  "nbformat": 4,
  "nbformat_minor": 0,
  "metadata": {
    "colab": {
      "provenance": [],
      "toc_visible": true
    },
    "kernelspec": {
      "name": "python3",
      "display_name": "Python 3"
    },
    "language_info": {
      "name": "python"
    }
  },
  "cells": [
    {
      "cell_type": "markdown",
      "source": [
        "# **Отчет. Лабораторная работа 1.**\n",
        "# Выполнил Подрядчиков Владимир Валерьевич\n",
        "# Группа 2321-ДБ"
      ],
      "metadata": {
        "id": "OuqBlyzySIzs"
      }
    },
    {
      "cell_type": "markdown",
      "source": [
        "# **Тема 1**. Типы и объекты.\n"
      ],
      "metadata": {
        "id": "jIPoqqXbYz4G"
      }
    },
    {
      "cell_type": "markdown",
      "source": [
        "## **Задание 1**"
      ],
      "metadata": {
        "id": "V4rXqM9YDj6D"
      }
    },
    {
      "cell_type": "markdown",
      "source": [
        "Используя функцию type(), попробуйте выполнить следующие операции и посмотрите что выведется на экран:"
      ],
      "metadata": {
        "id": "TQmg5heTDqUi"
      }
    },
    {
      "cell_type": "code",
      "source": [
        "print(type(None))\n",
        "print(type(True))\n",
        "print(type(False))\n",
        "print(type(1))\n",
        "print(type(5.3))\n",
        "print(type(5 + 4j))\n",
        "print(type([1, 5.3, False, 4]))\n",
        "print(type((1, True, 3, 5+4j)))\n",
        "print(type(range(5)))\n",
        "print(type(range(5)))\n",
        "print(type('Hello'))\n",
        "print(type(b'a'))\n",
        "print(type(bytearray([1,2,3])))\n",
        "print(type(memoryview(bytearray('XYZ', 'utf-8'))))\n",
        "print(type({'a', 3, True}))\n",
        "print(type(frozenset({1, 2, 3})))\n",
        "print(type({'a' : 32}))"
      ],
      "metadata": {
        "colab": {
          "base_uri": "https://localhost:8080/"
        },
        "id": "BZSys4bxUZl-",
        "outputId": "e1e7795d-344b-4b27-ce5b-e3b38ba82855"
      },
      "execution_count": null,
      "outputs": [
        {
          "output_type": "stream",
          "name": "stdout",
          "text": [
            "<class 'NoneType'>\n",
            "<class 'bool'>\n",
            "<class 'bool'>\n",
            "<class 'int'>\n",
            "<class 'float'>\n",
            "<class 'complex'>\n",
            "<class 'list'>\n",
            "<class 'tuple'>\n",
            "<class 'range'>\n",
            "<class 'range'>\n",
            "<class 'str'>\n",
            "<class 'bytes'>\n",
            "<class 'bytearray'>\n",
            "<class 'memoryview'>\n",
            "<class 'set'>\n",
            "<class 'frozenset'>\n",
            "<class 'dict'>\n"
          ]
        }
      ]
    },
    {
      "cell_type": "markdown",
      "source": [
        "# **Тема 2**. Операторы.\n",
        "\n",
        "\n"
      ],
      "metadata": {
        "id": "mRvHzOlXcD8h"
      }
    },
    {
      "cell_type": "markdown",
      "source": [
        " ## Задание 1\n",
        " Решить выражения"
      ],
      "metadata": {
        "id": "X10gd5LLDz4h"
      }
    },
    {
      "cell_type": "code",
      "source": [
        "a = True\n",
        "b = False\n",
        "print(a and b)\n",
        "print((a and b) or b)\n",
        "print((a and b) or not (a and b))\n",
        "print(a and b or not (a or b) or b)\n",
        "print(b and b or not a and (a or b or a) or not (a or b))\n",
        "print(1 << 2)\n",
        "print(1 & 0 | 1 >> 1)\n",
        "print(1 & 0 | 1 >> 0)\n",
        "print(0b101 & 0b111 ^ 0b111 | 0b010)\n",
        "print((7 & 9) ^ (1 | 0) & (3 & 4))"
      ],
      "metadata": {
        "colab": {
          "base_uri": "https://localhost:8080/"
        },
        "id": "-JnK7-YJcJ1z",
        "outputId": "4f991b7d-139c-4fad-8abd-e9e593da2df0"
      },
      "execution_count": null,
      "outputs": [
        {
          "output_type": "stream",
          "name": "stdout",
          "text": [
            "False\n",
            "False\n",
            "True\n",
            "False\n",
            "False\n",
            "4\n",
            "0\n",
            "1\n",
            "2\n",
            "1\n"
          ]
        }
      ]
    },
    {
      "cell_type": "markdown",
      "source": [
        "# **Тема 3**. Условные операторы.\n",
        "\n"
      ],
      "metadata": {
        "id": "t5Zc_CeMe12Y"
      }
    },
    {
      "cell_type": "markdown",
      "source": [
        "## **Задание 1**\n",
        "Допишите функцию, которая принимает 2 числа, сравнивает между собой и возвращает наименьшее."
      ],
      "metadata": {
        "id": "YKQddirUD9aF"
      }
    },
    {
      "cell_type": "code",
      "source": [
        "def min_two(x,y):\n",
        "    if x < y:\n",
        "        print(x)\n",
        "    else:\n",
        "        print(y)\n",
        "min_two(1,2)\n",
        "min_two(5,2)"
      ],
      "metadata": {
        "colab": {
          "base_uri": "https://localhost:8080/"
        },
        "id": "h10VCkExf2a4",
        "outputId": "e6ab295e-2ac0-439e-f15a-93ed96fe435f"
      },
      "execution_count": null,
      "outputs": [
        {
          "output_type": "stream",
          "name": "stdout",
          "text": [
            "1\n"
          ]
        }
      ]
    },
    {
      "cell_type": "markdown",
      "source": [
        "## **Задание 2**\n",
        "Допишите функцию, которая принимает 3 числа, сравнивает между собой и возвращает наименьшее.\n"
      ],
      "metadata": {
        "id": "JxdEBhIVD-tN"
      }
    },
    {
      "cell_type": "code",
      "source": [
        "def min_three(x,y,z):\n",
        "    if x < y:\n",
        "        if x < z:\n",
        "            print(x)\n",
        "        else:\n",
        "            print(z)\n",
        "    else    :\n",
        "        if y < z:\n",
        "            print(y)\n",
        "        else:\n",
        "            print(z)\n",
        "min_three(3,3,3)\n",
        "min_three(1,3,1)\n",
        "min_three(1,3,2)"
      ],
      "metadata": {
        "colab": {
          "base_uri": "https://localhost:8080/"
        },
        "id": "3RpF3p6HglUH",
        "outputId": "c8982116-5ae7-4a88-91f1-839f16311129"
      },
      "execution_count": null,
      "outputs": [
        {
          "output_type": "stream",
          "name": "stdout",
          "text": [
            "3\n",
            "1\n",
            "1\n"
          ]
        }
      ]
    },
    {
      "cell_type": "markdown",
      "source": [
        "## **Задание 3**\n",
        "Допишите функцию, которая принимает 3 числа, сравнивает между собой и возвращает количество совпадающих чисел. Соответственно, программа может возвращать одно из трех чисел: 3 - если совпадают все, 2 - если совпадают 2 числа, 0 - если все числа различны."
      ],
      "metadata": {
        "id": "D9znjLXFEDLo"
      }
    },
    {
      "cell_type": "code",
      "source": [
        "def how_much_eq(x,y,z):\n",
        "     if (x == y) & (x == z) :\n",
        "          print(3)\n",
        "     elif (x == y) | (x == z) | (y == z):\n",
        "          print(2)\n",
        "     else:\n",
        "          print(0)\n",
        "\n",
        "how_much_eq(1,2,3)\n",
        "how_much_eq(1,2,1)\n",
        "how_much_eq(0,0,0)"
      ],
      "metadata": {
        "colab": {
          "base_uri": "https://localhost:8080/"
        },
        "id": "ELuXVEi8iJkE",
        "outputId": "2bacdabe-b502-45b0-c4be-7d6ef66f6d8e"
      },
      "execution_count": null,
      "outputs": [
        {
          "output_type": "stream",
          "name": "stdout",
          "text": [
            "0\n",
            "2\n",
            "3\n"
          ]
        }
      ]
    },
    {
      "cell_type": "markdown",
      "source": [
        "# **Тема 4**. Циклы.\n"
      ],
      "metadata": {
        "id": "EcZ512W8quX7"
      }
    },
    {
      "cell_type": "markdown",
      "source": [
        "## **Задание 1**\n",
        "Допишите функцию, которая принимает массив из 10 чисел и возвращает их сумму."
      ],
      "metadata": {
        "id": "Mh5bvRgUETOx"
      }
    },
    {
      "cell_type": "code",
      "source": [
        "arr = [1, 2, 3, 4, 5, 6, 7, 8, 9, 10]\n",
        "\n",
        "def sum(x):\n",
        "    a = 0\n",
        "    for i in x:\n",
        "        a+=i\n",
        "    print(a)\n",
        "\n",
        "sum(arr)"
      ],
      "metadata": {
        "colab": {
          "base_uri": "https://localhost:8080/"
        },
        "id": "kidulLMEsQlX",
        "outputId": "209972ba-43ea-44ae-d0fe-90a83b35da7e"
      },
      "execution_count": null,
      "outputs": [
        {
          "output_type": "stream",
          "name": "stdout",
          "text": [
            "55\n"
          ]
        }
      ]
    },
    {
      "cell_type": "markdown",
      "source": [
        "## **Задание 2**\n",
        "Напишите программу, в которой задается натуральное число n и выводится лестница из n ступенек, i-я ступенька должна состоять из чисел от 1 до i без пробелов."
      ],
      "metadata": {
        "id": "pmCUyd1ZEYIg"
      }
    },
    {
      "cell_type": "code",
      "source": [
        "def ladder(n):\n",
        "     var1 = 1\n",
        "     var2 = 1\n",
        "     while var1 <= n:\n",
        "          while var2 <= var1:\n",
        "              print(var2, end=\"\")\n",
        "              var2+=1\n",
        "          var1+=1\n",
        "          var2=1\n",
        "          print(\"\\n\", end=\"\")\n",
        "\n",
        "ladder(10)"
      ],
      "metadata": {
        "colab": {
          "base_uri": "https://localhost:8080/"
        },
        "id": "mrJNwua5u6uj",
        "outputId": "d12b8417-4393-4906-cb67-872e0db7cd28"
      },
      "execution_count": null,
      "outputs": [
        {
          "output_type": "stream",
          "name": "stdout",
          "text": [
            "1\n",
            "12\n",
            "123\n",
            "1234\n",
            "12345\n",
            "123456\n",
            "1234567\n",
            "12345678\n",
            "123456789\n",
            "12345678910\n"
          ]
        }
      ]
    },
    {
      "cell_type": "markdown",
      "source": [
        "## **Задание 3**\n",
        "Напишите программу, в которой задается натуральное число n и выводится пирамида из n ступенек, i-я ступень должна состоять из чисел от 1 до i и обратно без пробелов."
      ],
      "metadata": {
        "id": "_Za2t8uzEiYo"
      }
    },
    {
      "cell_type": "code",
      "source": [
        "def pyromide(n):\n",
        "    x=1\n",
        "    m = (2 * n) - 2\n",
        "    while x <= n:\n",
        "         for i in range(0, m):\n",
        "             print(end=\" \")\n",
        "         m-=1\n",
        "         for i in range (1,x+1):\n",
        "             print(i, end=\"\")\n",
        "         for i in range (1,x):\n",
        "             print(x - i, end=\"\")\n",
        "         x+=1\n",
        "         print(\"\\n\", end=\"\")\n",
        "\n",
        "pyromide(9)"
      ],
      "metadata": {
        "colab": {
          "base_uri": "https://localhost:8080/"
        },
        "id": "m9QXvP4Z06PQ",
        "outputId": "9249bfcb-35f1-476a-d2bf-ddaf7d73023e"
      },
      "execution_count": null,
      "outputs": [
        {
          "output_type": "stream",
          "name": "stdout",
          "text": [
            "                1\n",
            "               121\n",
            "              12321\n",
            "             1234321\n",
            "            123454321\n",
            "           12345654321\n",
            "          1234567654321\n",
            "         123456787654321\n",
            "        12345678987654321\n"
          ]
        }
      ]
    },
    {
      "cell_type": "markdown",
      "source": [
        "## **Задание 4**\n",
        "Напишите программу, в которой задается натуральное число n и выводится ромб из n*2-1 ступенек, i-я ступень должна состоять из чисел от 1 до i и обратно без пробелов."
      ],
      "metadata": {
        "id": "FvYsfsxvEo5z"
      }
    },
    {
      "cell_type": "code",
      "source": [
        "def rhomb(n):\n",
        "    x = 1\n",
        "    m = (2 * n) - 2\n",
        "    while x <= n:\n",
        "         for i in range(0, m):\n",
        "             print(end=\" \")\n",
        "         m-=1\n",
        "         for i in range (1,x+1):\n",
        "             print(i, end=\"\")\n",
        "         for i in range (1,x):\n",
        "             print(x - i, end=\"\")\n",
        "         x+=1\n",
        "         print(\"\\n\", end=\"\")\n",
        "\n",
        "    x = n\n",
        "    a = x\n",
        "    while 1 <= x:\n",
        "         for i in range(0, a):\n",
        "             print(end=\" \")\n",
        "         a+=1\n",
        "         for i in range (1,x):\n",
        "             print(i, end=\"\")\n",
        "         for i in range (2,x):\n",
        "             print(x-i, end=\"\")\n",
        "         x-=1\n",
        "         print(\"\\n\", end=\"\")\n",
        "\n",
        "rhomb(8)\n"
      ],
      "metadata": {
        "colab": {
          "base_uri": "https://localhost:8080/"
        },
        "id": "fb370RQA-Ud0",
        "outputId": "154938d9-a8c0-4d65-81fe-cc054392a0bd"
      },
      "execution_count": null,
      "outputs": [
        {
          "output_type": "stream",
          "name": "stdout",
          "text": [
            "              1\n",
            "             121\n",
            "            12321\n",
            "           1234321\n",
            "          123454321\n",
            "         12345654321\n",
            "        1234567654321\n",
            "       123456787654321\n",
            "        1234567654321\n",
            "         12345654321\n",
            "          123454321\n",
            "           1234321\n",
            "            12321\n",
            "             121\n",
            "              1\n",
            "               \n"
          ]
        }
      ]
    },
    {
      "cell_type": "markdown",
      "source": [
        "## **Бонусное задание**. Вариант В1\n",
        "Используя циклы, напишите код, который бы ромб, но только первую и четвертую четверть.\n"
      ],
      "metadata": {
        "id": "dKAOE3EKErN8"
      }
    },
    {
      "cell_type": "code",
      "source": [
        "def pyromide_half(n):\n",
        "    x = 1\n",
        "    m = (2 * n) - 2\n",
        "    while x <= n+1:\n",
        "         for i in range(0, m):\n",
        "             print(end=\" \")\n",
        "         m-=1\n",
        "         for i in range (1,x):\n",
        "             print(i, end=\"\")\n",
        "         x+=1\n",
        "         print(\"\\n\", end=\"\")\n",
        "\n",
        "    x = n\n",
        "    a = x\n",
        "    с = -2+2*n\n",
        "    while 1 <= x:\n",
        "         for i in range(0, с):\n",
        "             print(end=\" \")\n",
        "         a+=1\n",
        "\n",
        "         for i in range (0,x):\n",
        "             print(x-i, end=\"\")\n",
        "         x-=1\n",
        "         print(\"\\n\", end=\"\")\n",
        "\n",
        "pyromide_half(8)"
      ],
      "metadata": {
        "colab": {
          "base_uri": "https://localhost:8080/"
        },
        "id": "7MyX5wvjLPtD",
        "outputId": "46b4381f-fee3-4eba-b0e8-8f13c3170b65"
      },
      "execution_count": null,
      "outputs": [
        {
          "output_type": "stream",
          "name": "stdout",
          "text": [
            "              \n",
            "             1\n",
            "            12\n",
            "           123\n",
            "          1234\n",
            "         12345\n",
            "        123456\n",
            "       1234567\n",
            "      12345678\n",
            "              87654321\n",
            "              7654321\n",
            "              654321\n",
            "              54321\n",
            "              4321\n",
            "              321\n",
            "              21\n",
            "              1\n"
          ]
        }
      ]
    },
    {
      "cell_type": "markdown",
      "source": [
        "# **Тема 5**. Работа со строками."
      ],
      "metadata": {
        "id": "BpNXqSX7QwYU"
      }
    },
    {
      "cell_type": "markdown",
      "source": [
        "## **Задание 1**\n",
        "Дана строка: Abraсadabra\n",
        "Вывести третий символ этой строки."
      ],
      "metadata": {
        "id": "hG1iv3YIEziN"
      }
    },
    {
      "cell_type": "code",
      "source": [
        "a = \"Abracadabra\"\n",
        "\n",
        "def third(a):\n",
        "     print(a[2])\n",
        "\n",
        "third(a)\n"
      ],
      "metadata": {
        "colab": {
          "base_uri": "https://localhost:8080/"
        },
        "id": "sr9IsKjwC3df",
        "outputId": "c2b8e6d0-7b05-4bd2-ce0f-bdb75b3e9a45"
      },
      "execution_count": null,
      "outputs": [
        {
          "output_type": "stream",
          "name": "stdout",
          "text": [
            "r\n"
          ]
        }
      ]
    },
    {
      "cell_type": "markdown",
      "source": [
        "Вывести предпоследний символ этой строки.\n"
      ],
      "metadata": {
        "id": "sWCNlKjrE2NF"
      }
    },
    {
      "cell_type": "code",
      "source": [
        "def last_but_one(a):\n",
        "     print(a[len(a)-2])\n",
        "last_but_one(a)"
      ],
      "metadata": {
        "colab": {
          "base_uri": "https://localhost:8080/"
        },
        "id": "VEDNdqQMELdW",
        "outputId": "09b15f94-c84d-4127-e93c-205790e465a6"
      },
      "execution_count": null,
      "outputs": [
        {
          "output_type": "stream",
          "name": "stdout",
          "text": [
            "r\n"
          ]
        }
      ]
    },
    {
      "cell_type": "markdown",
      "source": [
        "Вывести первые пять символов этой строки."
      ],
      "metadata": {
        "id": "U0ydXVa_E4A6"
      }
    },
    {
      "cell_type": "code",
      "source": [
        "def five(a):\n",
        "     print(a[:5])\n",
        "five(a)"
      ],
      "metadata": {
        "colab": {
          "base_uri": "https://localhost:8080/"
        },
        "id": "GdcTiCxaFfi5",
        "outputId": "423c14eb-a18c-4193-9792-08c52b0645c6"
      },
      "execution_count": null,
      "outputs": [
        {
          "output_type": "stream",
          "name": "stdout",
          "text": [
            "Abrac\n"
          ]
        }
      ]
    },
    {
      "cell_type": "markdown",
      "source": [
        "\n",
        "Вывести строку, кроме последних двух символов."
      ],
      "metadata": {
        "id": "GDvq29JeE7qK"
      }
    },
    {
      "cell_type": "code",
      "source": [
        "def but_two_last(a):\n",
        "     print(a[:(len(a)-2)])\n",
        "but_two_last(a)"
      ],
      "metadata": {
        "colab": {
          "base_uri": "https://localhost:8080/"
        },
        "id": "eBLBcoeaF0xA",
        "outputId": "73962559-381c-4d10-9f1e-1d0abd81d582"
      },
      "execution_count": null,
      "outputs": [
        {
          "output_type": "stream",
          "name": "stdout",
          "text": [
            "Abracadab\n"
          ]
        }
      ]
    },
    {
      "cell_type": "markdown",
      "source": [
        "Вывести все символы с четными индексами (считайте, что 0 - четный индекс)."
      ],
      "metadata": {
        "id": "Iy3fm0P8E9tI"
      }
    },
    {
      "cell_type": "code",
      "source": [
        "def even(a):\n",
        "    x = 0\n",
        "    while x <= len(a):\n",
        "            print(a[x])\n",
        "            x+=2\n",
        "even(a)\n"
      ],
      "metadata": {
        "colab": {
          "base_uri": "https://localhost:8080/"
        },
        "id": "jxzwcU4gGLh3",
        "outputId": "459db9ac-a93b-46c7-e30c-d63120f93e81"
      },
      "execution_count": null,
      "outputs": [
        {
          "output_type": "stream",
          "name": "stdout",
          "text": [
            "A\n",
            "r\n",
            "c\n",
            "d\n",
            "b\n",
            "a\n"
          ]
        }
      ]
    },
    {
      "cell_type": "markdown",
      "source": [
        "Вывести все символы с нечетными индексами."
      ],
      "metadata": {
        "id": "oIohtyguHon0"
      }
    },
    {
      "cell_type": "code",
      "source": [
        "def odd(a):\n",
        "    x = 1\n",
        "    while x <= len(a)-1:\n",
        "            print(a[x])\n",
        "            x+=2\n",
        "\n",
        "odd(a)"
      ],
      "metadata": {
        "colab": {
          "base_uri": "https://localhost:8080/"
        },
        "id": "TJ_7rGUJHyJS",
        "outputId": "a298443b-1d3f-47cc-d7e7-700aef19439b"
      },
      "execution_count": null,
      "outputs": [
        {
          "output_type": "stream",
          "name": "stdout",
          "text": [
            "b\n",
            "a\n",
            "a\n",
            "a\n",
            "r\n"
          ]
        }
      ]
    },
    {
      "cell_type": "markdown",
      "source": [
        "Вывести все символы в обратном порядке."
      ],
      "metadata": {
        "id": "pmFFAaifIO7v"
      }
    },
    {
      "cell_type": "code",
      "source": [
        "def reverse(a):\n",
        "    x = 0\n",
        "    while x <= len(a):\n",
        "            print(a[len(a) -1 - x])\n",
        "            x+=1\n",
        "\n",
        "reverse(a)"
      ],
      "metadata": {
        "colab": {
          "base_uri": "https://localhost:8080/"
        },
        "id": "khNNmebZIRHW",
        "outputId": "d349ac1b-49e4-4ad1-d71b-1e2420c5a6cf"
      },
      "execution_count": null,
      "outputs": [
        {
          "output_type": "stream",
          "name": "stdout",
          "text": [
            "a\n",
            "r\n",
            "b\n",
            "a\n",
            "d\n",
            "a\n",
            "c\n",
            "a\n",
            "r\n",
            "b\n",
            "A\n",
            "a\n"
          ]
        }
      ]
    },
    {
      "cell_type": "markdown",
      "source": [
        "Вывести все символы строки через один в обратном порядке, начиная с последнего."
      ],
      "metadata": {
        "id": "bqTSuuzyJOhU"
      }
    },
    {
      "cell_type": "code",
      "source": [
        "def reverse_but_even(a):\n",
        "    x = 0\n",
        "    while x <= len(a):\n",
        "            print(a[len(a) -1 - x])\n",
        "            x+=2\n",
        "\n",
        "reverse_but_even(a)"
      ],
      "metadata": {
        "colab": {
          "base_uri": "https://localhost:8080/"
        },
        "id": "8BdY5ceiJA9k",
        "outputId": "a7019f66-bb56-4c28-b598-4a37c9f593d0"
      },
      "execution_count": null,
      "outputs": [
        {
          "output_type": "stream",
          "name": "stdout",
          "text": [
            "a\n",
            "b\n",
            "d\n",
            "c\n",
            "r\n",
            "A\n"
          ]
        }
      ]
    },
    {
      "cell_type": "markdown",
      "source": [
        "Вывести длину данной строки.Вывести длину данной строки."
      ],
      "metadata": {
        "id": "mAw3ILhAJeZo"
      }
    },
    {
      "cell_type": "code",
      "source": [
        "def len_(a):\n",
        "    k = 0\n",
        "    for i in range(len(a)):\n",
        "        k+=1\n",
        "    return k\n",
        "print(len_(a))"
      ],
      "metadata": {
        "colab": {
          "base_uri": "https://localhost:8080/"
        },
        "id": "skpdGDYVJgz4",
        "outputId": "663d78a7-92fb-43e2-a36f-7435de203715"
      },
      "execution_count": null,
      "outputs": [
        {
          "output_type": "stream",
          "name": "stdout",
          "text": [
            "11\n"
          ]
        }
      ]
    },
    {
      "cell_type": "markdown",
      "source": [
        "## **Задание 2.**\n",
        "Напишите код, который обрабатывает строковые данные и возвращает их с первыми заглавными буквами в каждом слове."
      ],
      "metadata": {
        "id": "HQmzG6L4Kihr"
      }
    },
    {
      "cell_type": "code",
      "source": [
        "Input = 'Lorem ipsum dolor sit amet, consectetur adipiscing elit, sed do eiusmod tempor incididunt ut labore et dolore magna aliqua.'\n",
        "\n",
        "def up_case(a):\n",
        "     string = a.split()\n",
        "     for i in range(len(string)):\n",
        "         v = string[i]\n",
        "         string[i] =v[:1].upper() + v[1:]\n",
        "\n",
        "     print(string)\n",
        "\n",
        "up_case(Input)"
      ],
      "metadata": {
        "colab": {
          "base_uri": "https://localhost:8080/"
        },
        "id": "Idv7VxD-KsCE",
        "outputId": "629a3ab0-c9f6-4d15-ab56-0ff4bcdfef92"
      },
      "execution_count": null,
      "outputs": [
        {
          "output_type": "stream",
          "name": "stdout",
          "text": [
            "['Lorem', 'Ipsum', 'Dolor', 'Sit', 'Amet,', 'Consectetur', 'Adipiscing', 'Elit,', 'Sed', 'Do', 'Eiusmod', 'Tempor', 'Incididunt', 'Ut', 'Labore', 'Et', 'Dolore', 'Magna', 'Aliqua.']\n"
          ]
        }
      ]
    },
    {
      "cell_type": "markdown",
      "source": [
        "## **Задание 3.**\n",
        " Пароль считается надежным, если его длина составляет не менее 12 символов, при этом он должен содержать хотя бы одну заглавную букву, хотя бы одну строчную букву, хотя бы одну цифру и хотя бы один спецсимвол. Напишите код, который обрабатывает строковые данные и выводит сообщение о том, надежен ли пароль или нет. В случае, если пароль не надежен, код должен выдавать рекомендации для усиления надежности пароля."
      ],
      "metadata": {
        "id": "XRx2idQlY4M6"
      }
    },
    {
      "cell_type": "code",
      "source": [
        "def loyal(a):\n",
        "     up = False\n",
        "     low = False\n",
        "     num = False\n",
        "     symb = False\n",
        "     lent = 0\n",
        "     x = [\"!\", \"@\", \"#\", \"\\\\\", \"$\",\"%\", \"^\",\"&\",\"*\",\"(\",\")\",\"-\",\"+\"]\n",
        "\n",
        "     for lent in range(len(a)):\n",
        "         if a[lent].isdigit() == True:\n",
        "             num = True\n",
        "         if a[lent].isupper() == True:\n",
        "             up = True\n",
        "         if a[lent].islower() == True:\n",
        "             low = True\n",
        "         if (a[lent] in x) == True :\n",
        "             symb = True\n",
        "         lent+=1\n",
        "\n",
        "     if num == True & up == True & low == True & symb == True & len(a) <= 12:\n",
        "         print(\"Надежный пароль\")\n",
        "     else:\n",
        "         print(\"Пароль ненадёжен\")\n",
        "     if low == False:\n",
        "         print(\"Добавьте букву в нижнем регистре\")\n",
        "     if up == False:\n",
        "         print(\"Добавьте букву в верхнем регистре\")\n",
        "     if symb == False:\n",
        "         print(\"Добавьте спецсимвол\")\n",
        "     if len(a) <= 12:\n",
        "         print(\"Пароль слишком короткий. Добавьте \" + str(12 - len(a)) + \" символов\")\n",
        "\n",
        "\n",
        "loyal(\"qwerty\")\n",
        "loyal(\"Qwert_Y\")\n",
        "loyal(\"Q123wer123tY\")\n",
        "loyal(\"@PowerRangers123@\")\n"
      ],
      "metadata": {
        "colab": {
          "base_uri": "https://localhost:8080/"
        },
        "id": "iL3jaEnKY85b",
        "outputId": "1101501d-19c1-43eb-b19a-da54c141b4f7"
      },
      "execution_count": null,
      "outputs": [
        {
          "output_type": "stream",
          "name": "stdout",
          "text": [
            "Пароль ненадёжен\n",
            "Добавьте букву в верхнем регистре\n",
            "Добавьте спецсимвол\n",
            "Пароль слишком короткий. Добавьте 6 символов\n",
            "Пароль ненадёжен\n",
            "Добавьте спецсимвол\n",
            "Пароль слишком короткий. Добавьте 5 символов\n",
            "Пароль ненадёжен\n",
            "Добавьте спецсимвол\n",
            "Пароль слишком короткий. Добавьте 0 символов\n",
            "Надежный пароль\n"
          ]
        }
      ]
    },
    {
      "cell_type": "markdown",
      "source": [
        "# **Тема 6**. Списки."
      ],
      "metadata": {
        "id": "dNv39FPUDgdw"
      }
    },
    {
      "cell_type": "markdown",
      "source": [
        "## **Задание 1**\n",
        "Задан список с числами. Напишите программу, которая выводит все элементы списка с четными индексами в виде нового списка."
      ],
      "metadata": {
        "id": "3lmU6xNyGmCZ"
      }
    },
    {
      "cell_type": "code",
      "source": [
        "def list_even_ind(list):\n",
        "    result = [i for i in list if list.index(i) % 2 == 0]\n",
        "    print(result)\n",
        "\n",
        "list_even_ind([1, 5, 2, 4, 3])\n",
        "list_even_ind([1, 2, 3, 4, 5])\n",
        "list_even_ind([5, 4, 3, 2, 1])\n",
        "list_even_ind([1, 5, 1, 5, 1])"
      ],
      "metadata": {
        "colab": {
          "base_uri": "https://localhost:8080/"
        },
        "id": "t9pdJU4lEU-J",
        "outputId": "82e47083-f4dd-4384-a4e4-e9d62a5bca5a"
      },
      "execution_count": null,
      "outputs": [
        {
          "output_type": "stream",
          "name": "stdout",
          "text": [
            "[1, 2, 3]\n",
            "[1, 3, 5]\n",
            "[5, 3, 1]\n",
            "[1, 1, 1]\n"
          ]
        }
      ]
    },
    {
      "cell_type": "markdown",
      "source": [
        "## **Задание 2**\n",
        "Задан список с числами. Напишите программу, которая выводит все элементы списка, которые больше предыдущего, в виде отдельного списка."
      ],
      "metadata": {
        "id": "ClVtIxZZUpuI"
      }
    },
    {
      "cell_type": "code",
      "source": [
        "def if_left_more(list):\n",
        "    result = [i for i in list if list[list.index(i)-1] < i]\n",
        "    print(result)\n",
        "\n",
        "if_left_more([1, 5, 2, 4, 3])\n",
        "if_left_more([1, 2, 3, 4, 5])\n",
        "if_left_more([5, 4, 3, 2, 1])\n",
        "if_left_more([1, 5, 1, 5, 1])"
      ],
      "metadata": {
        "colab": {
          "base_uri": "https://localhost:8080/"
        },
        "id": "3uqsDBJUUqxj",
        "outputId": "eadbce9c-d792-4c0b-a540-08bf581415c9"
      },
      "execution_count": null,
      "outputs": [
        {
          "output_type": "stream",
          "name": "stdout",
          "text": [
            "[5, 4]\n",
            "[2, 3, 4, 5]\n",
            "[5]\n",
            "[5, 5]\n"
          ]
        }
      ]
    },
    {
      "cell_type": "markdown",
      "source": [
        "## **Задание 3**\n",
        "Задан список с числами. Напишите программу, которая меняет местами наибольший и наименьший элемент и выводит новый список."
      ],
      "metadata": {
        "id": "ihHpZXQ7Ywt5"
      }
    },
    {
      "cell_type": "code",
      "source": [
        "def min_max_swap(list):\n",
        "    max = list[0]\n",
        "    min = list[0]\n",
        "    i = 0\n",
        "    while i <= len(list)-2:\n",
        "        if list[i] < list[i+1]:\n",
        "            max = list[i+1]\n",
        "        if list[i] > list[i+1]:\n",
        "            min = list[i+1]\n",
        "        i+=1\n",
        "\n",
        "    a = list.index(max)\n",
        "    b = list.index(min)\n",
        "\n",
        "    list.insert(b, max)\n",
        "    list.pop(b+1)\n",
        "    list.insert(a, min)\n",
        "    list.pop(a+1)\n",
        "    print(list)\n",
        "\n",
        "\n",
        "min_max_swap([3, 4, 5, 2, 1])\n",
        "min_max_swap([-3000, 3000])\n",
        "min_max_swap([1, 2, 3, 4, 5, 6, 7])\n",
        "min_max_swap([-5, 5, 10])\n",
        ""
      ],
      "metadata": {
        "colab": {
          "base_uri": "https://localhost:8080/"
        },
        "id": "W2VL4GWjYxha",
        "outputId": "4e237946-7428-40ce-f8e8-251f7adf4985"
      },
      "execution_count": null,
      "outputs": [
        {
          "output_type": "stream",
          "name": "stdout",
          "text": [
            "[3, 4, 1, 2, 5]\n",
            "[3000, -3000]\n",
            "[7, 2, 3, 4, 5, 6, 1]\n",
            "[10, 5, -5]\n"
          ]
        }
      ]
    },
    {
      "cell_type": "markdown",
      "source": [
        "#**Тема 7**. Словари и кортежи."
      ],
      "metadata": {
        "id": "iIBBX--uZdML"
      }
    },
    {
      "cell_type": "markdown",
      "source": [
        "## **Задание 1**\n",
        "Допишите функцию, которая принимает несколько параметров. Первый параметр - словарь, второй параметр - один из ключей данного словаря. Функция должна выводить значение этого ключа."
      ],
      "metadata": {
        "id": "mKeaGFryZhJ0"
      }
    },
    {
      "cell_type": "code",
      "source": [
        "def get_data(a,b):\n",
        "    print(a.get(b))\n",
        "\n",
        "\n",
        "get_data({'Hello' : 'Hi', 'Bye' : 'Goodbye', 'List' : 'Array'}, 'Bye')\n",
        "get_data({'beep' : 'car'}, 'beep' )\n",
        "get_data({'a' : 1, 'b' : 2, 'c' : 3, 'd' : 4, 'e' : 5}, 'c')"
      ],
      "metadata": {
        "colab": {
          "base_uri": "https://localhost:8080/"
        },
        "id": "Gl9Sl2aSZk98",
        "outputId": "c0fab81d-f339-48c0-8d92-9febff3f3f22"
      },
      "execution_count": null,
      "outputs": [
        {
          "output_type": "stream",
          "name": "stdout",
          "text": [
            "Goodbye\n",
            "car\n",
            "3\n"
          ]
        }
      ]
    },
    {
      "cell_type": "markdown",
      "source": [
        "## **Задание 2**\n",
        "Напишите программу, которая будет выполнять действие, обратное заданию 1. Программа должна производить поиск по значению и выдавать ключ."
      ],
      "metadata": {
        "id": "C-IspXFBb7L7"
      }
    },
    {
      "cell_type": "code",
      "source": [
        "def get_key(a,b):\n",
        "    for i in a:\n",
        "        if a.get(i) == b:\n",
        "            print(i)\n",
        "\n",
        "get_key({'Hello' : 'Hi', 'Bye' : 'Goodbye', 'List' : 'Array'}, 'Hi')\n",
        "get_key({'beep' : 'car'}, 'car')\n",
        "get_key({'a' : 1, 'b' : 2, 'c' : 3, 'd' : 4, 'e' : 5}, 5)"
      ],
      "metadata": {
        "colab": {
          "base_uri": "https://localhost:8080/"
        },
        "id": "XJAX3otzb84T",
        "outputId": "0101a988-090a-47a4-90f9-cdd2a922c46d"
      },
      "execution_count": null,
      "outputs": [
        {
          "output_type": "stream",
          "name": "stdout",
          "text": [
            "Hello\n",
            "beep\n",
            "e\n"
          ]
        }
      ]
    },
    {
      "cell_type": "markdown",
      "source": [
        "## **Задание 3**\n",
        "Напишите программу, которая принимает список строк и выводит количество повторений данных строк в списке."
      ],
      "metadata": {
        "id": "Iv0Hirijhd_q"
      }
    },
    {
      "cell_type": "code",
      "source": [
        "def repeated(a):\n",
        "     repetitions = {}\n",
        "     for x in a:\n",
        "          repetitions[x] = repetitions.get(x, 0) + 1\n",
        "     print(repetitions.values())\n",
        "\n",
        "repeated(['abc', 'bcd', 'abc', 'abd', 'abd', 'dcd', 'abc'])\n",
        "repeated(['aaa', 'bbb', 'ccc'])\n",
        "repeated(['abc', 'abc', 'abc'])"
      ],
      "metadata": {
        "colab": {
          "base_uri": "https://localhost:8080/"
        },
        "id": "eA10OFfIhf65",
        "outputId": "5921d518-74fd-464d-f360-a8044d6666c9"
      },
      "execution_count": null,
      "outputs": [
        {
          "output_type": "stream",
          "name": "stdout",
          "text": [
            "dict_values([3, 1, 2, 1])\n",
            "dict_values([1, 1, 1])\n",
            "dict_values([3])\n"
          ]
        }
      ]
    },
    {
      "cell_type": "markdown",
      "source": [
        "#**Тема 8**. Множества"
      ],
      "metadata": {
        "id": "FO5kmpvts29K"
      }
    },
    {
      "cell_type": "markdown",
      "source": [
        "## **Задание 1**\n",
        "Напишите программу, которая принимает список чисел и с помощью множеств определяет количество различных чисел внутри списка."
      ],
      "metadata": {
        "id": "90dMNk-itmB7"
      }
    },
    {
      "cell_type": "code",
      "source": [
        "def countrep(a):\n",
        "    b = len(set(a))\n",
        "    print(b)\n",
        "countrep([1, 2, 3, 2, 1])\n",
        "countrep([1, 2, 3, 4, 5, 6, 7])\n",
        "countrep([1, 1, 1, 1, 1])\n",
        "countrep([1, 2, 3, 1, 1])"
      ],
      "metadata": {
        "colab": {
          "base_uri": "https://localhost:8080/"
        },
        "id": "qFax0AUluvWQ",
        "outputId": "95e59316-40f8-449b-ed67-923f12d0e7b7"
      },
      "execution_count": null,
      "outputs": [
        {
          "output_type": "stream",
          "name": "stdout",
          "text": [
            "3\n",
            "7\n",
            "1\n",
            "3\n"
          ]
        }
      ]
    },
    {
      "cell_type": "markdown",
      "source": [
        "## **Задание 2**\n",
        "Опишите функцию, которая принимает несколько списков чисел и, с помощью множеств, определяет количество общих чисел из первого и второго списка."
      ],
      "metadata": {
        "id": "HTPNtc3xwUSD"
      }
    },
    {
      "cell_type": "code",
      "source": [
        "def intersec(a,b):\n",
        "    print(len(a.intersection(b)))\n",
        "\n",
        "intersec({1, 2, 3},{1, 4, 5.})\n",
        "intersec({1, 2, 3, 4, 5, 6, 7},{10, 2, 3, 4, 8})\n",
        "intersec({1, 10, 223, 413, 2},{2, 40, 12, 100, 10})"
      ],
      "metadata": {
        "colab": {
          "base_uri": "https://localhost:8080/"
        },
        "id": "N1PLKEEIwUnC",
        "outputId": "5c466299-3818-484a-a085-d3b06cbd877c"
      },
      "execution_count": null,
      "outputs": [
        {
          "output_type": "stream",
          "name": "stdout",
          "text": [
            "1\n",
            "3\n",
            "2\n"
          ]
        }
      ]
    },
    {
      "cell_type": "markdown",
      "source": [
        "## **Задание 3**\n",
        "Даны два множества чисел. Напишите программу, которая определяет, является ли первое множество подмножеством второго. Множество является подмножеством другого множества, если все данные первого совпадают с частью данных из второго. Если множества совпадают, они не являются подмножествами друг друга.\n",
        "Если первое множество является подмножеством второго, программа должна выводить True, в остальных случаях - False.\n",
        "\n"
      ],
      "metadata": {
        "id": "uKcJlMbIwU4J"
      }
    },
    {
      "cell_type": "code",
      "source": [
        "def supset(a,b):\n",
        "    if a.issubset(b) == True:\n",
        "        if len(a) == len (b):\n",
        "           print(False)\n",
        "        else:\n",
        "           print(True)\n",
        "    else:\n",
        "         print(False)\n",
        "\n",
        "supset({1, 2, 3},{1, 4, 5.})\n",
        "supset({1, 2, 3, 4, 5, 6, 7},{10, 9, 8, 7, 6, 5, 4, 3, 2, 1, 0})\n",
        "supset({1, 10, 223, 413, 2},{1, 10, 223, 413, 2})"
      ],
      "metadata": {
        "colab": {
          "base_uri": "https://localhost:8080/"
        },
        "id": "_e3RrZHFwVQa",
        "outputId": "e698906c-7a3c-4a06-929c-ef2554dcf43f"
      },
      "execution_count": null,
      "outputs": [
        {
          "output_type": "stream",
          "name": "stdout",
          "text": [
            "False\n",
            "True\n",
            "False\n"
          ]
        }
      ]
    },
    {
      "cell_type": "markdown",
      "source": [
        "#**Тема 9**. Функции"
      ],
      "metadata": {
        "id": "LuxrIwoL3AGq"
      }
    },
    {
      "cell_type": "markdown",
      "source": [
        "## **Задание 1**\n",
        "Напишите программу, которая принимает арифметическое выражение в качестве аргумента и выводит результат этого выражения.\n",
        "\n",
        "Примечание:\n",
        "Необходимо использовать функции. Программа должна поддерживать следующие арифметические операции: +, -, /, *, %(получение процента от числа), (возведение в квадрат), х(возведение в степень числа х). Запрещено подключать дополнительные модули. Для вывода результата необходимо использовать функцию print()."
      ],
      "metadata": {
        "id": "4Sc6JU3F7-Y_"
      }
    },
    {
      "cell_type": "code",
      "source": [
        "def calculate(a):\n",
        "    num = ['','']\n",
        "    op = ''\n",
        "    k = 0\n",
        "    m = 0\n",
        "    if a[0] == '-' :\n",
        "        num[0] = '-'\n",
        "        m+=1\n",
        "\n",
        "    while m <= len(a)-1:\n",
        "        if a[m].isdigit() == True:\n",
        "            num[k] = num[k] + a[m]\n",
        "        else:\n",
        "            op = op + a[m]\n",
        "            k=1\n",
        "        m+=1\n",
        "\n",
        "    if op == '+':\n",
        "        return int(num[0]) + int(num[1])\n",
        "    if op == '-' or op == '+-' :\n",
        "        return int(num[0]) - int(num[1])\n",
        "    if op == '/':\n",
        "        return (int(num[0]) // int(num[1]))\n",
        "    if op == '*':\n",
        "        return (int(num[0]) * int(num[1]))\n",
        "    if op == '**':\n",
        "        if num[1] == '':\n",
        "            a = int(num[0])*int(num[0])\n",
        "        else:\n",
        "            a = int(num[0])\n",
        "            c = 0\n",
        "            while c <= int(num[1]):\n",
        "                  a *= int(num[0])\n",
        "                  c+=1\n",
        "        return a\n",
        "    if op == '%':\n",
        "        return (int(num[0]) // 100)\n",
        "\n",
        "print(calculate('-999+956'))\n",
        "print(calculate('100%'))\n",
        "print(calculate('3**9'))\n",
        "print(calculate('2**'))"
      ],
      "metadata": {
        "colab": {
          "base_uri": "https://localhost:8080/"
        },
        "id": "xr_g0LtU8Asm",
        "outputId": "1de2558f-967c-4dbe-dae7-f20403da3b29"
      },
      "execution_count": null,
      "outputs": [
        {
          "output_type": "stream",
          "name": "stdout",
          "text": [
            "-43\n",
            "1\n",
            "177147\n",
            "4\n"
          ]
        }
      ]
    },
    {
      "cell_type": "markdown",
      "source": [
        "#**Тема 10**. Работа с файлами"
      ],
      "metadata": {
        "id": "wBmpfXe8DBCO"
      }
    },
    {
      "cell_type": "markdown",
      "source": [
        "## **Задание 1**\n",
        "1) Программа должна читать исходный текстовый файл\n",
        "2) Программа должна содержать функцию для создания почтовых адресов\n",
        "3) Программа должна заполнить пустой столбец с почтовыми адресами в исходном файле и перезаписать его\n",
        "4) Почтовый адрес должен создаваться только для тех, у кого заполнены все остальные поля - Имя, Фамилия, Телефонный номер, Город\n",
        "5) Телефонный номер считается валидным, если он состоит из 7 цифр, в противном случае информация невалидна и программа не должна создавать почтовый адрес сотруднику"
      ],
      "metadata": {
        "id": "tB5IGIudIEcf"
      }
    },
    {
      "cell_type": "code",
      "source": [
        "def ex(f):\n",
        "   v = f.read()\n",
        "   b = v.split(\"\\n\")\n",
        "   f = []\n",
        "   ind = []\n",
        "   for x in range(len(b)-1):\n",
        "        b[x] = b[x].split(\", \")\n",
        "        c = b[x]\n",
        "        if (c[0] == '') & (c[1] != '') & (c[2] != '') & (c[4] != '') & ((len(c[3]) == 7) & (c[3].isdigit()) == True):\n",
        "            f.append([c[1],c[2]])\n",
        "            ind.append(x)\n",
        "   a = email_gen(f)\n",
        "   k = 0\n",
        "   for i in ind:\n",
        "        c = b[i]\n",
        "        c[0] = a[k]\n",
        "        k+=1\n",
        "   return b\n",
        "\n",
        "def email_gen(list_of_names):\n",
        "    emails = []\n",
        "    for i in list_of_names:\n",
        "        letter = 1\n",
        "        while i[1] + '.' + i[0][0:letter] + '@company.io' in emails:\n",
        "            letter+=1\n",
        "        emails.append(i[1] + '.' + i[0][0:letter] + '@company.io')\n",
        "    return emails\n",
        "\n",
        "def wri(a):\n",
        "    for i in range(len(a)):\n",
        "        a[i] = ', '.join(a[i])\n",
        "    result = '\\n'.join(a)\n",
        "    return result\n",
        "\n",
        "with open(\"task_file.txt\", \"r\") as f:\n",
        "    result = wri(ex(f))\n",
        "    f.close\n",
        "\n",
        "with open(\"task_file.txt\", \"w\") as w:\n",
        "     w.write(result)\n",
        "     w.close\n",
        "\n",
        "\n",
        "\n",
        "\n",
        "\n"
      ],
      "metadata": {
        "id": "fZEvDk-hDbgE",
        "outputId": "a9fccfab-8da9-4f7d-f807-905968066a9e",
        "colab": {
          "base_uri": "https://localhost:8080/",
          "height": 235
        }
      },
      "execution_count": null,
      "outputs": [
        {
          "output_type": "error",
          "ename": "FileNotFoundError",
          "evalue": "ignored",
          "traceback": [
            "\u001b[0;31m---------------------------------------------------------------------------\u001b[0m",
            "\u001b[0;31mFileNotFoundError\u001b[0m                         Traceback (most recent call last)",
            "\u001b[0;32m<ipython-input-1-4260ae5a9f25>\u001b[0m in \u001b[0;36m<cell line: 35>\u001b[0;34m()\u001b[0m\n\u001b[1;32m     33\u001b[0m     \u001b[0;32mreturn\u001b[0m \u001b[0mresult\u001b[0m\u001b[0;34m\u001b[0m\u001b[0;34m\u001b[0m\u001b[0m\n\u001b[1;32m     34\u001b[0m \u001b[0;34m\u001b[0m\u001b[0m\n\u001b[0;32m---> 35\u001b[0;31m \u001b[0;32mwith\u001b[0m \u001b[0mopen\u001b[0m\u001b[0;34m(\u001b[0m\u001b[0;34m\"task_file.txt\"\u001b[0m\u001b[0;34m,\u001b[0m \u001b[0;34m\"r\"\u001b[0m\u001b[0;34m)\u001b[0m \u001b[0;32mas\u001b[0m \u001b[0mf\u001b[0m\u001b[0;34m:\u001b[0m\u001b[0;34m\u001b[0m\u001b[0;34m\u001b[0m\u001b[0m\n\u001b[0m\u001b[1;32m     36\u001b[0m     \u001b[0mresult\u001b[0m \u001b[0;34m=\u001b[0m \u001b[0mwri\u001b[0m\u001b[0;34m(\u001b[0m\u001b[0mex\u001b[0m\u001b[0;34m(\u001b[0m\u001b[0mf\u001b[0m\u001b[0;34m)\u001b[0m\u001b[0;34m)\u001b[0m\u001b[0;34m\u001b[0m\u001b[0;34m\u001b[0m\u001b[0m\n\u001b[1;32m     37\u001b[0m     \u001b[0mf\u001b[0m\u001b[0;34m.\u001b[0m\u001b[0mclose\u001b[0m\u001b[0;34m\u001b[0m\u001b[0;34m\u001b[0m\u001b[0m\n",
            "\u001b[0;31mFileNotFoundError\u001b[0m: [Errno 2] No such file or directory: 'task_file.txt'"
          ]
        }
      ]
    },
    {
      "cell_type": "markdown",
      "source": [
        "#**Тема 11**. Модули"
      ],
      "metadata": {
        "id": "DBV0NGEzKt4f"
      }
    },
    {
      "cell_type": "markdown",
      "source": [
        "## **Задание 1**\n",
        "Генерация надежного пароля"
      ],
      "metadata": {
        "id": "UxfZxbblIhZn"
      }
    },
    {
      "cell_type": "code",
      "source": [
        "import random\n",
        "def randpassword(n):\n",
        "\n",
        "    while n < 12:\n",
        "        print('Пароль слишком короткий. Введите длину не менее 12')\n",
        "        n = int(input())\n",
        "\n",
        "    password = []\n",
        "    int_ = '1234567890'\n",
        "    alphaup = 'ABCDEFGHIJKLMNOPQRSTUVWXYZ'\n",
        "    alphalow = 'abcdefghijklmnopqrstuvwxyz'\n",
        "    symb = '!@#\\$%^&*()-+'\n",
        "\n",
        "    password.append(random.choice(int_))\n",
        "    password.append(random.choice(alphaup))\n",
        "    password.append(random.choice(alphalow))\n",
        "    password.append(random.choice(symb))\n",
        "\n",
        "    for i in range(n-4):\n",
        "        x = random.randint(0, 3)\n",
        "        if x == 0:\n",
        "            z = random.choice(int_)\n",
        "            password.append(z)\n",
        "        if x == 1:\n",
        "            z = random.choice(alphaup)\n",
        "            password.append(z)\n",
        "        if x == 2:\n",
        "            z = random.choice(alphalow)\n",
        "            password.append(z)\n",
        "        if x == 3:\n",
        "            z = random.choice(symb)\n",
        "            password.append(z)\n",
        "\n",
        "    random.shuffle(password)\n",
        "\n",
        "    return ''.join(password)\n",
        "print(randpassword(13))\n"
      ],
      "metadata": {
        "id": "DUJ06AgjKzEB",
        "colab": {
          "base_uri": "https://localhost:8080/"
        },
        "outputId": "7190e955-8518-4c0b-b60c-a7333891cdf9"
      },
      "execution_count": null,
      "outputs": [
        {
          "output_type": "stream",
          "name": "stdout",
          "text": [
            "BJAQczM\\1(9kY\n"
          ]
        }
      ]
    },
    {
      "cell_type": "markdown",
      "source": [
        "# **Вывод**\n",
        "Во время выполнения первой лабораторной работы было проведено ознакомление с языком программирования Python.\n",
        "\n",
        "Рассмотрены некоторые типы данных. Из незнакомых (учитывая то, что я знаком с языками java, haskell) можно выделить эквивалент null - NoneType, комплексные числа, неизменяемые типы, словарь как отдельный тип данных, также интересный тип Memoryview. Все операторы интуитивно понятны. Есть только осбенность в виде приписки \"0b\" для двоичной записи. Условные операторы также не представляют сложности. Разве что нужно понимать приоритет операций. Проведена работа с циклами, \"рисование\" фигур. Реализация циклов не отличается от стандартного их представления в языках.\n",
        "\n",
        "Также рассмотрены функции для работы с типами данных. Есть простые функции, с помощью которых удобно работать с массивами и кортежами. Удобно, что они уже встроены и их можно сразу вызвать.\n",
        "\n",
        "Решено несколько несложных задач, благодаря чему на практике были использованы изученные до этого функции и типы данных.\n",
        "\n",
        "Пока что можно сделать вывод, что язык Python обладает очень простым и понятным синтаксисом, немалым количеством встроенных функций. За довольно короткое время можно понять и реализовать несложные программы."
      ],
      "metadata": {
        "id": "fCmXkWvmv4f5"
      }
    }
  ]
}